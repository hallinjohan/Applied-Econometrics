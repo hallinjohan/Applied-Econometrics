{
 "cells": [
  {
   "cell_type": "code",
   "execution_count": 83,
   "metadata": {},
   "outputs": [],
   "source": [
    "import pandas as pd\n",
    "import numpy as np\n",
    "import matplotlib.pyplot as plt\n",
    "%matplotlib inline\n",
    "import statsmodels.api as sm\n",
    "from stargazer.stargazer import Stargazer\n",
    "import tabulate as tb\n",
    "from statsmodels.iolib.summary2 import summary_col"
   ]
  },
  {
   "cell_type": "code",
   "execution_count": 2,
   "metadata": {},
   "outputs": [
    {
     "data": {
      "text/html": [
       "<div>\n",
       "<style scoped>\n",
       "    .dataframe tbody tr th:only-of-type {\n",
       "        vertical-align: middle;\n",
       "    }\n",
       "\n",
       "    .dataframe tbody tr th {\n",
       "        vertical-align: top;\n",
       "    }\n",
       "\n",
       "    .dataframe thead th {\n",
       "        text-align: right;\n",
       "    }\n",
       "</style>\n",
       "<table border=\"1\" class=\"dataframe\">\n",
       "  <thead>\n",
       "    <tr style=\"text-align: right;\">\n",
       "      <th></th>\n",
       "      <th>state</th>\n",
       "      <th>age</th>\n",
       "      <th>wagesal</th>\n",
       "      <th>imm</th>\n",
       "      <th>hispanic</th>\n",
       "      <th>black</th>\n",
       "      <th>asian</th>\n",
       "      <th>educ</th>\n",
       "      <th>wage</th>\n",
       "      <th>logwage</th>\n",
       "      <th>female</th>\n",
       "      <th>fedwkr</th>\n",
       "      <th>statewkr</th>\n",
       "      <th>localwkr</th>\n",
       "      <th>const</th>\n",
       "    </tr>\n",
       "  </thead>\n",
       "  <tbody>\n",
       "    <tr>\n",
       "      <th>0</th>\n",
       "      <td>11</td>\n",
       "      <td>44</td>\n",
       "      <td>18000</td>\n",
       "      <td>0</td>\n",
       "      <td>0</td>\n",
       "      <td>0</td>\n",
       "      <td>0</td>\n",
       "      <td>14</td>\n",
       "      <td>9.109312</td>\n",
       "      <td>2.209297</td>\n",
       "      <td>1</td>\n",
       "      <td>1</td>\n",
       "      <td>0</td>\n",
       "      <td>0</td>\n",
       "      <td>1</td>\n",
       "    </tr>\n",
       "    <tr>\n",
       "      <th>1</th>\n",
       "      <td>11</td>\n",
       "      <td>39</td>\n",
       "      <td>18000</td>\n",
       "      <td>0</td>\n",
       "      <td>0</td>\n",
       "      <td>0</td>\n",
       "      <td>0</td>\n",
       "      <td>14</td>\n",
       "      <td>18.000000</td>\n",
       "      <td>2.890372</td>\n",
       "      <td>0</td>\n",
       "      <td>0</td>\n",
       "      <td>0</td>\n",
       "      <td>0</td>\n",
       "      <td>1</td>\n",
       "    </tr>\n",
       "    <tr>\n",
       "      <th>2</th>\n",
       "      <td>11</td>\n",
       "      <td>39</td>\n",
       "      <td>35600</td>\n",
       "      <td>0</td>\n",
       "      <td>0</td>\n",
       "      <td>0</td>\n",
       "      <td>0</td>\n",
       "      <td>12</td>\n",
       "      <td>17.115385</td>\n",
       "      <td>2.839978</td>\n",
       "      <td>0</td>\n",
       "      <td>0</td>\n",
       "      <td>0</td>\n",
       "      <td>1</td>\n",
       "      <td>1</td>\n",
       "    </tr>\n",
       "    <tr>\n",
       "      <th>3</th>\n",
       "      <td>11</td>\n",
       "      <td>39</td>\n",
       "      <td>8000</td>\n",
       "      <td>0</td>\n",
       "      <td>0</td>\n",
       "      <td>0</td>\n",
       "      <td>0</td>\n",
       "      <td>14</td>\n",
       "      <td>5.128205</td>\n",
       "      <td>1.634756</td>\n",
       "      <td>1</td>\n",
       "      <td>0</td>\n",
       "      <td>0</td>\n",
       "      <td>0</td>\n",
       "      <td>1</td>\n",
       "    </tr>\n",
       "    <tr>\n",
       "      <th>4</th>\n",
       "      <td>11</td>\n",
       "      <td>39</td>\n",
       "      <td>100000</td>\n",
       "      <td>0</td>\n",
       "      <td>0</td>\n",
       "      <td>0</td>\n",
       "      <td>0</td>\n",
       "      <td>16</td>\n",
       "      <td>38.461538</td>\n",
       "      <td>3.649659</td>\n",
       "      <td>0</td>\n",
       "      <td>1</td>\n",
       "      <td>0</td>\n",
       "      <td>0</td>\n",
       "      <td>1</td>\n",
       "    </tr>\n",
       "  </tbody>\n",
       "</table>\n",
       "</div>"
      ],
      "text/plain": [
       "   state  age  wagesal  imm  hispanic  black  asian  educ       wage  \\\n",
       "0     11   44    18000    0         0      0      0    14   9.109312   \n",
       "1     11   39    18000    0         0      0      0    14  18.000000   \n",
       "2     11   39    35600    0         0      0      0    12  17.115385   \n",
       "3     11   39     8000    0         0      0      0    14   5.128205   \n",
       "4     11   39   100000    0         0      0      0    16  38.461538   \n",
       "\n",
       "    logwage  female  fedwkr  statewkr  localwkr  const  \n",
       "0  2.209297       1       1         0         0      1  \n",
       "1  2.890372       0       0         0         0      1  \n",
       "2  2.839978       0       0         0         1      1  \n",
       "3  1.634756       1       0         0         0      1  \n",
       "4  3.649659       0       1         0         0      1  "
      ]
     },
     "execution_count": 2,
     "metadata": {},
     "output_type": "execute_result"
    }
   ],
   "source": [
    "df = pd.read_csv(\"ovb.csv\")\n",
    "df[\"const\"] = 1\n",
    "df.head()"
   ]
  },
  {
   "cell_type": "code",
   "execution_count": 3,
   "metadata": {},
   "outputs": [],
   "source": []
  },
  {
   "cell_type": "code",
   "execution_count": 44,
   "metadata": {},
   "outputs": [],
   "source": [
    "## Women\n",
    "##Women: Asian = 1, hispanic = 1, imm = 1\n",
    "wasian = dfwomen[(dfwomen.asian == 1)  & (dfwomen.hispanic == 0)]\n",
    "\n",
    "#Women: Hispanic = 1, imm = 1\n",
    "whisp = dfwomen[(dfwomen.hispanic == 1) & (dfwomen.imm== 1)]\n",
    "\n",
    "#Women: Other\n",
    "wother = dfwomen[(dfwomen.black == 1) & (dfwomen.imm == 1)]\n",
    "wasian.count()\n",
    "df['hisp'] = 0\n",
    "df.loc[(df.imm == 1) & (df.hispanic == 1), 'hisp'] = 1\n",
    "df['as'] = 0\n",
    "df.loc[(df.imm == 1) & (df.asian == 1) & (df.hispanic == 0), 'as'] = 1\n",
    "df['oth'] = 0\n",
    "df.loc[(df.imm == 1) & (df.asian == 0) & (df.hispanic == 0), 'oth'] = 1"
   ]
  },
  {
   "cell_type": "code",
   "execution_count": 67,
   "metadata": {},
   "outputs": [],
   "source": [
    "dfwomen = df[df.female == 1]\n",
    "dfmen = df[df.female == 0]"
   ]
  },
  {
   "cell_type": "code",
   "execution_count": 111,
   "metadata": {},
   "outputs": [],
   "source": [
    "reg1 = sm.OLS(endog=dfwomen['logwage'], exog=dfwomen[['const', 'imm']],).fit()\n",
    "\n",
    "\n",
    "reg2 = sm.OLS(endog=dfwomen['logwage'], exog=dfwomen[['const', 'educ']]).fit()\n",
    "\n",
    "\n",
    "reg3 = sm.OLS(endog=dfwomen['imm'], exog=dfwomen[['const', 'educ']]).fit()\n",
    "\n",
    "\n",
    "reg4 = sm.OLS(endog=dfwomen['educ'], exog=dfwomen[['const', 'imm']]).fit()\n",
    "\n",
    "\n",
    "reg5 = sm.OLS(endog=dfwomen['logwage'], exog=dfwomen[['const', 'educ', 'imm']]).fit()\n"
   ]
  },
  {
   "cell_type": "code",
   "execution_count": 112,
   "metadata": {},
   "outputs": [
    {
     "name": "stdout",
     "output_type": "stream",
     "text": [
      "\\begin{table}\n",
      "\\caption{}\n",
      "\\begin{center}\n",
      "\\begin{tabular}{lccccc}\n",
      "\\hline\n",
      "      & (Logwage) I & (Logwage) II & (Logwage) III & (Immigration Status) I & (Education) I  \\\\\n",
      "\\midrule\n",
      "\\midrule\n",
      "const & 2.89***     & 1.23***      & 0.61***       & 14.45***               & 1.24***        \\\\\n",
      "      & (0.01)      & (0.03)       & (0.02)        & (0.03)                 & (0.03)         \\\\\n",
      "educ  &             & 0.11***      & -0.03***      &                        & 0.11***        \\\\\n",
      "      &             & (0.00)       & (0.00)        &                        & (0.00)         \\\\\n",
      "imm   & -0.18***    &              &               & -1.49***               & -0.01          \\\\\n",
      "      & (0.02)      &              &               & (0.07)                 & (0.01)         \\\\\n",
      "N     & 10601       & 10601        & 10601         & 10601                  & 10601          \\\\\n",
      "R2    & 0.01        & 0.22         & 0.04          & 0.04                   & 0.22           \\\\\n",
      "\\hline\n",
      "\\end{tabular}\n",
      "\\end{center}\n",
      "\\end{table}\n"
     ]
    }
   ],
   "source": [
    "print(summary_col([reg1,reg2,reg3, reg4, reg5],stars=True,float_format='%0.2f', regressor_order=['black'],\n",
    "                  model_names = ['(Logwage)','(Logwage)','(Logwage)','(Immigration Status)','(Education)'], info_dict={'N':lambda x: \"{0:d}\".format(int(x.nobs)),\n",
    "                             'R2':lambda x: \"{:.2f}\".format(x.rsquared)}).as_latex())"
   ]
  },
  {
   "cell_type": "code",
   "execution_count": 113,
   "metadata": {},
   "outputs": [],
   "source": [
    "reg1 = sm.OLS(endog=dfmen['logwage'], exog=dfmen[['const', 'imm']],).fit()\n",
    "\n",
    "\n",
    "reg2 = sm.OLS(endog=dfmen['logwage'], exog=dfmen[['const', 'educ']]).fit()\n",
    "\n",
    "\n",
    "reg3 = sm.OLS(endog=dfmen['imm'], exog=dfmen[['const', 'educ']]).fit()\n",
    "\n",
    "\n",
    "reg4 = sm.OLS(endog=dfmen['educ'], exog=dfmen[['const', 'imm']]).fit()\n",
    "\n",
    "\n",
    "reg5 = sm.OLS(endog=dfmen['logwage'], exog=dfmen[['const', 'educ', 'imm']]).fit()\n"
   ]
  },
  {
   "cell_type": "code",
   "execution_count": 114,
   "metadata": {},
   "outputs": [
    {
     "name": "stdout",
     "output_type": "stream",
     "text": [
      "\\begin{table}\n",
      "\\caption{}\n",
      "\\begin{center}\n",
      "\\begin{tabular}{lccccc}\n",
      "\\hline\n",
      "      & (Logwage) I & (Logwage) II & (Logwage) III & (Immigration Status) I & (Education) I  \\\\\n",
      "\\midrule\n",
      "\\midrule\n",
      "const & 3.16***     & 1.61***      & 0.64***       & 14.19***               & 1.66***        \\\\\n",
      "      & (0.01)      & (0.03)       & (0.02)        & (0.03)                 & (0.03)         \\\\\n",
      "educ  &             & 0.11***      & -0.03***      &                        & 0.11***        \\\\\n",
      "      &             & (0.00)       & (0.00)        &                        & (0.00)         \\\\\n",
      "imm   & -0.24***    &              &               & -1.61***               & -0.07***       \\\\\n",
      "      & (0.02)      &              &               & (0.07)                 & (0.01)         \\\\\n",
      "N     & 11306       & 11306        & 11306         & 11306                  & 11306          \\\\\n",
      "R2    & 0.02        & 0.22         & 0.05          & 0.05                   & 0.22           \\\\\n",
      "\\hline\n",
      "\\end{tabular}\n",
      "\\end{center}\n",
      "\\end{table}\n"
     ]
    }
   ],
   "source": [
    "print(summary_col([reg1,reg2,reg3, reg4, reg5],stars=True,float_format='%0.2f', regressor_order=['black'],\n",
    "                  model_names = ['(Logwage)','(Logwage)','(Logwage)','(Immigration Status)','(Education)'], info_dict={'N':lambda x: \"{0:d}\".format(int(x.nobs)),\n",
    "                             'R2':lambda x: \"{:.2f}\".format(x.rsquared)}).as_latex())"
   ]
  },
  {
   "cell_type": "code",
   "execution_count": 108,
   "metadata": {},
   "outputs": [],
   "source": [
    "#Women by et\n",
    "\n",
    "reg = sm.OLS(dfwomen.logwage, dfwomen[['const','as','hisp','oth']]).fit()\n",
    "reg1 = sm.OLS(dfwomen.logwage, dfwomen[['const','educ']]).fit()\n",
    "\n",
    "reg2 = sm.OLS(dfwomen['as'], dfwomen[['const','educ']]).fit()\n",
    "\n",
    "reg3 = sm.OLS(dfwomen['hisp'], dfwomen[['const','educ']]).fit()\n",
    "\n",
    "reg4 = sm.OLS(dfwomen['oth'], dfwomen[['const','educ']]).fit()\n",
    "\n",
    "reg5 = sm.OLS(dfwomen.educ, dfwomen[['const','as','hisp','oth']]).fit()\n",
    "\n"
   ]
  },
  {
   "cell_type": "code",
   "execution_count": 109,
   "metadata": {},
   "outputs": [
    {
     "name": "stdout",
     "output_type": "stream",
     "text": [
      "\\begin{table}\n",
      "\\caption{}\n",
      "\\begin{center}\n",
      "\\begin{tabular}{lcccccc}\n",
      "\\hline\n",
      "      & (Logwage) I & (Logwage) II & (Asian) I & (Hispanic) I & (Other) I & Education I  \\\\\n",
      "\\midrule\n",
      "\\midrule\n",
      "as    & 0.09***     &              &           &              &           & 0.51***      \\\\\n",
      "      & (0.03)      &              &           &              &           & (0.12)       \\\\\n",
      "const & 2.89***     & 1.23***      & -0.02**   & 0.63***      & -0.00     & 14.45***     \\\\\n",
      "      & (0.01)      & (0.03)       & (0.01)    & (0.01)       & (0.01)    & (0.03)       \\\\\n",
      "educ  &             & 0.11***      & 0.01***   & -0.04***     & 0.00***   &              \\\\\n",
      "      &             & (0.00)       & (0.00)    & (0.00)       & (0.00)    &              \\\\\n",
      "hisp  & -0.43***    &              &           &              &           & -3.42***     \\\\\n",
      "      & (0.02)      &              &           &              &           & (0.09)       \\\\\n",
      "oth   & 0.05        &              &           &              &           & 0.28**       \\\\\n",
      "      & (0.03)      &              &           &              &           & (0.12)       \\\\\n",
      "N     & 10601       & 10601        & 10601     & 10601        & 10601     & 10601        \\\\\n",
      "R2    & 0.04        & 0.22         & 0.00      & 0.13         & 0.00      & 0.13         \\\\\n",
      "\\hline\n",
      "\\end{tabular}\n",
      "\\end{center}\n",
      "\\end{table}\n"
     ]
    }
   ],
   "source": [
    "print(summary_col([reg,reg1,reg2, reg3, reg4,reg5],stars=True,float_format='%0.2f', regressor_order=['black'],\n",
    "                  model_names = ['(Logwage)','(Logwage)','(Asian)','(Hispanic)','(Other)','Education'], info_dict={'N':lambda x: \"{0:d}\".format(int(x.nobs)),\n",
    "                             'R2':lambda x: \"{:.2f}\".format(x.rsquared)}).as_latex())"
   ]
  },
  {
   "cell_type": "code",
   "execution_count": 115,
   "metadata": {},
   "outputs": [],
   "source": [
    "##Men\n",
    "\n",
    "reg = sm.OLS(dfmen.logwage, dfmen[['hisp','as','oth','const']]).fit()\n",
    "reg1 = sm.OLS(dfmen.logwage, dfmen[['educ','const']]).fit()\n",
    "\n",
    "reg2 = sm.OLS(dfmen['as'], dfmen[['educ','const']]).fit()\n",
    "\n",
    "reg3 = sm.OLS(dfmen['hisp'], dfmen[['educ','const']]).fit()\n",
    "\n",
    "reg4 = sm.OLS(dfmen['oth'], dfmen[['educ','const']]).fit()\n",
    "\n",
    "reg5 = sm.OLS(dfmen.educ, dfmen[['const','as','hisp','oth']]).fit()\n"
   ]
  },
  {
   "cell_type": "code",
   "execution_count": 117,
   "metadata": {},
   "outputs": [
    {
     "name": "stdout",
     "output_type": "stream",
     "text": [
      "\\begin{table}\n",
      "\\caption{}\n",
      "\\begin{center}\n",
      "\\begin{tabular}{lcccccc}\n",
      "\\hline\n",
      "      & (Logwage) I & (Logwage) II & (Asian) I & (Hispanic) I & (Other) I & Education I  \\\\\n",
      "\\midrule\n",
      "\\midrule\n",
      "as    & 0.07**      &              &           &              &           & 1.26***      \\\\\n",
      "      & (0.03)      &              &           &              &           & (0.12)       \\\\\n",
      "const & 3.16***     & 1.61***      & -0.07***  & 0.74***      & -0.03***  & 14.19***     \\\\\n",
      "      & (0.01)      & (0.03)       & (0.01)    & (0.01)       & (0.01)    & (0.03)       \\\\\n",
      "educ  &             & 0.11***      & 0.01***   & -0.04***     & 0.01***   &              \\\\\n",
      "      &             & (0.00)       & (0.00)    & (0.00)       & (0.00)    &              \\\\\n",
      "hisp  & -0.47***    &              &           &              &           & -3.63***     \\\\\n",
      "      & (0.02)      &              &           &              &           & (0.08)       \\\\\n",
      "oth   & 0.01        &              &           &              &           & 0.67***      \\\\\n",
      "      & (0.03)      &              &           &              &           & (0.12)       \\\\\n",
      "N     & 11306       & 11306        & 11306     & 11306        & 11306     & 11306        \\\\\n",
      "R2    & 0.05        & 0.22         & 0.01      & 0.17         & 0.01      & 0.18         \\\\\n",
      "\\hline\n",
      "\\end{tabular}\n",
      "\\end{center}\n",
      "\\end{table}\n"
     ]
    }
   ],
   "source": [
    "print(summary_col([reg,reg1,reg2, reg3, reg4,reg5],stars=True,float_format='%0.2f', regressor_order=['black'],\n",
    "                  model_names = ['(Logwage)','(Logwage)','(Asian)','(Hispanic)','(Other)','Education'], info_dict={'N':lambda x: \"{0:d}\".format(int(x.nobs)),\n",
    "                             'R2':lambda x: \"{:.2f}\".format(x.rsquared)}).as_latex())"
   ]
  },
  {
   "cell_type": "code",
   "execution_count": null,
   "metadata": {},
   "outputs": [],
   "source": []
  },
  {
   "cell_type": "code",
   "execution_count": null,
   "metadata": {},
   "outputs": [],
   "source": []
  },
  {
   "cell_type": "code",
   "execution_count": null,
   "metadata": {},
   "outputs": [],
   "source": []
  },
  {
   "cell_type": "code",
   "execution_count": null,
   "metadata": {},
   "outputs": [],
   "source": []
  },
  {
   "cell_type": "code",
   "execution_count": null,
   "metadata": {},
   "outputs": [],
   "source": []
  }
 ],
 "metadata": {
  "kernelspec": {
   "display_name": "Python 3",
   "language": "python",
   "name": "python3"
  },
  "language_info": {
   "codemirror_mode": {
    "name": "ipython",
    "version": 3
   },
   "file_extension": ".py",
   "mimetype": "text/x-python",
   "name": "python",
   "nbconvert_exporter": "python",
   "pygments_lexer": "ipython3",
   "version": "3.6.2"
  }
 },
 "nbformat": 4,
 "nbformat_minor": 2
}
