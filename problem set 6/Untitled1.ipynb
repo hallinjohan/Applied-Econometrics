{
 "cells": [
  {
   "cell_type": "code",
   "execution_count": 2,
   "metadata": {},
   "outputs": [],
   "source": [
    "import pandas as pd\n",
    "import numpy as np\n",
    "import statsmodels.api as sm\n",
    "from linearmodels.iv import IV2SLS\n",
    "from statsmodels.iolib.table import (SimpleTable, default_txt_fmt)\n",
    "from statsmodels.iolib.summary2 import summary_col\n"
   ]
  },
  {
   "cell_type": "code",
   "execution_count": 73,
   "metadata": {},
   "outputs": [],
   "source": [
    "df = pd.read_csv(\"welfare.csv\")\n"
   ]
  },
  {
   "cell_type": "code",
   "execution_count": 74,
   "metadata": {},
   "outputs": [],
   "source": [
    "df.dropna(inplace = True)"
   ]
  },
  {
   "cell_type": "code",
   "execution_count": 75,
   "metadata": {},
   "outputs": [
    {
     "data": {
      "text/plain": [
       "imm                    0\n",
       "hsgrad                 0\n",
       "agelt25                0\n",
       "age35p                 0\n",
       "treatment              0\n",
       "working_at_baseline    0\n",
       "anykidsu6              0\n",
       "nevermarried           0\n",
       "ft15                   0\n",
       "ft20                   0\n",
       "ft24                   0\n",
       "ft48                   0\n",
       "welfare15              0\n",
       "welfare20              0\n",
       "welfare24              0\n",
       "welfare48              0\n",
       "dtype: int64"
      ]
     },
     "execution_count": 75,
     "metadata": {},
     "output_type": "execute_result"
    }
   ],
   "source": [
    "df.isnull().sum()"
   ]
  },
  {
   "cell_type": "markdown",
   "metadata": {},
   "source": [
    "#### Estimating the first stage Model\n",
    "\n",
    "##### A) Estimation of the first stage model:"
   ]
  },
  {
   "cell_type": "code",
   "execution_count": 34,
   "metadata": {},
   "outputs": [],
   "source": [
    "def Compute_First_Stage(dta, ft):\n",
    "    Y = dta[ft]\n",
    "    X = dta['treatment']\n",
    "    X = sm.add_constant(X)\n",
    "    \n",
    "    reg = sm.OLS(Y,X).fit()\n",
    "    \n",
    "    return reg\n",
    "\n",
    "#Estimate the first stage models for the probability of \n",
    "#working FT\n",
    "\n",
    "ft_15 = Compute_First_Stage(df,'ft15')\n",
    "ft_20 = Compute_First_Stage(df,'ft20')\n",
    "ft_24 = Compute_First_Stage(df,'ft24')\n",
    "ft_48 = Compute_First_Stage(df,'ft48')"
   ]
  },
  {
   "cell_type": "code",
   "execution_count": null,
   "metadata": {},
   "outputs": [],
   "source": []
  },
  {
   "cell_type": "code",
   "execution_count": 35,
   "metadata": {},
   "outputs": [],
   "source": [
    "def sum_table(results, models, order, name):\n",
    "    info_dict={'R-squared' : lambda x: f\"{x.rsquared:.2f}\",\n",
    "           'No. observations' : lambda x: f\"{int(x.nobs):d}\"}\n",
    "\n",
    "\n",
    "    results_table = summary_col(results= results,\n",
    "                                float_format='%0.4f',\n",
    "                                stars = True,\n",
    "                                model_names= models,\n",
    "                                info_dict=info_dict,\n",
    "                                regressor_order = order)\n",
    "    results_table.add_title(name)\n",
    "    return results_table\n"
   ]
  },
  {
   "cell_type": "code",
   "execution_count": 36,
   "metadata": {},
   "outputs": [
    {
     "name": "stdout",
     "output_type": "stream",
     "text": [
      "Table 1 - First Stage models for the probability of working Ft \n",
      "========================================================\n",
      "                    Ft15      Ft20      Ft24      Ft48  \n",
      "--------------------------------------------------------\n",
      "treatment        0.1427*** 0.1144*** 0.1075*** 0.0506***\n",
      "                 (0.0119)  (0.0119)  (0.0118)  (0.0126) \n",
      "const            0.1514*** 0.1628*** 0.1612*** 0.2337***\n",
      "                 (0.0085)  (0.0085)  (0.0084)  (0.0090) \n",
      "R-squared        0.03      0.02      0.02      0.00     \n",
      "No. observations 4796      4796      4796      4796     \n",
      "========================================================\n",
      "Standard errors in parentheses.\n",
      "* p<.1, ** p<.05, ***p<.01\n"
     ]
    }
   ],
   "source": [
    "First_stage_summary = \\\n",
    "sum_table([ft_15,ft_20,ft_24, ft_48], \\\n",
    "          ['Ft15','Ft20','Ft24','Ft48'], \\\n",
    "         ['constant','treatment'],\\\n",
    "          'Table 1 - First Stage models for the probability of working Ft ')\n",
    "\n",
    "print(First_stage_summary)"
   ]
  },
  {
   "cell_type": "markdown",
   "metadata": {},
   "source": [
    "We can see fromt the first stage regression that: $\\gamma_0$"
   ]
  },
  {
   "cell_type": "code",
   "execution_count": 37,
   "metadata": {},
   "outputs": [
    {
     "name": "stdout",
     "output_type": "stream",
     "text": [
      "======================\n",
      "           π0     π1  \n",
      "----------------------\n",
      "Month 15 0.1514 0.1427\n",
      "Month 20 0.1628 0.1144\n",
      "Month 24 0.1612 0.1075\n",
      "Month 48 0.2337 0.0506\n",
      "----------------------\n"
     ]
    }
   ],
   "source": [
    "summary = np.vstack([[ft_15.params], [ft_20.params],[ft_24.params], [ft_48.params]])\n",
    "summary = summary.round(4)\n",
    "\n",
    "col = ['π0', 'π1']\n",
    "row = ['Month 15', \"Month 20\",'Month 24', 'Month 48']\n",
    "summary_first_stage1 = SimpleTable(summary,col, row, txt_fmt=default_txt_fmt)\n",
    "print(summary_first_stage1)\n",
    "\n",
    "\n"
   ]
  },
  {
   "cell_type": "code",
   "execution_count": 38,
   "metadata": {},
   "outputs": [],
   "source": [
    "def Compute_reduced(dta, welfare):\n",
    "    Y = dta[welfare]\n",
    "    X = dta['treatment']\n",
    "    X = sm.add_constant(X)\n",
    "    \n",
    "    reg = sm.OLS(Y,X).fit()\n",
    "    \n",
    "    return reg\n"
   ]
  },
  {
   "cell_type": "code",
   "execution_count": 39,
   "metadata": {},
   "outputs": [],
   "source": [
    "wf_15 = Compute_reduced(df, 'welfare15')\n",
    "wf_20 = Compute_reduced(df, 'welfare20')\n",
    "wf_24 = Compute_reduced(df, 'welfare24')\n",
    "wf_48 = Compute_reduced(df, 'welfare48')"
   ]
  },
  {
   "cell_type": "code",
   "execution_count": 40,
   "metadata": {},
   "outputs": [
    {
     "name": "stdout",
     "output_type": "stream",
     "text": [
      "Table 2 - Reduced form for the probability of being on Welfare\n",
      "============================================================\n",
      "                 Welfare 15 Welfare 20 Welfare 24 Welfare 48\n",
      "------------------------------------------------------------\n",
      "treatment        -0.1480*** -0.1221*** -0.1075*** -0.0420***\n",
      "                 (0.0126)   (0.0130)   (0.0133)   (0.0143)  \n",
      "const            0.8096***  0.7697***  0.7388***  0.5916*** \n",
      "                 (0.0090)   (0.0093)   (0.0095)   (0.0102)  \n",
      "R-squared        0.03       0.02       0.01       0.00      \n",
      "No. observations 4796       4796       4796       4796      \n",
      "============================================================\n",
      "Standard errors in parentheses.\n",
      "* p<.1, ** p<.05, ***p<.01\n"
     ]
    }
   ],
   "source": [
    "summary_reduced = \\\n",
    "sum_table([wf_15,wf_20,wf_24, wf_48], \\\n",
    "          ['Welfare 15','Welfare 20','Welfare 24','Welfare 48'], \\\n",
    "         ['constant','treatment'],\\\n",
    "          'Table 2 - Reduced form for the probability of being on Welfare')\n",
    "\n",
    "print(summary_reduced)\n",
    "\n"
   ]
  },
  {
   "cell_type": "code",
   "execution_count": 41,
   "metadata": {},
   "outputs": [
    {
     "name": "stdout",
     "output_type": "stream",
     "text": [
      "=======================\n",
      "           γ0      γ1  \n",
      "-----------------------\n",
      "Month 15 0.8096  -0.148\n",
      "Month 20 0.7697 -0.1221\n",
      "Month 24 0.7388 -0.1075\n",
      "Month 48 0.5916  -0.042\n",
      "-----------------------\n"
     ]
    }
   ],
   "source": [
    "summary = np.vstack([[wf_15.params], [wf_20.params],[wf_24.params], [wf_48.params]])\n",
    "summary = summary.round(4)\n",
    "\n",
    "col = ['γ0', 'γ1']\n",
    "row = ['Month 15', \"Month 20\",'Month 24', 'Month 48']\n",
    "summary_first_stage1 = SimpleTable(summary,col, row, txt_fmt=default_txt_fmt)\n",
    "print(summary_first_stage1)\n"
   ]
  },
  {
   "cell_type": "code",
   "execution_count": 42,
   "metadata": {},
   "outputs": [],
   "source": [
    "mod15 = IV2SLS.from_formula('welfare15 ~ 1 + [ft15 ~ treatment]', df).fit()\n",
    "\n",
    "mod20 = IV2SLS.from_formula('welfare20 ~ 1 + [ft20 ~ treatment]', df).fit()\n",
    "\n",
    "mod24 = IV2SLS.from_formula('welfare24 ~ 1 + [ft24 ~ treatment]', df).fit()\n",
    "\n",
    "mod48 = IV2SLS.from_formula('welfare48 ~ 1 + [ft48 ~ treatment]', df).fit()"
   ]
  },
  {
   "cell_type": "code",
   "execution_count": 43,
   "metadata": {},
   "outputs": [
    {
     "name": "stdout",
     "output_type": "stream",
     "text": [
      "===========================\n",
      "         Constant Treatment\n",
      "---------------------------\n",
      "Month 15  0.9666    -1.037 \n",
      "Month 20  0.9434   -1.0667 \n",
      "Month 24  0.8999     -1.0  \n",
      "Month 48  0.7855   -0.8299 \n",
      "---------------------------\n"
     ]
    }
   ],
   "source": [
    "summary2 = np.vstack([[mod15.params], [mod20.params],[mod24.params], [mod48.params]])\n",
    "summary2 = summary2.round(4)\n",
    "\n",
    "col = ['Constant', 'Treatment']\n",
    "row = ['Month 15', \"Month 20\",'Month 24', 'Month 48']\n",
    "\n",
    "summary_second_stage3 = SimpleTable(summary2,col, row, txt_fmt=default_txt_fmt)\n",
    "print(summary_second_stage3)\n"
   ]
  },
  {
   "cell_type": "markdown",
   "metadata": {},
   "source": [
    "| Months | $\\beta^IV$|  $\\frac{\\gamma_1}{\\pi_1}$ |\n",
    "| --- | --- | --- |\n",
    "| Month 15 | -1.037 | $\\frac{-0.148}{0.1427}$ = -1.03714 |\n",
    "| Month 20 | -1.0667 |$\\frac{-0.1221}{0.1144}$ = -1.0673 |\n",
    "| Month 24 | -1.0  | $\\frac{-0.1075}{0.1075}$ = -1.000 |\n",
    "| Month 48 | -0.8299 |$\\frac{-0.042}{0.0506}$ = -0.8300 |"
   ]
  },
  {
   "cell_type": "markdown",
   "metadata": {},
   "source": [
    "#### Problem 2"
   ]
  },
  {
   "cell_type": "code",
   "execution_count": 110,
   "metadata": {},
   "outputs": [],
   "source": [
    "############# First Stage ###############\n",
    "X = df[['treatment', 'imm', 'hsgrad', 'agelt25', 'working_at_baseline',\n",
    "       'anykidsu6','nevermarried']]\n",
    "X = sm.add_constant(X)\n",
    "Y = df['ft15']\n",
    "reg = sm.OLS(Y,X).fit()\n",
    "\n",
    "############# Reduced Form###############\n",
    "X1 = df[['treatment', 'imm', 'hsgrad', 'agelt25', 'working_at_baseline',\n",
    "       'anykidsu6','nevermarried']]\n",
    "X1 = sm.add_constant(X)\n",
    "\n",
    "Y1 = df['welfare15']\n",
    "reg_rf1 = sm.OLS(Y,X).fit()\n",
    "\n",
    "############# OLS Casual Model###############\n",
    "X2 = df[['imm','ft15','hsgrad','agelt25','age35p','working_at_baseline','anykidsu6','nevermarried']]\n",
    "X2 = sm.add_constant(X2)\n",
    "\n",
    "Y2 = df['welfare15']\n",
    "\n",
    "reg_rf2 = sm.OLS(Y2,X2).fit()\n",
    "\n",
    "############# IV Casual Model###############\n",
    "X3 = df[['imm','hsgrad','agelt25','age35p','working_at_baseline','anykidsu6','nevermarried']]\n",
    "\n",
    "mod15 = IV2SLS.from_formula('welfare15 ~ [ft15 ~ treatment] + imm + hsgrad + agelt25 + working_at_baseline + anykidsu6 + nevermarried + age35p + 1', df).fit()\n",
    "\n",
    "\n"
   ]
  },
  {
   "cell_type": "code",
   "execution_count": 107,
   "metadata": {},
   "outputs": [
    {
     "name": "stdout",
     "output_type": "stream",
     "text": [
      "Table 3 - Reduced form for the probability of being on Welfare\n",
      "=======================================================\n",
      "                    First Stage Reduced Form    OLS    \n",
      "-------------------------------------------------------\n",
      "treatment           0.1422***   -0.1475***             \n",
      "                    (0.0113)    (0.0122)               \n",
      "ft15                                         -0.5375***\n",
      "                                             (0.0134)  \n",
      "imm                 -0.0556***  0.0405**     0.0083    \n",
      "                    (0.0170)    (0.0183)     (0.0161)  \n",
      "hsgrad              0.0924***   -0.1053***   -0.0574***\n",
      "                    (0.0115)    (0.0124)     (0.0109)  \n",
      "agelt25             0.0178      -0.0336*     -0.0208   \n",
      "                    (0.0169)    (0.0182)     (0.0160)  \n",
      "working_at_baseline 0.2715***   -0.2223***   -0.0755***\n",
      "                    (0.0146)    (0.0157)     (0.0143)  \n",
      "anykidsu6           -0.0054     -0.0057      0.0081    \n",
      "                    (0.0128)    (0.0138)     (0.0132)  \n",
      "nevermarried        -0.0013     0.0280**     0.0350*** \n",
      "                    (0.0126)    (0.0136)     (0.0123)  \n",
      "age35p                                       0.0410*** \n",
      "                                             (0.0140)  \n",
      "const               0.0643***   0.8910***    0.8645*** \n",
      "                    (0.0126)    (0.0136)     (0.0137)  \n",
      "R-squared           0.12        0.09         0.30      \n",
      "No. observations    4796        4796         4796      \n",
      "=======================================================\n",
      "Standard errors in parentheses.\n",
      "* p<.1, ** p<.05, ***p<.01\n"
     ]
    }
   ],
   "source": [
    "x = sum_table([reg_rf1, reg_rf, reg_rf2], \\\n",
    "          [ 'First Stage','Reduced Form', 'OLS'], \\\n",
    "         ['treatment','ft15', 'imm', 'hsgrad', 'agelt25', 'working_at_baseline',\n",
    "       'anykidsu6','nevermarried'],\\\n",
    "          'Table 3 - Reduced form for the probability of being on Welfare')\n",
    "\n",
    "print(x)"
   ]
  },
  {
   "cell_type": "markdown",
   "metadata": {},
   "source": [
    "#### I did not know how to proceed adding the instrumental variable regression into my table. The table below is the iV regression."
   ]
  },
  {
   "cell_type": "code",
   "execution_count": 111,
   "metadata": {},
   "outputs": [
    {
     "name": "stdout",
     "output_type": "stream",
     "text": [
      "                          IV-2SLS Estimation Summary                          \n",
      "==============================================================================\n",
      "Dep. Variable:              welfare15   R-squared:                      0.0972\n",
      "Estimator:                    IV-2SLS   Adj. R-squared:                 0.0957\n",
      "No. Observations:                4796   F-statistic:                    475.23\n",
      "Date:                Wed, Mar 13 2019   P-value (F-stat)                0.0000\n",
      "Time:                        17:44:30   Distribution:                  chi2(8)\n",
      "Cov. Estimator:                robust                                         \n",
      "                                                                              \n",
      "                                  Parameter Estimates                                  \n",
      "=======================================================================================\n",
      "                     Parameter  Std. Err.     T-stat    P-value    Lower CI    Upper CI\n",
      "---------------------------------------------------------------------------------------\n",
      "Intercept               0.9463     0.0203     46.666     0.0000      0.9066      0.9860\n",
      "imm                    -0.0186     0.0171    -1.0833     0.2787     -0.0521      0.0150\n",
      "hsgrad                 -0.0098     0.0149    -0.6565     0.5115     -0.0391      0.0195\n",
      "agelt25                -0.0139     0.0189    -0.7371     0.4611     -0.0509      0.0231\n",
      "working_at_baseline     0.0589     0.0302     1.9527     0.0509     -0.0002      0.1181\n",
      "anykidsu6              -0.0044     0.0150    -0.2903     0.7716     -0.0339      0.0251\n",
      "nevermarried            0.0305     0.0138     2.2034     0.0276      0.0034      0.0576\n",
      "age35p                  0.0187     0.0157     1.1908     0.2337     -0.0121      0.0495\n",
      "ft15                   -1.0359     0.0855    -12.118     0.0000     -1.2035     -0.8684\n",
      "=======================================================================================\n",
      "\n",
      "Endogenous: ft15\n",
      "Instruments: treatment\n",
      "Robust Covariance (Heteroskedastic)\n",
      "Debiased: False\n"
     ]
    }
   ],
   "source": [
    "print(mod15)"
   ]
  },
  {
   "cell_type": "markdown",
   "metadata": {},
   "source": [
    "Yes there is a slight difference in the probabilities in the coefficient. For example, for the IV model, without the other covariates, ft15 is roughly- 1.037 whereas when the covariates are included ft15 is roughly"
   ]
  }
 ],
 "metadata": {
  "kernelspec": {
   "display_name": "Python 3",
   "language": "python",
   "name": "python3"
  },
  "language_info": {
   "codemirror_mode": {
    "name": "ipython",
    "version": 3
   },
   "file_extension": ".py",
   "mimetype": "text/x-python",
   "name": "python",
   "nbconvert_exporter": "python",
   "pygments_lexer": "ipython3",
   "version": "3.6.2"
  }
 },
 "nbformat": 4,
 "nbformat_minor": 2
}
