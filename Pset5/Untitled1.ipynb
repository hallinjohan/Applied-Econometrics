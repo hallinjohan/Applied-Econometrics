{
 "cells": [
  {
   "cell_type": "code",
   "execution_count": 104,
   "metadata": {},
   "outputs": [],
   "source": [
    "import pandas as pd\n",
    "import numpy as np\n",
    "import statsmodels.api as sm\n",
    "import matplotlib.pyplot as plt\n",
    "%matplotlib inline\n",
    "import seaborn as sns\n",
    "from statsmodels.iolib.table import (SimpleTable, default_txt_fmt)\n",
    "from prettytable import PrettyTable\n",
    "\n"
   ]
  },
  {
   "cell_type": "code",
   "execution_count": 141,
   "metadata": {},
   "outputs": [],
   "source": [
    "df = pd.read_csv(\"bydegree.csv\")\n",
    "df.head()\n",
    "df = df.assign(Male = np.where(df['female'] == 0,1, 0))\n",
    "sex_map = {\n",
    "    0: \"M\",\n",
    "    1: \"F\"\n",
    "}\n",
    "df['SEX'] = df['female'].map(sex_map)"
   ]
  },
  {
   "cell_type": "code",
   "execution_count": 37,
   "metadata": {},
   "outputs": [],
   "source": [
    "# #Hispanic\n",
    "# df['hisp'] = 0\n",
    "# df.loc[(df.hispanic == 1), 'hisp'] = 1\n",
    "# # White non-hispanic people\n",
    "# df['white'] = 0\n",
    "# df.loc[(df.race == 1) & (df.hispanic == 0 ),'white'] = 1\n",
    "# #Black non-hispanic people\n",
    "# df['black'] = 0\n",
    "# df.loc[(df.race == 2) & (df.hispanic == 0), 'black'] = 1\n",
    "# #asian non-hispanic people\n",
    "# df['asian'] = 0\n",
    "# df.loc[(df.race == 3) & (df.hispanic == 0), 'asian'] = 1\n",
    "# #other non-hispanic people\n",
    "# df['other'] = 0\n",
    "# df.loc[(df.race == 4) & (df.hispanic == 0), 'other'] = 1"
   ]
  },
  {
   "cell_type": "code",
   "execution_count": 38,
   "metadata": {},
   "outputs": [],
   "source": [
    "df = df.assign(\\\n",
    "        white = \\\n",
    "        np.where((df['race'] == 1) & (df['hispanic'] == 0), 1, 0),\n",
    "         b_nonhisp =\\\n",
    "        np.where((df['race'] == 2) & (df['hispanic'] == 0), 1, 0),\n",
    "         a_nonhisp = \\\n",
    "        np.where((df['race'] == 3) & (df['hispanic'] == 0), 1, 0),\n",
    "         o_nonhisp = \\\n",
    "            np.where((df['race'] == 4) & (df['hispanic'] == 0), 1, 0))\n",
    "\n",
    "\n"
   ]
  },
  {
   "cell_type": "code",
   "execution_count": 39,
   "metadata": {},
   "outputs": [],
   "source": [
    "conditions = [(df['hispanic'] == 1),\n",
    "              (df['b_nonhisp'] == 1),\n",
    "              (df['white'] == 1),\n",
    "              (df['a_nonhisp'] == 1),\n",
    "              (df['o_nonhisp'] == 1)]\n",
    "\n",
    "choices = ['Hispanic',\"Black Non-hispanic\", \"White Non-hispanic\",\\\n",
    "           \"Asian Non-hispanic\",\"Other Non-hispanic\"]\n",
    "df = df.assign(race_var = np.select(conditions,choices))"
   ]
  },
  {
   "cell_type": "code",
   "execution_count": 40,
   "metadata": {},
   "outputs": [],
   "source": [
    "df['Sex'] = np.where(df.female == 1, \"Female\", \"Male\")"
   ]
  },
  {
   "cell_type": "code",
   "execution_count": 41,
   "metadata": {},
   "outputs": [],
   "source": [
    "fem_Q1p1 = [df.loc[df[\"hispanic\"] == 1].female.describe()[1],\n",
    "            df.loc[df[\"b_nonhisp\"] == 1].female.describe()[1],\n",
    "            df.loc[df[\"white\"] == 1].female.describe()[1],\n",
    "            df.loc[df[\"a_nonhisp\"] == 1].female.describe()[1],\n",
    "            df.loc[df[\"o_nonhisp\"] == 1].female.describe()[1]]\n"
   ]
  },
  {
   "cell_type": "code",
   "execution_count": 42,
   "metadata": {},
   "outputs": [],
   "source": [
    "Ethnicity = [\"Hispanic\",\"Black Non-Hispanic\", \"White Non-Hispanic\", \"Asian Non-Hispanic\", \"Other Non-Hispanic\"]\n",
    "col = {\"Female.Percentage\": fem_Q1p1}\n",
    "\n",
    "Q1p1 = pd.DataFrame(col)\n",
    "Q1p1[\"Male.Percentage\"] = 1 - Q1p1['Female.Percentage']\n",
    "Q1p1.index = Ethnicity\n",
    "Q1p1['Ethnicity'] = Q1p1.index"
   ]
  },
  {
   "cell_type": "code",
   "execution_count": 43,
   "metadata": {},
   "outputs": [
    {
     "data": {
      "text/plain": [
       "<matplotlib.axes._subplots.AxesSubplot at 0x122fac630>"
      ]
     },
     "execution_count": 43,
     "metadata": {},
     "output_type": "execute_result"
    },
    {
     "data": {
      "image/png": "[encoded data removed]",
      "text/plain": [
       "<Figure size 432x288 with 1 Axes>"
      ]
     },
     "metadata": {},
     "output_type": "display_data"
    }
   ],
   "source": [
    "sns.set()\n",
    "Q1p1.set_index('Ethnicity').plot(kind='bar', stacked=True)"
   ]
  },
  {
   "cell_type": "code",
   "execution_count": 159,
   "metadata": {},
   "outputs": [],
   "source": [
    "Q2a = df.pivot_table( values = 'female', index = 'mfield',aggfunc= 'sum')\n",
    "\n",
    "Q2a = Q2a.join(df.pivot_table(values = 'Male', index = 'mfield',aggfunc= 'sum'), on = Q2a.index)\n",
    "\n",
    "Q2a['female'] = Q2a['female'] / df.female.sum()\n",
    "Q2a['Male'] = Q2a['Male'] / df.Male.sum()\n",
    "\n",
    "\n",
    "\n",
    "\n"
   ]
  },
  {
   "cell_type": "code",
   "execution_count": 160,
   "metadata": {},
   "outputs": [
    {
     "data": {
      "text/html": [
       "<div>\n",
       "<style scoped>\n",
       "    .dataframe tbody tr th:only-of-type {\n",
       "        vertical-align: middle;\n",
       "    }\n",
       "\n",
       "    .dataframe tbody tr th {\n",
       "        vertical-align: top;\n",
       "    }\n",
       "\n",
       "    .dataframe thead th {\n",
       "        text-align: right;\n",
       "    }\n",
       "</style>\n",
       "<table border=\"1\" class=\"dataframe\">\n",
       "  <thead>\n",
       "    <tr style=\"text-align: right;\">\n",
       "      <th></th>\n",
       "      <th>female</th>\n",
       "      <th>Male</th>\n",
       "      <th>Female_logwage</th>\n",
       "      <th>Male_logwage</th>\n",
       "    </tr>\n",
       "    <tr>\n",
       "      <th>mfield</th>\n",
       "      <th></th>\n",
       "      <th></th>\n",
       "      <th></th>\n",
       "      <th></th>\n",
       "    </tr>\n",
       "  </thead>\n",
       "  <tbody>\n",
       "    <tr>\n",
       "      <th>1</th>\n",
       "      <td>0.070663</td>\n",
       "      <td>0.050919</td>\n",
       "      <td>7.015018</td>\n",
       "      <td>7.108538</td>\n",
       "    </tr>\n",
       "    <tr>\n",
       "      <th>2</th>\n",
       "      <td>0.030315</td>\n",
       "      <td>0.086712</td>\n",
       "      <td>7.169401</td>\n",
       "      <td>7.340410</td>\n",
       "    </tr>\n",
       "    <tr>\n",
       "      <th>3</th>\n",
       "      <td>0.106942</td>\n",
       "      <td>0.035952</td>\n",
       "      <td>6.770255</td>\n",
       "      <td>6.888829</td>\n",
       "    </tr>\n",
       "    <tr>\n",
       "      <th>4</th>\n",
       "      <td>0.024072</td>\n",
       "      <td>0.128339</td>\n",
       "      <td>7.323996</td>\n",
       "      <td>7.397082</td>\n",
       "    </tr>\n",
       "    <tr>\n",
       "      <th>5</th>\n",
       "      <td>0.122845</td>\n",
       "      <td>0.100042</td>\n",
       "      <td>6.968322</td>\n",
       "      <td>7.197572</td>\n",
       "    </tr>\n",
       "    <tr>\n",
       "      <th>6</th>\n",
       "      <td>0.260258</td>\n",
       "      <td>0.277531</td>\n",
       "      <td>7.072464</td>\n",
       "      <td>7.229572</td>\n",
       "    </tr>\n",
       "    <tr>\n",
       "      <th>7</th>\n",
       "      <td>0.071781</td>\n",
       "      <td>0.090619</td>\n",
       "      <td>6.993337</td>\n",
       "      <td>7.089232</td>\n",
       "    </tr>\n",
       "    <tr>\n",
       "      <th>8</th>\n",
       "      <td>0.117658</td>\n",
       "      <td>0.095581</td>\n",
       "      <td>6.920830</td>\n",
       "      <td>7.053048</td>\n",
       "    </tr>\n",
       "    <tr>\n",
       "      <th>9</th>\n",
       "      <td>0.105389</td>\n",
       "      <td>0.021909</td>\n",
       "      <td>7.193518</td>\n",
       "      <td>7.319011</td>\n",
       "    </tr>\n",
       "    <tr>\n",
       "      <th>10</th>\n",
       "      <td>0.090076</td>\n",
       "      <td>0.112396</td>\n",
       "      <td>6.881126</td>\n",
       "      <td>7.091698</td>\n",
       "    </tr>\n",
       "  </tbody>\n",
       "</table>\n",
       "</div>"
      ],
      "text/plain": [
       "          female      Male  Female_logwage  Male_logwage\n",
       "mfield                                                  \n",
       "1       0.070663  0.050919        7.015018      7.108538\n",
       "2       0.030315  0.086712        7.169401      7.340410\n",
       "3       0.106942  0.035952        6.770255      6.888829\n",
       "4       0.024072  0.128339        7.323996      7.397082\n",
       "5       0.122845  0.100042        6.968322      7.197572\n",
       "6       0.260258  0.277531        7.072464      7.229572\n",
       "7       0.071781  0.090619        6.993337      7.089232\n",
       "8       0.117658  0.095581        6.920830      7.053048\n",
       "9       0.105389  0.021909        7.193518      7.319011\n",
       "10      0.090076  0.112396        6.881126      7.091698"
      ]
     },
     "execution_count": 160,
     "metadata": {},
     "output_type": "execute_result"
    }
   ],
   "source": [
    "log_wage = df.pivot_table(values = 'logwage',columns = \"SEX\",\\\n",
    "                          index = 'mfield', aggfunc = 'mean')\n",
    "log_wage.columns = ['Female_logwage', 'Male_logwage']\n",
    "Q2a = Q2a.join(log_wage, on = Q2a.index)\n",
    "Q2a\n"
   ]
  },
  {
   "cell_type": "code",
   "execution_count": 162,
   "metadata": {},
   "outputs": [],
   "source": [
    "Q2a['gap'] = Q2a.Male_logwage - Q2a.Female_logwage"
   ]
  },
  {
   "cell_type": "code",
   "execution_count": 163,
   "metadata": {},
   "outputs": [
    {
     "data": {
      "text/html": [
       "<div>\n",
       "<style scoped>\n",
       "    .dataframe tbody tr th:only-of-type {\n",
       "        vertical-align: middle;\n",
       "    }\n",
       "\n",
       "    .dataframe tbody tr th {\n",
       "        vertical-align: top;\n",
       "    }\n",
       "\n",
       "    .dataframe thead th {\n",
       "        text-align: right;\n",
       "    }\n",
       "</style>\n",
       "<table border=\"1\" class=\"dataframe\">\n",
       "  <thead>\n",
       "    <tr style=\"text-align: right;\">\n",
       "      <th></th>\n",
       "      <th>female</th>\n",
       "      <th>Male</th>\n",
       "      <th>Female_logwage</th>\n",
       "      <th>Male_logwage</th>\n",
       "      <th>gap</th>\n",
       "    </tr>\n",
       "    <tr>\n",
       "      <th>mfield</th>\n",
       "      <th></th>\n",
       "      <th></th>\n",
       "      <th></th>\n",
       "      <th></th>\n",
       "      <th></th>\n",
       "    </tr>\n",
       "  </thead>\n",
       "  <tbody>\n",
       "    <tr>\n",
       "      <th>1</th>\n",
       "      <td>0.070663</td>\n",
       "      <td>0.050919</td>\n",
       "      <td>7.015018</td>\n",
       "      <td>7.108538</td>\n",
       "      <td>0.093520</td>\n",
       "    </tr>\n",
       "    <tr>\n",
       "      <th>2</th>\n",
       "      <td>0.030315</td>\n",
       "      <td>0.086712</td>\n",
       "      <td>7.169401</td>\n",
       "      <td>7.340410</td>\n",
       "      <td>0.171009</td>\n",
       "    </tr>\n",
       "    <tr>\n",
       "      <th>3</th>\n",
       "      <td>0.106942</td>\n",
       "      <td>0.035952</td>\n",
       "      <td>6.770255</td>\n",
       "      <td>6.888829</td>\n",
       "      <td>0.118574</td>\n",
       "    </tr>\n",
       "    <tr>\n",
       "      <th>4</th>\n",
       "      <td>0.024072</td>\n",
       "      <td>0.128339</td>\n",
       "      <td>7.323996</td>\n",
       "      <td>7.397082</td>\n",
       "      <td>0.073086</td>\n",
       "    </tr>\n",
       "    <tr>\n",
       "      <th>5</th>\n",
       "      <td>0.122845</td>\n",
       "      <td>0.100042</td>\n",
       "      <td>6.968322</td>\n",
       "      <td>7.197572</td>\n",
       "      <td>0.229249</td>\n",
       "    </tr>\n",
       "    <tr>\n",
       "      <th>6</th>\n",
       "      <td>0.260258</td>\n",
       "      <td>0.277531</td>\n",
       "      <td>7.072464</td>\n",
       "      <td>7.229572</td>\n",
       "      <td>0.157107</td>\n",
       "    </tr>\n",
       "    <tr>\n",
       "      <th>7</th>\n",
       "      <td>0.071781</td>\n",
       "      <td>0.090619</td>\n",
       "      <td>6.993337</td>\n",
       "      <td>7.089232</td>\n",
       "      <td>0.095895</td>\n",
       "    </tr>\n",
       "    <tr>\n",
       "      <th>8</th>\n",
       "      <td>0.117658</td>\n",
       "      <td>0.095581</td>\n",
       "      <td>6.920830</td>\n",
       "      <td>7.053048</td>\n",
       "      <td>0.132218</td>\n",
       "    </tr>\n",
       "    <tr>\n",
       "      <th>9</th>\n",
       "      <td>0.105389</td>\n",
       "      <td>0.021909</td>\n",
       "      <td>7.193518</td>\n",
       "      <td>7.319011</td>\n",
       "      <td>0.125493</td>\n",
       "    </tr>\n",
       "    <tr>\n",
       "      <th>10</th>\n",
       "      <td>0.090076</td>\n",
       "      <td>0.112396</td>\n",
       "      <td>6.881126</td>\n",
       "      <td>7.091698</td>\n",
       "      <td>0.210572</td>\n",
       "    </tr>\n",
       "  </tbody>\n",
       "</table>\n",
       "</div>"
      ],
      "text/plain": [
       "          female      Male  Female_logwage  Male_logwage       gap\n",
       "mfield                                                            \n",
       "1       0.070663  0.050919        7.015018      7.108538  0.093520\n",
       "2       0.030315  0.086712        7.169401      7.340410  0.171009\n",
       "3       0.106942  0.035952        6.770255      6.888829  0.118574\n",
       "4       0.024072  0.128339        7.323996      7.397082  0.073086\n",
       "5       0.122845  0.100042        6.968322      7.197572  0.229249\n",
       "6       0.260258  0.277531        7.072464      7.229572  0.157107\n",
       "7       0.071781  0.090619        6.993337      7.089232  0.095895\n",
       "8       0.117658  0.095581        6.920830      7.053048  0.132218\n",
       "9       0.105389  0.021909        7.193518      7.319011  0.125493\n",
       "10      0.090076  0.112396        6.881126      7.091698  0.210572"
      ]
     },
     "execution_count": 163,
     "metadata": {},
     "output_type": "execute_result"
    }
   ],
   "source": []
  },
  {
   "cell_type": "code",
   "execution_count": null,
   "metadata": {},
   "outputs": [],
   "source": [
    "female"
   ]
  },
  {
   "cell_type": "code",
   "execution_count": null,
   "metadata": {},
   "outputs": [],
   "source": []
  },
  {
   "cell_type": "code",
   "execution_count": null,
   "metadata": {},
   "outputs": [],
   "source": []
  }
 ],
 "metadata": {
  "kernelspec": {
   "display_name": "Python 3",
   "language": "python",
   "name": "python3"
  },
  "language_info": {
   "codemirror_mode": {
    "name": "ipython",
    "version": 3
   },
   "file_extension": ".py",
   "mimetype": "text/x-python",
   "name": "python",
   "nbconvert_exporter": "python",
   "pygments_lexer": "ipython3",
   "version": "3.6.2"
  }
 },
 "nbformat": 4,
 "nbformat_minor": 2
}
