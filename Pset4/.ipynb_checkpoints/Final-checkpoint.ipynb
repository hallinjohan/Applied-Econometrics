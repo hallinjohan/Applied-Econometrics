{
 "cells": [
  {
   "cell_type": "code",
   "execution_count": 1,
   "metadata": {},
   "outputs": [],
   "source": [
    "import pandas as pd\n",
    "import numpy as np\n",
    "import statsmodels.api as sm\n",
    "from scipy import stats\n",
    "from statsmodels.iolib.table import (SimpleTable, default_txt_fmt)\n"
   ]
  },
  {
   "cell_type": "code",
   "execution_count": 9,
   "metadata": {},
   "outputs": [],
   "source": [
    "df = pd.read_csv(\"ovb.csv\")\n",
    "df['const'] = 1"
   ]
  },
  {
   "cell_type": "code",
   "execution_count": 10,
   "metadata": {},
   "outputs": [],
   "source": [
    "#Collecting women in the data:\n",
    "dfwomen = df[df.female == 1]"
   ]
  },
  {
   "cell_type": "code",
   "execution_count": 7,
   "metadata": {},
   "outputs": [
    {
     "name": "stdout",
     "output_type": "stream",
     "text": [
      "The correlation coefficient squared between education and logwage of women is: 0.22388700299289635\n"
     ]
    }
   ],
   "source": [
    "#Correlation Coefficient:\n",
    "corr_sq = np.corrcoef(dfwomen.educ, dfwomen.logwage)[1][0]**2\n",
    "\n",
    "print(\"The correlation coefficient squared between education and logwage of women is: {}\".format(corr_sq))"
   ]
  },
  {
   "cell_type": "code",
   "execution_count": 16,
   "metadata": {},
   "outputs": [],
   "source": [
    "reg = sm.OLS(dfwomen.logwage, dfwomen[['educ', 'const']]).fit()\n"
   ]
  },
  {
   "cell_type": "code",
   "execution_count": 21,
   "metadata": {},
   "outputs": [],
   "source": [
    "sumtable = np.vstack([[reg.rsquared], [corr_sq]])\n",
    "sumtable = np.round(sumtable, 6)\n",
    "col = [' R**2 vs Corr Coef' ]\n",
    "row = ['Rsquared','corrsquared' ]\n",
    "tb1 = SimpleTable(sumtable,col, row, txt_fmt=default_txt_fmt)"
   ]
  },
  {
   "cell_type": "code",
   "execution_count": 22,
   "metadata": {},
   "outputs": [
    {
     "name": "stdout",
     "output_type": "stream",
     "text": [
      "==============================\n",
      "             R**2 vs Corr Coef\n",
      "------------------------------\n",
      "Rsquared         0.223887     \n",
      "corrsquared      0.223887     \n",
      "------------------------------\n"
     ]
    }
   ],
   "source": [
    "print(tb1)"
   ]
  },
  {
   "cell_type": "markdown",
   "metadata": {},
   "source": [
    "### 3\n",
    "\n",
    "#### a) \n",
    "The unpooled t-test shows that the mean difference between female immigrants and female non-immigrant logwages are significant. \n",
    "        t-test = -1111.506"
   ]
  },
  {
   "cell_type": "code",
   "execution_count": 81,
   "metadata": {},
   "outputs": [
    {
     "name": "stdout",
     "output_type": "stream",
     "text": [
      "The mean of female non-immigrants: 2.886378280700209\n",
      "The standard error of female non-immigrants: 0.0051014224397050185\n"
     ]
    }
   ],
   "source": [
    "#Mean and standard error imm = 0: X\n",
    "Mx = dfwomen.loc[dfwomen['imm'] == 0].logwage.mean()\n",
    "sex = stats.sem(df.loc[df['imm'] == 0].logwage)\n",
    "nx = dfwomen.loc[dfwomen['imm'] == 1].logwage.count()\n",
    "\n",
    "print(\"The mean of female non-immigrants: {}\".format(Mx))\n",
    "print(\"The standard error of female non-immigrants: {}\".format(sex))\n"
   ]
  },
  {
   "cell_type": "code",
   "execution_count": 82,
   "metadata": {},
   "outputs": [
    {
     "name": "stdout",
     "output_type": "stream",
     "text": [
      "The mean of female immigrants: 2.706392526468514\n",
      "The standard error of female immigrants: 0.011012508469630942\n"
     ]
    }
   ],
   "source": [
    "#Mean and standard error imm = 1: Y\n",
    "My = dfwomen.loc[dfwomen['imm'] == 1].logwage.mean()\n",
    "sey = stats.sem(df.loc[df['imm'] == 1].logwage)\n",
    "ny = dfwomen.loc[dfwomen['imm'] == 1].logwage.count()\n",
    "\n",
    "print(\"The mean of female immigrants: {}\".format(My))\n",
    "print(\"The standard error of female immigrants: {}\".format(sey))\n"
   ]
  },
  {
   "cell_type": "markdown",
   "metadata": {},
   "source": [
    "##### Test statistic:"
   ]
  },
  {
   "cell_type": "code",
   "execution_count": 83,
   "metadata": {},
   "outputs": [
    {
     "name": "stdout",
     "output_type": "stream",
     "text": [
      "The unpooled t-test for the difference: -1111.5067433677216\n",
      "Difference in mean: -0.17998575423169516\n"
     ]
    }
   ],
   "source": [
    "ttest = (My-Mx) / np.sqrt((sex**2 / nx) + (sex**2 / ny))\n",
    "print(\"The unpooled t-test for the difference: {}\".format(ttest))\n",
    "print('Difference in mean: {}'.format(My-Mx))"
   ]
  },
  {
   "cell_type": "markdown",
   "metadata": {},
   "source": [
    "#### b)"
   ]
  },
  {
   "cell_type": "code",
   "execution_count": 79,
   "metadata": {},
   "outputs": [
    {
     "data": {
      "text/html": [
       "<table class=\"simpletable\">\n",
       "<caption>OLS Regression Results</caption>\n",
       "<tr>\n",
       "  <th>Dep. Variable:</th>         <td>logwage</td>     <th>  R-squared:         </th> <td>   0.011</td> \n",
       "</tr>\n",
       "<tr>\n",
       "  <th>Model:</th>                   <td>OLS</td>       <th>  Adj. R-squared:    </th> <td>   0.011</td> \n",
       "</tr>\n",
       "<tr>\n",
       "  <th>Method:</th>             <td>Least Squares</td>  <th>  F-statistic:       </th> <td>   118.5</td> \n",
       "</tr>\n",
       "<tr>\n",
       "  <th>Date:</th>             <td>Wed, 27 Feb 2019</td> <th>  Prob (F-statistic):</th> <td>1.85e-27</td> \n",
       "</tr>\n",
       "<tr>\n",
       "  <th>Time:</th>                 <td>17:25:06</td>     <th>  Log-Likelihood:    </th> <td> -10701.</td> \n",
       "</tr>\n",
       "<tr>\n",
       "  <th>No. Observations:</th>      <td> 10601</td>      <th>  AIC:               </th> <td>2.141e+04</td>\n",
       "</tr>\n",
       "<tr>\n",
       "  <th>Df Residuals:</th>          <td> 10599</td>      <th>  BIC:               </th> <td>2.142e+04</td>\n",
       "</tr>\n",
       "<tr>\n",
       "  <th>Df Model:</th>              <td>     1</td>      <th>                     </th>     <td> </td>    \n",
       "</tr>\n",
       "<tr>\n",
       "  <th>Covariance Type:</th>      <td>nonrobust</td>    <th>                     </th>     <td> </td>    \n",
       "</tr>\n",
       "</table>\n",
       "<table class=\"simpletable\">\n",
       "<tr>\n",
       "    <td></td>       <th>coef</th>     <th>std err</th>      <th>t</th>      <th>P>|t|</th>  <th>[0.025</th>    <th>0.975]</th>  \n",
       "</tr>\n",
       "<tr>\n",
       "  <th>const</th> <td>    2.8864</td> <td>    0.007</td> <td>  403.480</td> <td> 0.000</td> <td>    2.872</td> <td>    2.900</td>\n",
       "</tr>\n",
       "<tr>\n",
       "  <th>imm</th>   <td>   -0.1800</td> <td>    0.017</td> <td>  -10.887</td> <td> 0.000</td> <td>   -0.212</td> <td>   -0.148</td>\n",
       "</tr>\n",
       "</table>\n",
       "<table class=\"simpletable\">\n",
       "<tr>\n",
       "  <th>Omnibus:</th>       <td>353.044</td> <th>  Durbin-Watson:     </th> <td>   1.837</td> \n",
       "</tr>\n",
       "<tr>\n",
       "  <th>Prob(Omnibus):</th> <td> 0.000</td>  <th>  Jarque-Bera (JB):  </th> <td> 538.131</td> \n",
       "</tr>\n",
       "<tr>\n",
       "  <th>Skew:</th>          <td> 0.324</td>  <th>  Prob(JB):          </th> <td>1.40e-117</td>\n",
       "</tr>\n",
       "<tr>\n",
       "  <th>Kurtosis:</th>      <td> 3.893</td>  <th>  Cond. No.          </th> <td>    2.67</td> \n",
       "</tr>\n",
       "</table><br/><br/>Warnings:<br/>[1] Standard Errors assume that the covariance matrix of the errors is correctly specified."
      ],
      "text/plain": [
       "<class 'statsmodels.iolib.summary.Summary'>\n",
       "\"\"\"\n",
       "                            OLS Regression Results                            \n",
       "==============================================================================\n",
       "Dep. Variable:                logwage   R-squared:                       0.011\n",
       "Model:                            OLS   Adj. R-squared:                  0.011\n",
       "Method:                 Least Squares   F-statistic:                     118.5\n",
       "Date:                Wed, 27 Feb 2019   Prob (F-statistic):           1.85e-27\n",
       "Time:                        17:25:06   Log-Likelihood:                -10701.\n",
       "No. Observations:               10601   AIC:                         2.141e+04\n",
       "Df Residuals:                   10599   BIC:                         2.142e+04\n",
       "Df Model:                           1                                         \n",
       "Covariance Type:            nonrobust                                         \n",
       "==============================================================================\n",
       "                 coef    std err          t      P>|t|      [0.025      0.975]\n",
       "------------------------------------------------------------------------------\n",
       "const          2.8864      0.007    403.480      0.000       2.872       2.900\n",
       "imm           -0.1800      0.017    -10.887      0.000      -0.212      -0.148\n",
       "==============================================================================\n",
       "Omnibus:                      353.044   Durbin-Watson:                   1.837\n",
       "Prob(Omnibus):                  0.000   Jarque-Bera (JB):              538.131\n",
       "Skew:                           0.324   Prob(JB):                    1.40e-117\n",
       "Kurtosis:                       3.893   Cond. No.                         2.67\n",
       "==============================================================================\n",
       "\n",
       "Warnings:\n",
       "[1] Standard Errors assume that the covariance matrix of the errors is correctly specified.\n",
       "\"\"\""
      ]
     },
     "execution_count": 79,
     "metadata": {},
     "output_type": "execute_result"
    }
   ],
   "source": [
    "reg1 = sm.OLS(dfwomen.logwage, dfwomen[['const','imm']]).fit()\n",
    "reg1.summary()"
   ]
  },
  {
   "cell_type": "code",
   "execution_count": 84,
   "metadata": {},
   "outputs": [
    {
     "name": "stdout",
     "output_type": "stream",
     "text": [
      "The mean difference for the mean and the immigration coefficient from OLS imm is : 9.71445146547012e-16\n"
     ]
    }
   ],
   "source": [
    "beta_imm = reg1.params[1]\n",
    "print(\"The mean difference for the mean and the immigration coefficient from OLS imm is : {}\".format((My-Mx) - beta_imm))\n",
    "\n",
    "\n"
   ]
  },
  {
   "cell_type": "code",
   "execution_count": 87,
   "metadata": {},
   "outputs": [
    {
     "data": {
      "text/plain": [
       "-10.887143729424317"
      ]
     },
     "execution_count": 87,
     "metadata": {},
     "output_type": "execute_result"
    }
   ],
   "source": [
    "#Test statistic for beta:\n",
    "sem1 = reg1.bse[1]\n",
    "t_beta = beta_imm / sem1\n",
    "t_beta"
   ]
  },
  {
   "cell_type": "code",
   "execution_count": 89,
   "metadata": {},
   "outputs": [
    {
     "data": {
      "text/html": [
       "<table class=\"simpletable\">\n",
       "<tr>\n",
       "              <td></td>              <th>constant</th> <th>Immigrant</th>\n",
       "</tr>\n",
       "<tr>\n",
       "  <th>OLS</th>                        <td>0.00715</td>  <td>0.01653</td> \n",
       "</tr>\n",
       "<tr>\n",
       "  <th>Heteroskedasticity-robust</th>  <td>0.00702</td>  <td>0.01753</td> \n",
       "</tr>\n",
       "</table>"
      ],
      "text/plain": [
       "<class 'statsmodels.iolib.table.SimpleTable'>"
      ]
     },
     "execution_count": 89,
     "metadata": {},
     "output_type": "execute_result"
    }
   ],
   "source": [
    "se = np.vstack([[reg1.bse], [reg1.HC1_se]])\n",
    "se = np.round(se,5)\n",
    "col = ['constant', 'Immigrant']\n",
    "row = ['OLS', \"Heteroskedasticity-robust\"]\n",
    "tb1 = SimpleTable(se,col, row, txt_fmt=default_txt_fmt)\n",
    "tb1"
   ]
  },
  {
   "cell_type": "code",
   "execution_count": null,
   "metadata": {},
   "outputs": [],
   "source": []
  }
 ],
 "metadata": {
  "kernelspec": {
   "display_name": "Python 3",
   "language": "python",
   "name": "python3"
  },
  "language_info": {
   "codemirror_mode": {
    "name": "ipython",
    "version": 3
   },
   "file_extension": ".py",
   "mimetype": "text/x-python",
   "name": "python",
   "nbconvert_exporter": "python",
   "pygments_lexer": "ipython3",
   "version": "3.6.2"
  }
 },
 "nbformat": 4,
 "nbformat_minor": 2
}
