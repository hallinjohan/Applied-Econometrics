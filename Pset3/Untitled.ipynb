{
 "cells": [
  {
   "cell_type": "markdown",
   "metadata": {},
   "source": [
    "## Part 2"
   ]
  },
  {
   "cell_type": "code",
   "execution_count": 27,
   "metadata": {},
   "outputs": [],
   "source": [
    "import pandas as pd\n",
    "import numpy as np\n",
    "import matplotlib.pyplot as plt\n",
    "%matplotlib inline\n",
    "import statsmodels.api as sm\n",
    "from stargazer.stargazer import Stargazer\n",
    "import tabulate as tb\n",
    "from statsmodels.iolib.summary2 import summary_col\n",
    "import statsmodels.formula.api as smf"
   ]
  },
  {
   "cell_type": "code",
   "execution_count": 28,
   "metadata": {},
   "outputs": [
    {
     "data": {
      "text/html": [
       "<div>\n",
       "<style scoped>\n",
       "    .dataframe tbody tr th:only-of-type {\n",
       "        vertical-align: middle;\n",
       "    }\n",
       "\n",
       "    .dataframe tbody tr th {\n",
       "        vertical-align: top;\n",
       "    }\n",
       "\n",
       "    .dataframe thead th {\n",
       "        text-align: right;\n",
       "    }\n",
       "</style>\n",
       "<table border=\"1\" class=\"dataframe\">\n",
       "  <thead>\n",
       "    <tr style=\"text-align: right;\">\n",
       "      <th></th>\n",
       "      <th>state</th>\n",
       "      <th>age</th>\n",
       "      <th>wagesal</th>\n",
       "      <th>imm</th>\n",
       "      <th>hispanic</th>\n",
       "      <th>black</th>\n",
       "      <th>asian</th>\n",
       "      <th>educ</th>\n",
       "      <th>wage</th>\n",
       "      <th>logwage</th>\n",
       "      <th>female</th>\n",
       "      <th>fedwkr</th>\n",
       "      <th>statewkr</th>\n",
       "      <th>localwkr</th>\n",
       "      <th>const</th>\n",
       "    </tr>\n",
       "  </thead>\n",
       "  <tbody>\n",
       "    <tr>\n",
       "      <th>0</th>\n",
       "      <td>11</td>\n",
       "      <td>44</td>\n",
       "      <td>18000</td>\n",
       "      <td>0</td>\n",
       "      <td>0</td>\n",
       "      <td>0</td>\n",
       "      <td>0</td>\n",
       "      <td>14</td>\n",
       "      <td>9.109312</td>\n",
       "      <td>2.209297</td>\n",
       "      <td>1</td>\n",
       "      <td>1</td>\n",
       "      <td>0</td>\n",
       "      <td>0</td>\n",
       "      <td>1</td>\n",
       "    </tr>\n",
       "    <tr>\n",
       "      <th>1</th>\n",
       "      <td>11</td>\n",
       "      <td>39</td>\n",
       "      <td>18000</td>\n",
       "      <td>0</td>\n",
       "      <td>0</td>\n",
       "      <td>0</td>\n",
       "      <td>0</td>\n",
       "      <td>14</td>\n",
       "      <td>18.000000</td>\n",
       "      <td>2.890372</td>\n",
       "      <td>0</td>\n",
       "      <td>0</td>\n",
       "      <td>0</td>\n",
       "      <td>0</td>\n",
       "      <td>1</td>\n",
       "    </tr>\n",
       "    <tr>\n",
       "      <th>2</th>\n",
       "      <td>11</td>\n",
       "      <td>39</td>\n",
       "      <td>35600</td>\n",
       "      <td>0</td>\n",
       "      <td>0</td>\n",
       "      <td>0</td>\n",
       "      <td>0</td>\n",
       "      <td>12</td>\n",
       "      <td>17.115385</td>\n",
       "      <td>2.839978</td>\n",
       "      <td>0</td>\n",
       "      <td>0</td>\n",
       "      <td>0</td>\n",
       "      <td>1</td>\n",
       "      <td>1</td>\n",
       "    </tr>\n",
       "    <tr>\n",
       "      <th>3</th>\n",
       "      <td>11</td>\n",
       "      <td>39</td>\n",
       "      <td>8000</td>\n",
       "      <td>0</td>\n",
       "      <td>0</td>\n",
       "      <td>0</td>\n",
       "      <td>0</td>\n",
       "      <td>14</td>\n",
       "      <td>5.128205</td>\n",
       "      <td>1.634756</td>\n",
       "      <td>1</td>\n",
       "      <td>0</td>\n",
       "      <td>0</td>\n",
       "      <td>0</td>\n",
       "      <td>1</td>\n",
       "    </tr>\n",
       "    <tr>\n",
       "      <th>4</th>\n",
       "      <td>11</td>\n",
       "      <td>39</td>\n",
       "      <td>100000</td>\n",
       "      <td>0</td>\n",
       "      <td>0</td>\n",
       "      <td>0</td>\n",
       "      <td>0</td>\n",
       "      <td>16</td>\n",
       "      <td>38.461538</td>\n",
       "      <td>3.649659</td>\n",
       "      <td>0</td>\n",
       "      <td>1</td>\n",
       "      <td>0</td>\n",
       "      <td>0</td>\n",
       "      <td>1</td>\n",
       "    </tr>\n",
       "  </tbody>\n",
       "</table>\n",
       "</div>"
      ],
      "text/plain": [
       "   state  age  wagesal  imm  hispanic  black  asian  educ       wage  \\\n",
       "0     11   44    18000    0         0      0      0    14   9.109312   \n",
       "1     11   39    18000    0         0      0      0    14  18.000000   \n",
       "2     11   39    35600    0         0      0      0    12  17.115385   \n",
       "3     11   39     8000    0         0      0      0    14   5.128205   \n",
       "4     11   39   100000    0         0      0      0    16  38.461538   \n",
       "\n",
       "    logwage  female  fedwkr  statewkr  localwkr  const  \n",
       "0  2.209297       1       1         0         0      1  \n",
       "1  2.890372       0       0         0         0      1  \n",
       "2  2.839978       0       0         0         1      1  \n",
       "3  1.634756       1       0         0         0      1  \n",
       "4  3.649659       0       1         0         0      1  "
      ]
     },
     "execution_count": 28,
     "metadata": {},
     "output_type": "execute_result"
    }
   ],
   "source": [
    "df = pd.read_csv(\"ovb.csv\")\n",
    "df[\"const\"] = 1\n",
    "df.head()"
   ]
  },
  {
   "cell_type": "markdown",
   "metadata": {},
   "source": [
    "## a)\n",
    "\n",
    "The true model follows:\n",
    "$$logwage = \\beta_{0} +\\beta_{1}imm +\\beta_{2}educ$$\n",
    "            \n",
    "            \n",
    "Using the ommited variable formula for immigration will stem:\n",
    "\n",
    "$$logwage = (\\beta_{0} + \\pi_{0}\\beta_{2}) + (\\beta_{1}+\\pi_{1}\\beta_{2}) imm$$\n"
   ]
  },
  {
   "cell_type": "markdown",
   "metadata": {},
   "source": [
    "B)"
   ]
  },
  {
   "cell_type": "code",
   "execution_count": null,
   "metadata": {},
   "outputs": [],
   "source": []
  },
  {
   "cell_type": "code",
   "execution_count": null,
   "metadata": {},
   "outputs": [],
   "source": []
  },
  {
   "cell_type": "code",
   "execution_count": 29,
   "metadata": {},
   "outputs": [],
   "source": [
    "dfwomen = df[df.female == 1]\n",
    "dfmen = df[df.female == 0]"
   ]
  },
  {
   "cell_type": "code",
   "execution_count": 30,
   "metadata": {},
   "outputs": [],
   "source": [
    "## Women"
   ]
  },
  {
   "cell_type": "code",
   "execution_count": 31,
   "metadata": {},
   "outputs": [],
   "source": [
    "reg1 = sm.OLS(endog=dfwomen['logwage'], exog=dfwomen[['const', 'imm']],)\n",
    "results = reg1.fit()\n",
    "\n",
    "\n",
    "reg2 = sm.OLS(endog=dfwomen['logwage'], exog=dfwomen[['const', 'educ']])\n",
    "results2 = reg2.fit()\n",
    "\n",
    "reg3 = sm.OLS(endog=dfwomen['imm'], exog=dfwomen[['const', 'educ']])\n",
    "results3 = reg3.fit()\n",
    "\n",
    "reg4 = sm.OLS(endog=dfwomen['educ'], exog=dfwomen[['const', 'imm']])\n",
    "results4 = reg4.fit()\n",
    "\n",
    "reg5 = sm.OLS(endog=dfwomen['logwage'], exog=dfwomen[['const', 'educ', 'imm']])\n",
    "results5 = reg5.fit()"
   ]
  },
  {
   "cell_type": "raw",
   "metadata": {},
   "source": [
    "##men"
   ]
  },
  {
   "cell_type": "code",
   "execution_count": 32,
   "metadata": {},
   "outputs": [],
   "source": [
    "reg6 = sm.OLS(endog=dfmen['logwage'], exog=dfmen[['const', 'imm']],)\n",
    "results6 = reg6.fit()\n",
    "\n",
    "\n",
    "reg7 = sm.OLS(endog=dfmen['logwage'], exog=dfmen[['const', 'educ']])\n",
    "results7 = reg7.fit()\n",
    "\n",
    "reg8 = sm.OLS(endog=dfmen['imm'], exog=dfmen[['const', 'educ']])\n",
    "results8 = reg8.fit()\n",
    "\n",
    "reg9 = sm.OLS(endog=dfmen['educ'], exog=dfmen[['const', 'imm']])\n",
    "results9 = reg9.fit()\n",
    "\n",
    "reg10 = sm.OLS(endog=dfmen['logwage'], exog=dfmen[['const', 'educ', 'imm']])\n",
    "results10 = reg10.fit()"
   ]
  },
  {
   "cell_type": "markdown",
   "metadata": {},
   "source": [
    "## Grouping gender by ethninicty"
   ]
  },
  {
   "cell_type": "code",
   "execution_count": 43,
   "metadata": {},
   "outputs": [],
   "source": [
    "## Women\n",
    "##Women: Asian = 1, hispanic = 1, imm = 1\n",
    "wasian = dfwomen[(dfwomen.asian == 1) & (dfwomen.imm == 1) & (dfwomen.hispanic == 0)]\n",
    "\n",
    "#Women: Hispanic = 1, imm = 1\n",
    "whisp = dfwomen[(dfwomen.hispanic == 1) & (dfwomen.imm== 1)]\n",
    "\n",
    "#Women: Other\n",
    "wother = dfwomen[(dfwomen.black == 1) & (dfwomen.imm == 1)]\n"
   ]
  },
  {
   "cell_type": "code",
   "execution_count": 34,
   "metadata": {},
   "outputs": [],
   "source": [
    "#Men\n",
    "\n",
    "#Men: Asian = 1, hispanicn = 1, imm = 1\n",
    "wasian1 = dfmen[(dfmen.asian == 1) & (dfmen.imm == 1) & (dfmen.hispanic == 0)]\n",
    "\n",
    "#Men: Hispanic = 1, imm = 1\n",
    "whisp1 = dfmen[(dfmen.hispanic == 1) & (dfmen.imm== 1)]\n",
    "\n",
    "#Men: Other\n",
    "wother1 = dfmen[(dfmen.black == 1) & (dfmen.imm == 1)]\n"
   ]
  },
  {
   "cell_type": "code",
   "execution_count": 35,
   "metadata": {},
   "outputs": [
    {
     "data": {
      "text/plain": [
       "state       523\n",
       "age         523\n",
       "wagesal     523\n",
       "imm         523\n",
       "hispanic    523\n",
       "black       523\n",
       "asian       523\n",
       "educ        523\n",
       "wage        523\n",
       "logwage     523\n",
       "female      523\n",
       "fedwkr      523\n",
       "statewkr    523\n",
       "localwkr    523\n",
       "const       523\n",
       "dtype: int64"
      ]
     },
     "execution_count": 35,
     "metadata": {},
     "output_type": "execute_result"
    }
   ],
   "source": []
  },
  {
   "cell_type": "markdown",
   "metadata": {},
   "source": [
    "## Regression for ethnicity"
   ]
  },
  {
   "cell_type": "code",
   "execution_count": 36,
   "metadata": {},
   "outputs": [],
   "source": [
    "##Women"
   ]
  },
  {
   "cell_type": "code",
   "execution_count": 37,
   "metadata": {},
   "outputs": [
    {
     "data": {
      "text/html": [
       "<table class=\"simpletable\">\n",
       "<caption>OLS Regression Results</caption>\n",
       "<tr>\n",
       "  <th>Dep. Variable:</th>         <td>logwage</td>     <th>  R-squared:         </th> <td>   0.292</td>\n",
       "</tr>\n",
       "<tr>\n",
       "  <th>Model:</th>                   <td>OLS</td>       <th>  Adj. R-squared:    </th> <td>   0.291</td>\n",
       "</tr>\n",
       "<tr>\n",
       "  <th>Method:</th>             <td>Least Squares</td>  <th>  F-statistic:       </th> <td>   214.8</td>\n",
       "</tr>\n",
       "<tr>\n",
       "  <th>Date:</th>             <td>Wed, 13 Feb 2019</td> <th>  Prob (F-statistic):</th> <td>5.64e-41</td>\n",
       "</tr>\n",
       "<tr>\n",
       "  <th>Time:</th>                 <td>21:19:39</td>     <th>  Log-Likelihood:    </th> <td> -518.80</td>\n",
       "</tr>\n",
       "<tr>\n",
       "  <th>No. Observations:</th>      <td>   523</td>      <th>  AIC:               </th> <td>   1042.</td>\n",
       "</tr>\n",
       "<tr>\n",
       "  <th>Df Residuals:</th>          <td>   521</td>      <th>  BIC:               </th> <td>   1050.</td>\n",
       "</tr>\n",
       "<tr>\n",
       "  <th>Df Model:</th>              <td>     1</td>      <th>                     </th>     <td> </td>   \n",
       "</tr>\n",
       "<tr>\n",
       "  <th>Covariance Type:</th>      <td>nonrobust</td>    <th>                     </th>     <td> </td>   \n",
       "</tr>\n",
       "</table>\n",
       "<table class=\"simpletable\">\n",
       "<tr>\n",
       "    <td></td>       <th>coef</th>     <th>std err</th>      <th>t</th>      <th>P>|t|</th>  <th>[0.025</th>    <th>0.975]</th>  \n",
       "</tr>\n",
       "<tr>\n",
       "  <th>const</th> <td>    0.4502</td> <td>    0.072</td> <td>    6.243</td> <td> 0.000</td> <td>    0.309</td> <td>    0.592</td>\n",
       "</tr>\n",
       "<tr>\n",
       "  <th>educ</th>  <td>    0.1385</td> <td>    0.009</td> <td>   14.657</td> <td> 0.000</td> <td>    0.120</td> <td>    0.157</td>\n",
       "</tr>\n",
       "<tr>\n",
       "  <th>imm</th>   <td>    0.4502</td> <td>    0.072</td> <td>    6.243</td> <td> 0.000</td> <td>    0.309</td> <td>    0.592</td>\n",
       "</tr>\n",
       "</table>\n",
       "<table class=\"simpletable\">\n",
       "<tr>\n",
       "  <th>Omnibus:</th>       <td>40.544</td> <th>  Durbin-Watson:     </th> <td>   1.969</td>\n",
       "</tr>\n",
       "<tr>\n",
       "  <th>Prob(Omnibus):</th> <td> 0.000</td> <th>  Jarque-Bera (JB):  </th> <td> 107.226</td>\n",
       "</tr>\n",
       "<tr>\n",
       "  <th>Skew:</th>          <td> 0.369</td> <th>  Prob(JB):          </th> <td>5.20e-24</td>\n",
       "</tr>\n",
       "<tr>\n",
       "  <th>Kurtosis:</th>      <td> 5.092</td> <th>  Cond. No.          </th> <td>3.56e+15</td>\n",
       "</tr>\n",
       "</table><br/><br/>Warnings:<br/>[1] Standard Errors assume that the covariance matrix of the errors is correctly specified.<br/>[2] The smallest eigenvalue is 9.69e-27. This might indicate that there are<br/>strong multicollinearity problems or that the design matrix is singular."
      ],
      "text/plain": [
       "<class 'statsmodels.iolib.summary.Summary'>\n",
       "\"\"\"\n",
       "                            OLS Regression Results                            \n",
       "==============================================================================\n",
       "Dep. Variable:                logwage   R-squared:                       0.292\n",
       "Model:                            OLS   Adj. R-squared:                  0.291\n",
       "Method:                 Least Squares   F-statistic:                     214.8\n",
       "Date:                Wed, 13 Feb 2019   Prob (F-statistic):           5.64e-41\n",
       "Time:                        21:19:39   Log-Likelihood:                -518.80\n",
       "No. Observations:                 523   AIC:                             1042.\n",
       "Df Residuals:                     521   BIC:                             1050.\n",
       "Df Model:                           1                                         \n",
       "Covariance Type:            nonrobust                                         \n",
       "==============================================================================\n",
       "                 coef    std err          t      P>|t|      [0.025      0.975]\n",
       "------------------------------------------------------------------------------\n",
       "const          0.4502      0.072      6.243      0.000       0.309       0.592\n",
       "educ           0.1385      0.009     14.657      0.000       0.120       0.157\n",
       "imm            0.4502      0.072      6.243      0.000       0.309       0.592\n",
       "==============================================================================\n",
       "Omnibus:                       40.544   Durbin-Watson:                   1.969\n",
       "Prob(Omnibus):                  0.000   Jarque-Bera (JB):              107.226\n",
       "Skew:                           0.369   Prob(JB):                     5.20e-24\n",
       "Kurtosis:                       5.092   Cond. No.                     3.56e+15\n",
       "==============================================================================\n",
       "\n",
       "Warnings:\n",
       "[1] Standard Errors assume that the covariance matrix of the errors is correctly specified.\n",
       "[2] The smallest eigenvalue is 9.69e-27. This might indicate that there are\n",
       "strong multicollinearity problems or that the design matrix is singular.\n",
       "\"\"\""
      ]
     },
     "execution_count": 37,
     "metadata": {},
     "output_type": "execute_result"
    }
   ],
   "source": [
    "##Women\n",
    "reg11 = sm.OLS(endog=wasian['logwage'], exog=wasian[['const', 'imm']],)\n",
    "results11 = reg11.fit()\n",
    "\n",
    "\n",
    "reg12 = sm.OLS(endog=wasian['logwage'], exog=wasian[['const', 'educ']])\n",
    "results12 = reg12.fit()\n",
    "\n",
    "reg13 = sm.OLS(endog=wasian['imm'], exog=wasian[['const', 'educ']])\n",
    "results13 = reg8.fit()\n",
    "\n",
    "reg14 = sm.OLS(endog=wasian['educ'], exog=wasian[['const', 'imm']])\n",
    "results14 = reg14.fit()\n",
    "\n",
    "reg15 = sm.OLS(endog=wasian['logwage'], exog=wasian[['const', 'educ', 'imm']])\n",
    "results15 = reg15.fit()\n",
    "\n",
    "results15.summary()\n",
    "\n"
   ]
  },
  {
   "cell_type": "code",
   "execution_count": 38,
   "metadata": {},
   "outputs": [],
   "source": [
    "reg17 = sm.OLS(endog=whisp['logwage'], exog=whisp[['const', 'imm']],)\n",
    "results17 = reg17.fit()\n",
    "\n",
    "\n",
    "reg18 = sm.OLS(endog=whisp['logwage'], exog=whisp[['const', 'educ']])\n",
    "results18 = reg18.fit()\n",
    "\n",
    "reg19 = sm.OLS(endog=whisp['imm'], exog=whisp[['const', 'educ']])\n",
    "results19 = reg19.fit()\n",
    "\n",
    "reg20 = sm.OLS(endog=whisp['educ'], exog=whisp[['const', 'imm']])\n",
    "results20 = reg20.fit()\n",
    "\n",
    "reg21 = sm.OLS(endog=whisp['logwage'], exog=whisp[['const', 'educ', 'imm']])\n",
    "results21 = reg21.fit()\n",
    "\n",
    "\n"
   ]
  },
  {
   "cell_type": "code",
   "execution_count": null,
   "metadata": {},
   "outputs": [],
   "source": []
  },
  {
   "cell_type": "code",
   "execution_count": null,
   "metadata": {},
   "outputs": [],
   "source": []
  },
  {
   "cell_type": "code",
   "execution_count": null,
   "metadata": {},
   "outputs": [],
   "source": []
  },
  {
   "cell_type": "code",
   "execution_count": 39,
   "metadata": {},
   "outputs": [
    {
     "name": "stdout",
     "output_type": "stream",
     "text": [
      "\\begin{table}\n",
      "\\caption{}\n",
      "\\begin{center}\n",
      "\\begin{tabular}{lccccc}\n",
      "\\hline\n",
      "      &   (1)    &   (2)   &   (3)    &   (4)    &   (5)    \\\\\n",
      "\\midrule\n",
      "\\midrule\n",
      "const & 2.89***  & 1.23*** & 0.61***  & 14.45*** & 1.24***  \\\\\n",
      "      & (0.01)   & (0.03)  & (0.02)   & (0.03)   & (0.03)   \\\\\n",
      "educ  &          & 0.11*** & -0.03*** &          & 0.11***  \\\\\n",
      "      &          & (0.00)  & (0.00)   &          & (0.00)   \\\\\n",
      "imm   & -0.18*** &         &          & -1.49*** & -0.01    \\\\\n",
      "      & (0.02)   &         &          & (0.07)   & (0.01)   \\\\\n",
      "N     & 10601    & 10601   & 10601    & 10601    & 10601    \\\\\n",
      "R2    & 0.01     & 0.22    & 0.04     & 0.04     & 0.22     \\\\\n",
      "\\hline\n",
      "\\end{tabular}\n",
      "\\end{center}\n",
      "\\end{table}\n"
     ]
    }
   ],
   "source": [
    "print(summary_col([results,results2,results3, results4, results5],stars=True,float_format='%0.2f', regressor_order=['black'],\n",
    "                  model_names = ['(1)','(2)','(3)','(4)','(5)'], info_dict={'N':lambda x: \"{0:d}\".format(int(x.nobs)),\n",
    "                             'R2':lambda x: \"{:.2f}\".format(x.rsquared)}).as_latex())\n",
    "\n",
    "\n",
    "\n"
   ]
  },
  {
   "cell_type": "code",
   "execution_count": 40,
   "metadata": {},
   "outputs": [
    {
     "name": "stdout",
     "output_type": "stream",
     "text": [
      "\\begin{table}\n",
      "\\caption{}\n",
      "\\begin{center}\n",
      "\\begin{tabular}{lccccc}\n",
      "\\hline\n",
      "      &   (1)    &   (2)   &   (3)    &   (4)    &   (5)     \\\\\n",
      "\\midrule\n",
      "\\midrule\n",
      "const & 3.16***  & 1.61*** & 0.64***  & 14.19*** & 1.66***   \\\\\n",
      "      & (0.01)   & (0.03)  & (0.02)   & (0.03)   & (0.03)    \\\\\n",
      "educ  &          & 0.11*** & -0.03*** &          & 0.11***   \\\\\n",
      "      &          & (0.00)  & (0.00)   &          & (0.00)    \\\\\n",
      "imm   & -0.24*** &         &          & -1.61*** & -0.07***  \\\\\n",
      "      & (0.02)   &         &          & (0.07)   & (0.01)    \\\\\n",
      "N     & 11306    & 11306   & 11306    & 11306    & 11306     \\\\\n",
      "R2    & 0.02     & 0.22    & 0.05     & 0.05     & 0.22      \\\\\n",
      "\\hline\n",
      "\\end{tabular}\n",
      "\\end{center}\n",
      "\\end{table}\n"
     ]
    }
   ],
   "source": [
    "print(summary_col([results6,results7,results8, results9, results10],stars=True,float_format='%0.2f', regressor_order=['black'],\n",
    "                  model_names = ['(1)','(2)','(3)','(4)','(5)'], info_dict={'N':lambda x: \"{0:d}\".format(int(x.nobs)),\n",
    "                             'R2':lambda x: \"{:.2f}\".format(x.rsquared)}).as_latex())\n",
    "\n",
    "\n",
    "\n",
    "\n",
    "\n",
    "\n"
   ]
  },
  {
   "cell_type": "code",
   "execution_count": 41,
   "metadata": {},
   "outputs": [
    {
     "name": "stdout",
     "output_type": "stream",
     "text": [
      "\\begin{table}\n",
      "\\caption{}\n",
      "\\begin{center}\n",
      "\\begin{tabular}{lccccc}\n",
      "\\hline\n",
      "      &   (1)   &   (2)   &   (3)    &   (4)   &   (5)    \\\\\n",
      "\\midrule\n",
      "\\midrule\n",
      "const & 1.49*** & 0.90*** & 0.64***  & 7.48*** & 0.45***  \\\\\n",
      "      & (0.02)  & (0.14)  & (0.02)   & (0.07)  & (0.07)   \\\\\n",
      "educ  &         & 0.14*** & -0.03*** &         & 0.14***  \\\\\n",
      "      &         & (0.01)  & (0.00)   &         & (0.01)   \\\\\n",
      "imm   & 1.49*** &         &          & 7.48*** & 0.45***  \\\\\n",
      "      & (0.02)  &         &          & (0.07)  & (0.07)   \\\\\n",
      "N     & 523     & 523     & 11306    & 523     & 523      \\\\\n",
      "R2    & 0.00    & 0.29    & 0.05     & -0.00   & 0.29     \\\\\n",
      "\\hline\n",
      "\\end{tabular}\n",
      "\\end{center}\n",
      "\\end{table}\n"
     ]
    }
   ],
   "source": [
    "print(summary_col([results11,results12,results13, results14, results15],stars=True,float_format='%0.2f', regressor_order=['black'],\n",
    "                  model_names = ['(1)','(2)','(3)','(4)','(5)'], info_dict={'N':lambda x: \"{0:d}\".format(int(x.nobs)),\n",
    "                             'R2':lambda x: \"{:.2f}\".format(x.rsquared)}).as_latex())\n",
    "\n"
   ]
  },
  {
   "cell_type": "code",
   "execution_count": 42,
   "metadata": {},
   "outputs": [
    {
     "name": "stdout",
     "output_type": "stream",
     "text": [
      "\\begin{table}\n",
      "\\caption{}\n",
      "\\begin{center}\n",
      "\\begin{tabular}{lccccc}\n",
      "\\hline\n",
      "      &        (1)         &   (2)   &   (3)   &         (4)         &   (5)    \\\\\n",
      "\\midrule\n",
      "\\midrule\n",
      "const & 693496591611.64    & 1.75*** & 1.00*** & 28620898995166.74   & 0.87***  \\\\\n",
      "      & (5555038726583.33) & (0.05)  & (0.00)  & (35724596864895.12) & (0.03)   \\\\\n",
      "educ  &                    & 0.06*** & 0.00*** &                     & 0.06***  \\\\\n",
      "      &                    & (0.00)  & (0.00)  &                     & (0.00)   \\\\\n",
      "imm   & -693496591609.24   &         &         & -28620898995156.02  & 0.87***  \\\\\n",
      "      & (5555038726583.35) &         &         & (35724596864895.25) & (0.03)   \\\\\n",
      "N     & 983                & 983     & 983     & 983                 & 983      \\\\\n",
      "R2    & -0.01              & 0.17    & -inf    & -0.01               & 0.17     \\\\\n",
      "\\hline\n",
      "\\end{tabular}\n",
      "\\end{center}\n",
      "\\end{table}\n"
     ]
    },
    {
     "name": "stderr",
     "output_type": "stream",
     "text": [
      "/Library/Frameworks/Python.framework/Versions/3.6/lib/python3.6/site-packages/statsmodels/regression/linear_model.py:1543: RuntimeWarning: divide by zero encountered in double_scalars\n",
      "  return 1 - self.ssr/self.centered_tss\n"
     ]
    }
   ],
   "source": [
    "print(summary_col([results17,results18,results19, results20, results21],stars=True,float_format='%0.2f', regressor_order=['black'],\n",
    "                  model_names = ['(1)','(2)','(3)','(4)','(5)'], info_dict={'N':lambda x: \"{0:d}\".format(int(x.nobs)),\n",
    "                             'R2':lambda x: \"{:.2f}\".format(x.rsquared)}).as_latex())\n",
    "\n"
   ]
  },
  {
   "cell_type": "code",
   "execution_count": null,
   "metadata": {},
   "outputs": [],
   "source": []
  }
 ],
 "metadata": {
  "kernelspec": {
   "display_name": "Python 3",
   "language": "python",
   "name": "python3"
  },
  "language_info": {
   "codemirror_mode": {
    "name": "ipython",
    "version": 3
   },
   "file_extension": ".py",
   "mimetype": "text/x-python",
   "name": "python",
   "nbconvert_exporter": "python",
   "pygments_lexer": "ipython3",
   "version": "3.6.2"
  }
 },
 "nbformat": 4,
 "nbformat_minor": 2
}
