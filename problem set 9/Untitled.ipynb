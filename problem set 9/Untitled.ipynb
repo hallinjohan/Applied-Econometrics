{
 "cells": [
  {
   "cell_type": "code",
   "execution_count": 24,
   "metadata": {},
   "outputs": [],
   "source": [
    "import numpy as np\n",
    "import pandas as pd\n",
    "import statsmodels.api as sm\n",
    "import scipy as sp\n",
    "from sklearn import preprocessing\n",
    "from sklearn.linear_model import LinearRegression\n",
    "from sklearn.preprocessing import PolynomialFeatures\n",
    "import matplotlib.pyplot as plt\n"
   ]
  },
  {
   "cell_type": "code",
   "execution_count": 2,
   "metadata": {},
   "outputs": [],
   "source": [
    "df = pd.read_csv('apgar.csv')\n",
    "df.dropna(inplace = True)"
   ]
  },
  {
   "cell_type": "code",
   "execution_count": 3,
   "metadata": {},
   "outputs": [
    {
     "name": "stderr",
     "output_type": "stream",
     "text": [
      "/Library/Frameworks/Python.framework/Versions/3.6/lib/python3.6/site-packages/sklearn/utils/validation.py:475: DataConversionWarning: Data with input dtype int64 was converted to float64 by the scale function.\n",
      "  warnings.warn(msg, DataConversionWarning)\n"
     ]
    }
   ],
   "source": [
    "df['norm_birth'] = preprocessing.scale(df['bthwght'])"
   ]
  },
  {
   "cell_type": "code",
   "execution_count": 4,
   "metadata": {},
   "outputs": [],
   "source": [
    "df = df.assign(apg8 = np.where(df['apgar5'] <= 8, 1,0))"
   ]
  },
  {
   "cell_type": "markdown",
   "metadata": {},
   "source": [
    "Fitting a series of linear probability models for $ y = 1[Apgar <= 8]$"
   ]
  },
  {
   "cell_type": "code",
   "execution_count": 5,
   "metadata": {},
   "outputs": [
    {
     "name": "stderr",
     "output_type": "stream",
     "text": [
      "/Library/Frameworks/Python.framework/Versions/3.6/lib/python3.6/site-packages/sklearn/linear_model/base.py:509: RuntimeWarning: internal gelsd driver lwork query error, required iwork dimension not returned. This is likely the result of LAPACK bug 0038, fixed in LAPACK 3.2.2 (released July 21, 2010). Falling back to 'gelss' driver.\n",
      "  linalg.lstsq(X, y)\n"
     ]
    },
    {
     "data": {
      "text/plain": [
       "LinearRegression(copy_X=True, fit_intercept=True, n_jobs=1, normalize=False)"
      ]
     },
     "execution_count": 5,
     "metadata": {},
     "output_type": "execute_result"
    }
   ],
   "source": [
    "#Importing linear regression and polynomial features.\n",
    "model = LinearRegression()\n",
    "X = pd.DataFrame()\n",
    "X['birthweight'] = df['norm_birth']\n",
    "Y = df['apg8']\n",
    "# model 1: onto a constant and x\n",
    "pf = PolynomialFeatures(degree=1)\n",
    "x_poly = pf.fit_transform(X)\n",
    "model.fit(x_poly, Y)\n",
    "\n",
    "# model 2: onto a constant and x, x^2\n",
    "model1 = LinearRegression()\n",
    "pf1 = PolynomialFeatures(degree=2)\n",
    "x_poly1 = pf1.fit_transform(X)\n",
    "model1.fit(x_poly, Y)\n",
    "\n",
    "# model 3: onto a constant and x, x^2, x^3\n",
    "model2 = LinearRegression()\n",
    "pf2 = PolynomialFeatures(degree=3)\n",
    "x_poly2 = pf2.fit_transform(X)\n",
    "model2.fit(x_poly, Y)\n",
    "# model 4: onto a constant and x, x^2, x^3, x^4\n",
    "model3 = LinearRegression()\n",
    "pf3 = PolynomialFeatures(degree=4)\n",
    "x_poly3 = pf3.fit_transform(X)\n",
    "model3.fit(x_poly, Y)\n",
    "# model 5: onto a constant and x, x^2, x^3, x^4,x^5\n",
    "model4 = LinearRegression()\n",
    "pf4 = PolynomialFeatures(degree=5)\n",
    "x_poly4 = pf4.fit_transform(X)\n",
    "model4.fit(x_poly, Y)\n",
    "# model 6: onto a constant and x, x^2, x^3, x^4,x^5, x^6\n",
    "model5 = LinearRegression()\n",
    "pf5 = PolynomialFeatures(degree=5)\n",
    "x_poly5 = pf5.fit_transform(X)\n",
    "model5.fit(x_poly5, Y)"
   ]
  },
  {
   "cell_type": "code",
   "execution_count": 9,
   "metadata": {},
   "outputs": [],
   "source": [
    "X = pd.DataFrame()\n",
    "Y = Y = df['apg8']\n",
    "X['first'] = df['norm_birth']\n",
    "X['second'] = df['norm_birth']**2\n",
    "X['third'] = df['norm_birth'] ** 3\n",
    "X['forth'] = df['norm_birth'] ** 4\n",
    "X['fifth'] = df['norm_birth'] ** 5\n",
    "X['sixth'] = df['norm_birth'] ** 6"
   ]
  }
 ],
 "metadata": {
  "kernelspec": {
   "display_name": "Python 3",
   "language": "python",
   "name": "python3"
  },
  "language_info": {
   "codemirror_mode": {
    "name": "ipython",
    "version": 3
   },
   "file_extension": ".py",
   "mimetype": "text/x-python",
   "name": "python",
   "nbconvert_exporter": "python",
   "pygments_lexer": "ipython3",
   "version": "3.6.2"
  }
 },
 "nbformat": 4,
 "nbformat_minor": 2
}
