{
 "cells": [
  {
   "cell_type": "code",
   "execution_count": 276,
   "metadata": {},
   "outputs": [],
   "source": [
    "import pandas as pd\n",
    "import numpy as np\n",
    "import statsmodels.api as sm\n",
    "from linearmodels.iv import IV2SLS\n",
    "from statsmodels.iolib.table import (SimpleTable, default_txt_fmt)\n",
    "from statsmodels.iolib.summary2 import summary_col\n",
    "from statsmodels import sandbox as sb\n",
    "from statsmodels.sandbox.regression import gmm as g"
   ]
  },
  {
   "cell_type": "markdown",
   "metadata": {},
   "source": [
    "#### Results:"
   ]
  },
  {
   "cell_type": "code",
   "execution_count": 317,
   "metadata": {},
   "outputs": [
    {
     "name": "stdout",
     "output_type": "stream",
     "text": [
      "The Fractions of Compliers, Always Takers and Never Takers In Months: 15,20,24,48\n",
      "=========================================\n",
      "               ft15   ft20   ft24   ft48 \n",
      "-----------------------------------------\n",
      "Never Takers  0.7154 0.7245 0.7324 0.7158\n",
      "Always Takers 0.1472 0.1609 0.1602 0.2337\n",
      "Compliers     0.1374 0.1146 0.1074 0.0505\n",
      "-----------------------------------------\n",
      "     Mean for Compliers for each Covariate     \n",
      "===============================================\n",
      "                     ft15   ft20   ft24   ft48 \n",
      "-----------------------------------------------\n",
      "age35p              0.2775 0.292  0.2842 0.2891\n",
      "agelt25             0.179  0.183  0.1925 0.1943\n",
      "anykidsu6           0.5257 0.5281 0.5336 0.5268\n",
      "hsgrad              0.5844 0.589  0.5953 0.6037\n",
      "imm                 0.1088 0.1223 0.1224 0.1224\n",
      "nevermarried        0.4798 0.4817 0.4809 0.5007\n",
      "working_at_baseline 0.3663 0.3573 0.3521 0.3155\n",
      "-----------------------------------------------\n"
     ]
    }
   ],
   "source": [
    "print(summary_of_NAC)\n",
    "print(SimpleTable(summl.values.round(4),list(summl.columns),list(summl.index), title = 'Mean for Compliers for each Covariate'))"
   ]
  },
  {
   "cell_type": "markdown",
   "metadata": {},
   "source": [
    "1)\n",
    "\n"
   ]
  },
  {
   "cell_type": "code",
   "execution_count": 278,
   "metadata": {},
   "outputs": [],
   "source": [
    "df = pd.read_csv('welfare.csv')"
   ]
  },
  {
   "cell_type": "code",
   "execution_count": 279,
   "metadata": {},
   "outputs": [],
   "source": [
    "X = df[['imm', 'hsgrad','agelt25','age35p','working_at_baseline','anykidsu6','nevermarried']]"
   ]
  },
  {
   "cell_type": "code",
   "execution_count": 280,
   "metadata": {},
   "outputs": [
    {
     "data": {
      "text/html": [
       "<div>\n",
       "<style scoped>\n",
       "    .dataframe tbody tr th:only-of-type {\n",
       "        vertical-align: middle;\n",
       "    }\n",
       "\n",
       "    .dataframe tbody tr th {\n",
       "        vertical-align: top;\n",
       "    }\n",
       "\n",
       "    .dataframe thead th {\n",
       "        text-align: right;\n",
       "    }\n",
       "</style>\n",
       "<table border=\"1\" class=\"dataframe\">\n",
       "  <thead>\n",
       "    <tr style=\"text-align: right;\">\n",
       "      <th></th>\n",
       "      <th>imm</th>\n",
       "      <th>hsgrad</th>\n",
       "      <th>agelt25</th>\n",
       "      <th>age35p</th>\n",
       "      <th>treatment</th>\n",
       "      <th>working_at_baseline</th>\n",
       "      <th>anykidsu6</th>\n",
       "      <th>nevermarried</th>\n",
       "      <th>ft15</th>\n",
       "      <th>ft20</th>\n",
       "      <th>ft24</th>\n",
       "      <th>ft48</th>\n",
       "      <th>welfare15</th>\n",
       "      <th>welfare20</th>\n",
       "      <th>welfare24</th>\n",
       "      <th>welfare48</th>\n",
       "    </tr>\n",
       "  </thead>\n",
       "  <tbody>\n",
       "    <tr>\n",
       "      <th>0</th>\n",
       "      <td>0</td>\n",
       "      <td>0</td>\n",
       "      <td>0</td>\n",
       "      <td>0</td>\n",
       "      <td>1</td>\n",
       "      <td>0</td>\n",
       "      <td>1</td>\n",
       "      <td>1</td>\n",
       "      <td>0</td>\n",
       "      <td>0.0</td>\n",
       "      <td>0.0</td>\n",
       "      <td>0.0</td>\n",
       "      <td>1</td>\n",
       "      <td>1</td>\n",
       "      <td>1</td>\n",
       "      <td>1</td>\n",
       "    </tr>\n",
       "    <tr>\n",
       "      <th>1</th>\n",
       "      <td>0</td>\n",
       "      <td>1</td>\n",
       "      <td>0</td>\n",
       "      <td>1</td>\n",
       "      <td>1</td>\n",
       "      <td>0</td>\n",
       "      <td>0</td>\n",
       "      <td>1</td>\n",
       "      <td>1</td>\n",
       "      <td>1.0</td>\n",
       "      <td>1.0</td>\n",
       "      <td>NaN</td>\n",
       "      <td>0</td>\n",
       "      <td>0</td>\n",
       "      <td>0</td>\n",
       "      <td>0</td>\n",
       "    </tr>\n",
       "    <tr>\n",
       "      <th>2</th>\n",
       "      <td>0</td>\n",
       "      <td>0</td>\n",
       "      <td>0</td>\n",
       "      <td>0</td>\n",
       "      <td>1</td>\n",
       "      <td>0</td>\n",
       "      <td>0</td>\n",
       "      <td>1</td>\n",
       "      <td>0</td>\n",
       "      <td>0.0</td>\n",
       "      <td>0.0</td>\n",
       "      <td>0.0</td>\n",
       "      <td>1</td>\n",
       "      <td>1</td>\n",
       "      <td>1</td>\n",
       "      <td>0</td>\n",
       "    </tr>\n",
       "    <tr>\n",
       "      <th>3</th>\n",
       "      <td>0</td>\n",
       "      <td>0</td>\n",
       "      <td>0</td>\n",
       "      <td>0</td>\n",
       "      <td>0</td>\n",
       "      <td>1</td>\n",
       "      <td>0</td>\n",
       "      <td>0</td>\n",
       "      <td>0</td>\n",
       "      <td>0.0</td>\n",
       "      <td>0.0</td>\n",
       "      <td>0.0</td>\n",
       "      <td>1</td>\n",
       "      <td>0</td>\n",
       "      <td>0</td>\n",
       "      <td>0</td>\n",
       "    </tr>\n",
       "    <tr>\n",
       "      <th>4</th>\n",
       "      <td>0</td>\n",
       "      <td>1</td>\n",
       "      <td>0</td>\n",
       "      <td>0</td>\n",
       "      <td>0</td>\n",
       "      <td>0</td>\n",
       "      <td>1</td>\n",
       "      <td>1</td>\n",
       "      <td>0</td>\n",
       "      <td>0.0</td>\n",
       "      <td>0.0</td>\n",
       "      <td>0.0</td>\n",
       "      <td>1</td>\n",
       "      <td>1</td>\n",
       "      <td>1</td>\n",
       "      <td>1</td>\n",
       "    </tr>\n",
       "  </tbody>\n",
       "</table>\n",
       "</div>"
      ],
      "text/plain": [
       "   imm  hsgrad  agelt25  age35p  treatment  working_at_baseline  anykidsu6  \\\n",
       "0    0       0        0       0          1                    0          1   \n",
       "1    0       1        0       1          1                    0          0   \n",
       "2    0       0        0       0          1                    0          0   \n",
       "3    0       0        0       0          0                    1          0   \n",
       "4    0       1        0       0          0                    0          1   \n",
       "\n",
       "   nevermarried  ft15  ft20  ft24  ft48  welfare15  welfare20  welfare24  \\\n",
       "0             1     0   0.0   0.0   0.0          1          1          1   \n",
       "1             1     1   1.0   1.0   NaN          0          0          0   \n",
       "2             1     0   0.0   0.0   0.0          1          1          1   \n",
       "3             0     0   0.0   0.0   0.0          1          0          0   \n",
       "4             1     0   0.0   0.0   0.0          1          1          1   \n",
       "\n",
       "   welfare48  \n",
       "0          1  \n",
       "1          0  \n",
       "2          0  \n",
       "3          0  \n",
       "4          1  "
      ]
     },
     "execution_count": 280,
     "metadata": {},
     "output_type": "execute_result"
    }
   ],
   "source": [
    "df.head()"
   ]
  },
  {
   "cell_type": "code",
   "execution_count": 281,
   "metadata": {},
   "outputs": [],
   "source": [
    "control_proportion = df[df['treatment'] == 0].mean()[['ft15','ft20','ft24','ft48']]\n",
    "treatment_proportion =  df[df['treatment'] == 1].mean()[['ft15','ft20','ft24','ft48']]\n"
   ]
  },
  {
   "cell_type": "code",
   "execution_count": 282,
   "metadata": {},
   "outputs": [
    {
     "name": "stdout",
     "output_type": "stream",
     "text": [
      "=====================================\n",
      "           ft15   ft20   ft24   ft48 \n",
      "-------------------------------------\n",
      "control   0.1472 0.1609 0.1602 0.2337\n",
      "treatment 0.2846 0.2755 0.2676 0.2842\n",
      "-------------------------------------\n"
     ]
    }
   ],
   "source": [
    "proportion = np.vstack([df[df['treatment'] == 0].mean()[['ft15','ft20','ft24','ft48']],\\\n",
    "                                df[df['treatment'] == 1].mean()[['ft15','ft20','ft24','ft48']]]).round(4)\n",
    "\n",
    "\n",
    "col = ['ft15', 'ft20', 'ft24','ft48']\n",
    "row = ['control', \"treatment\"]\n",
    "\n",
    "summary_second_stage3 = SimpleTable(proportion,col, row, txt_fmt=default_txt_fmt)\n",
    "print(summary_second_stage3)"
   ]
  },
  {
   "cell_type": "code",
   "execution_count": 283,
   "metadata": {},
   "outputs": [],
   "source": [
    "never_takers = 1 - proportion[1].T\n",
    "always_takers = proportion[0]\n",
    "compliers = proportion[1].T - proportion[0].T"
   ]
  },
  {
   "cell_type": "markdown",
   "metadata": {},
   "source": [
    "Write about the probablities of always takers, compliers and never takers. "
   ]
  },
  {
   "cell_type": "code",
   "execution_count": 284,
   "metadata": {},
   "outputs": [
    {
     "name": "stdout",
     "output_type": "stream",
     "text": [
      "The Fractions of Compliers, Always Takers and Never Takers In Months: 15,20,24,48\n",
      "=========================================\n",
      "               ft15   ft20   ft24   ft48 \n",
      "-----------------------------------------\n",
      "Never Takers  0.7154 0.7245 0.7324 0.7158\n",
      "Always Takers 0.1472 0.1609 0.1602 0.2337\n",
      "Compliers     0.1374 0.1146 0.1074 0.0505\n",
      "-----------------------------------------\n"
     ]
    }
   ],
   "source": [
    "summary_fractions = np.vstack([[never_takers], [always_takers],[compliers]]).round(4)\n",
    "col = ['ft15', 'ft20', 'ft24','ft48']\n",
    "row = ['Never Takers', \"Always Takers\", 'Compliers']\n",
    "summary_of_NAC = SimpleTable(summary_fractions, col, row, title =\\\n",
    "                            'The Fractions of Compliers, Always Takers and Never Takers In Months: 15,20,24,48')\n",
    "print(summary_of_NAC)"
   ]
  },
  {
   "cell_type": "markdown",
   "metadata": {},
   "source": [
    "2)"
   ]
  },
  {
   "cell_type": "code",
   "execution_count": 285,
   "metadata": {},
   "outputs": [
    {
     "name": "stderr",
     "output_type": "stream",
     "text": [
      "/Library/Frameworks/Python.framework/Versions/3.6/lib/python3.6/site-packages/ipykernel_launcher.py:10: SettingWithCopyWarning: \n",
      "A value is trying to be set on a copy of a slice from a DataFrame.\n",
      "Try using .loc[row_indexer,col_indexer] = value instead\n",
      "\n",
      "See the caveats in the documentation: http://pandas.pydata.org/pandas-docs/stable/indexing.html#indexing-view-versus-copy\n",
      "  # Remove the CWD from sys.path while we load stuff.\n"
     ]
    }
   ],
   "source": [
    "\n",
    "ft15d = df.dropna(subset = ['ft15'])\n",
    "ft24d =df.dropna(subset = ['ft24'])\n",
    "ft20d =df.dropna(subset = ['ft20'])\n",
    "ft48d =df.dropna(subset = ['ft48'])\n",
    "data = [ft15d, ft20d, ft24d, ft48d]\n",
    "z = ['ft15','ft20','ft24','ft48']\n",
    "for i,j in zip(data,z):\n",
    "    for s in X:\n",
    "        i[s + j] = i[s]*i[j]"
   ]
  },
  {
   "cell_type": "markdown",
   "metadata": {},
   "source": [
    "{imm,hsgrad,agelt25,age35p,working_at_baseline,anykidsu6,nevermarried}"
   ]
  },
  {
   "cell_type": "code",
   "execution_count": 286,
   "metadata": {},
   "outputs": [],
   "source": [
    "X = ['imm', 'hsgrad','agelt25','age35p','working_at_baseline','anykidsu6','nevermarried']"
   ]
  },
  {
   "cell_type": "code",
   "execution_count": 287,
   "metadata": {},
   "outputs": [],
   "source": [
    "result1 = {}\n",
    "result15 = {}\n",
    "result20 = {}\n",
    "result24 = {}\n",
    "result48 = {}\n",
    "result = [result15,result20,result24,result48]\n",
    "\n",
    "for i,p,x in zip(z,data, result):\n",
    "    for j in X:\n",
    "        reg = g.IV2SLS(p[j+i],p[i],sm.add_constant(p['treatment'])).fit()\n",
    "        x[j] = reg.params[0]\n",
    "    result1[i] = x"
   ]
  },
  {
   "cell_type": "code",
   "execution_count": 315,
   "metadata": {},
   "outputs": [
    {
     "name": "stdout",
     "output_type": "stream",
     "text": [
      "     Mean for Compliers for each Covariate     \n",
      "===============================================\n",
      "                     ft15   ft20   ft24   ft48 \n",
      "-----------------------------------------------\n",
      "age35p              0.2775 0.292  0.2842 0.2891\n",
      "agelt25             0.179  0.183  0.1925 0.1943\n",
      "anykidsu6           0.5257 0.5281 0.5336 0.5268\n",
      "hsgrad              0.5844 0.589  0.5953 0.6037\n",
      "imm                 0.1088 0.1223 0.1224 0.1224\n",
      "nevermarried        0.4798 0.4817 0.4809 0.5007\n",
      "working_at_baseline 0.3663 0.3573 0.3521 0.3155\n",
      "-----------------------------------------------\n"
     ]
    }
   ],
   "source": [
    "summl = pd.DataFrame(result1)\n",
    "print(SimpleTable(summl.values.round(4),list(summl.columns),list(summl.index), title = 'Mean for Compliers for each Covariate'))"
   ]
  }
 ],
 "metadata": {
  "kernelspec": {
   "display_name": "Python 3",
   "language": "python",
   "name": "python3"
  },
  "language_info": {
   "codemirror_mode": {
    "name": "ipython",
    "version": 3
   },
   "file_extension": ".py",
   "mimetype": "text/x-python",
   "name": "python",
   "nbconvert_exporter": "python",
   "pygments_lexer": "ipython3",
   "version": "3.6.2"
  }
 },
 "nbformat": 4,
 "nbformat_minor": 2
}
