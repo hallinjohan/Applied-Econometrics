{
 "cells": [
  {
   "cell_type": "code",
   "execution_count": 82,
   "metadata": {},
   "outputs": [],
   "source": [
    "import pandas as pd\n",
    "import numpy as np\n",
    "import scipy as sp\n",
    "import statsmodels.api as sm\n",
    "from sklearn import preprocessing"
   ]
  },
  {
   "cell_type": "code",
   "execution_count": 83,
   "metadata": {},
   "outputs": [
    {
     "data": {
      "text/html": [
       "<div>\n",
       "<style scoped>\n",
       "    .dataframe tbody tr th:only-of-type {\n",
       "        vertical-align: middle;\n",
       "    }\n",
       "\n",
       "    .dataframe tbody tr th {\n",
       "        vertical-align: top;\n",
       "    }\n",
       "\n",
       "    .dataframe thead th {\n",
       "        text-align: right;\n",
       "    }\n",
       "</style>\n",
       "<table border=\"1\" class=\"dataframe\">\n",
       "  <thead>\n",
       "    <tr style=\"text-align: right;\">\n",
       "      <th></th>\n",
       "      <th>apgar5</th>\n",
       "      <th>bthwght</th>\n",
       "      <th>height</th>\n",
       "    </tr>\n",
       "  </thead>\n",
       "  <tbody>\n",
       "    <tr>\n",
       "      <th>0</th>\n",
       "      <td>9.0</td>\n",
       "      <td>3365</td>\n",
       "      <td>62</td>\n",
       "    </tr>\n",
       "    <tr>\n",
       "      <th>1</th>\n",
       "      <td>9.0</td>\n",
       "      <td>3033</td>\n",
       "      <td>62</td>\n",
       "    </tr>\n",
       "    <tr>\n",
       "      <th>2</th>\n",
       "      <td>9.0</td>\n",
       "      <td>3005</td>\n",
       "      <td>68</td>\n",
       "    </tr>\n",
       "    <tr>\n",
       "      <th>3</th>\n",
       "      <td>9.0</td>\n",
       "      <td>2948</td>\n",
       "      <td>63</td>\n",
       "    </tr>\n",
       "    <tr>\n",
       "      <th>4</th>\n",
       "      <td>8.0</td>\n",
       "      <td>3260</td>\n",
       "      <td>62</td>\n",
       "    </tr>\n",
       "  </tbody>\n",
       "</table>\n",
       "</div>"
      ],
      "text/plain": [
       "   apgar5  bthwght  height\n",
       "0     9.0     3365      62\n",
       "1     9.0     3033      62\n",
       "2     9.0     3005      68\n",
       "3     9.0     2948      63\n",
       "4     8.0     3260      62"
      ]
     },
     "execution_count": 83,
     "metadata": {},
     "output_type": "execute_result"
    }
   ],
   "source": [
    "df = pd.read_csv('apgar.csv')\n",
    "df.dropna(inplace = True)\n",
    "df.head()"
   ]
  },
  {
   "cell_type": "code",
   "execution_count": 84,
   "metadata": {},
   "outputs": [
    {
     "name": "stderr",
     "output_type": "stream",
     "text": [
      "/Library/Frameworks/Python.framework/Versions/3.6/lib/python3.6/site-packages/sklearn/utils/validation.py:475: DataConversionWarning: Data with input dtype int64 was converted to float64 by the scale function.\n",
      "  warnings.warn(msg, DataConversionWarning)\n"
     ]
    }
   ],
   "source": [
    "df['norm_birth'] = preprocessing.scale(df['bthwght'])\n",
    "df = df.assign(apg8 = np.where(df['apgar5'] <= 8, 1,0))"
   ]
  },
  {
   "cell_type": "code",
   "execution_count": 85,
   "metadata": {},
   "outputs": [],
   "source": [
    "X = pd.DataFrame()\n",
    "X['1-degree'] = df['norm_birth']\n",
    "X['2-degree'] = X['1-degree']**2\n",
    "X['3-degree'] = X['1-degree']**3\n",
    "X['4-degree'] = X['1-degree']**4\n",
    "X['5-degree'] = X['1-degree']**5\n",
    "X['6-degree'] = X['1-degree']**6\n",
    "X = X.assign(low = np.where(X['1-degree'] < -2, 1,0))\n",
    "X = X.assign(high = np.where(X['1-degree'] > 2, 1,0))\n",
    "X = sm.add_constant(X)\n",
    "Y = df['apg8']\n",
    "X['height'] = df['height']"
   ]
  },
  {
   "cell_type": "code",
   "execution_count": 86,
   "metadata": {},
   "outputs": [],
   "source": [
    "model1 = sm.OLS(Y, X.iloc[:,0:2]).fit()\n",
    "model2 = sm.OLS(Y, X.iloc[:,0:3]).fit()\n",
    "model3 = sm.OLS(Y, X.iloc[:,0:4]).fit()\n",
    "model4 = sm.OLS(Y, X.iloc[:,0:5]).fit()\n",
    "model5 = sm.OLS(Y, X.iloc[:,0:6]).fit()\n",
    "model6 = sm.OLS(Y, X.iloc[:,0:7]).fit()\n",
    "model7 = sm.OLS(Y, X[['1-degree','2-degree','3-degree',\\\n",
    "                             '4-degree', '1-degree',\\\n",
    "                      'high','low','const']]).fit()\n",
    "model8 = sm.OLS(Y, X[['const','1-degree','2-degree','3-degree',\\\n",
    "                     '4-degree','height']]).fit()\n"
   ]
  },
  {
   "cell_type": "code",
   "execution_count": 87,
   "metadata": {},
   "outputs": [],
   "source": [
    "def rmse(predictions, targets):\n",
    "    return np.sqrt(((predictions - targets) ** 2).mean())"
   ]
  },
  {
   "cell_type": "code",
   "execution_count": 88,
   "metadata": {},
   "outputs": [],
   "source": [
    "models = [model1,model2,model3,model4,model5,model6,model7, model8]\n",
    "model_name =['model1','model2','model3','model4','model5','model6','model7','model8']\n"
   ]
  },
  {
   "cell_type": "code",
   "execution_count": 89,
   "metadata": {},
   "outputs": [],
   "source": [
    "models = [model1,model2,model3,model4,\\\n",
    "          model5,model6,model7, model8]\n",
    "model_name =['model1','model2','model3',\\\n",
    "             'model4','model5','model6','model7','model8']\n",
    "\n",
    "model_rmse = []\n",
    "for i, j in zip(models,model_name):\n",
    "    model_rmse.append(rmse(i.predict(),Y))\n",
    "\n",
    "    \n",
    "    "
   ]
  },
  {
   "cell_type": "code",
   "execution_count": 90,
   "metadata": {},
   "outputs": [],
   "source": [
    "model_rmse = list(zip(model_rmse,model_name))"
   ]
  },
  {
   "cell_type": "code",
   "execution_count": 97,
   "metadata": {},
   "outputs": [],
   "source": [
    "rmses = pd.DataFrame(model_rmse, columns = {'model','rmse'})\n",
    "rmses = rmses.set_index('model')\n",
    "\n",
    "\n"
   ]
  },
  {
   "cell_type": "code",
   "execution_count": 100,
   "metadata": {},
   "outputs": [
    {
     "name": "stdout",
     "output_type": "stream",
     "text": [
      "            rmse\n",
      "model           \n",
      "model8  0.252436\n",
      "model6  0.252445\n",
      "model5  0.252445\n",
      "model7  0.252445\n",
      "model4  0.252447\n",
      "model3  0.252464\n",
      "model2  0.252490\n",
      "model1  0.252585\n"
     ]
    }
   ],
   "source": [
    "print(rmses.sort_values(by = 'rmse'))"
   ]
  },
  {
   "cell_type": "code",
   "execution_count": null,
   "metadata": {},
   "outputs": [],
   "source": []
  },
  {
   "cell_type": "code",
   "execution_count": null,
   "metadata": {},
   "outputs": [],
   "source": []
  }
 ],
 "metadata": {
  "kernelspec": {
   "display_name": "Python 3",
   "language": "python",
   "name": "python3"
  },
  "language_info": {
   "codemirror_mode": {
    "name": "ipython",
    "version": 3
   },
   "file_extension": ".py",
   "mimetype": "text/x-python",
   "name": "python",
   "nbconvert_exporter": "python",
   "pygments_lexer": "ipython3",
   "version": "3.6.2"
  }
 },
 "nbformat": 4,
 "nbformat_minor": 2
}
