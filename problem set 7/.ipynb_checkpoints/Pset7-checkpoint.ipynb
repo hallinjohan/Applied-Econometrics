{
 "cells": [
  {
   "cell_type": "code",
   "execution_count": 1,
   "metadata": {},
   "outputs": [],
   "source": [
    "import pandas as pd\n",
    "import numpy as np\n",
    "import statsmodels.api as sm\n",
    "from linearmodels.iv import IV2SLS\n",
    "from statsmodels.iolib.table import (SimpleTable, default_txt_fmt)\n",
    "from statsmodels.iolib.summary2 import summary_col\n"
   ]
  },
  {
   "cell_type": "markdown",
   "metadata": {},
   "source": [
    "1)Estimatethefractionsofcompliers,alwaystakersandnevertakersinmonths15,20,24,48\n",
    "\n"
   ]
  },
  {
   "cell_type": "code",
   "execution_count": 2,
   "metadata": {},
   "outputs": [],
   "source": [
    "df = pd.read_csv('welfare.csv')"
   ]
  },
  {
   "cell_type": "code",
   "execution_count": 3,
   "metadata": {},
   "outputs": [],
   "source": [
    "X = df[['imm', 'hsgrad','agelt25','age35p','working_at_baseline','anykidsu6','nevermarried']]"
   ]
  },
  {
   "cell_type": "code",
   "execution_count": 4,
   "metadata": {},
   "outputs": [
    {
     "data": {
      "text/html": [
       "<div>\n",
       "<style scoped>\n",
       "    .dataframe tbody tr th:only-of-type {\n",
       "        vertical-align: middle;\n",
       "    }\n",
       "\n",
       "    .dataframe tbody tr th {\n",
       "        vertical-align: top;\n",
       "    }\n",
       "\n",
       "    .dataframe thead th {\n",
       "        text-align: right;\n",
       "    }\n",
       "</style>\n",
       "<table border=\"1\" class=\"dataframe\">\n",
       "  <thead>\n",
       "    <tr style=\"text-align: right;\">\n",
       "      <th></th>\n",
       "      <th>imm</th>\n",
       "      <th>hsgrad</th>\n",
       "      <th>agelt25</th>\n",
       "      <th>age35p</th>\n",
       "      <th>treatment</th>\n",
       "      <th>working_at_baseline</th>\n",
       "      <th>anykidsu6</th>\n",
       "      <th>nevermarried</th>\n",
       "      <th>ft15</th>\n",
       "      <th>ft20</th>\n",
       "      <th>ft24</th>\n",
       "      <th>ft48</th>\n",
       "      <th>welfare15</th>\n",
       "      <th>welfare20</th>\n",
       "      <th>welfare24</th>\n",
       "      <th>welfare48</th>\n",
       "    </tr>\n",
       "  </thead>\n",
       "  <tbody>\n",
       "    <tr>\n",
       "      <th>0</th>\n",
       "      <td>0</td>\n",
       "      <td>0</td>\n",
       "      <td>0</td>\n",
       "      <td>0</td>\n",
       "      <td>1</td>\n",
       "      <td>0</td>\n",
       "      <td>1</td>\n",
       "      <td>1</td>\n",
       "      <td>0</td>\n",
       "      <td>0.0</td>\n",
       "      <td>0.0</td>\n",
       "      <td>0.0</td>\n",
       "      <td>1</td>\n",
       "      <td>1</td>\n",
       "      <td>1</td>\n",
       "      <td>1</td>\n",
       "    </tr>\n",
       "    <tr>\n",
       "      <th>1</th>\n",
       "      <td>0</td>\n",
       "      <td>1</td>\n",
       "      <td>0</td>\n",
       "      <td>1</td>\n",
       "      <td>1</td>\n",
       "      <td>0</td>\n",
       "      <td>0</td>\n",
       "      <td>1</td>\n",
       "      <td>1</td>\n",
       "      <td>1.0</td>\n",
       "      <td>1.0</td>\n",
       "      <td>NaN</td>\n",
       "      <td>0</td>\n",
       "      <td>0</td>\n",
       "      <td>0</td>\n",
       "      <td>0</td>\n",
       "    </tr>\n",
       "    <tr>\n",
       "      <th>2</th>\n",
       "      <td>0</td>\n",
       "      <td>0</td>\n",
       "      <td>0</td>\n",
       "      <td>0</td>\n",
       "      <td>1</td>\n",
       "      <td>0</td>\n",
       "      <td>0</td>\n",
       "      <td>1</td>\n",
       "      <td>0</td>\n",
       "      <td>0.0</td>\n",
       "      <td>0.0</td>\n",
       "      <td>0.0</td>\n",
       "      <td>1</td>\n",
       "      <td>1</td>\n",
       "      <td>1</td>\n",
       "      <td>0</td>\n",
       "    </tr>\n",
       "    <tr>\n",
       "      <th>3</th>\n",
       "      <td>0</td>\n",
       "      <td>0</td>\n",
       "      <td>0</td>\n",
       "      <td>0</td>\n",
       "      <td>0</td>\n",
       "      <td>1</td>\n",
       "      <td>0</td>\n",
       "      <td>0</td>\n",
       "      <td>0</td>\n",
       "      <td>0.0</td>\n",
       "      <td>0.0</td>\n",
       "      <td>0.0</td>\n",
       "      <td>1</td>\n",
       "      <td>0</td>\n",
       "      <td>0</td>\n",
       "      <td>0</td>\n",
       "    </tr>\n",
       "    <tr>\n",
       "      <th>4</th>\n",
       "      <td>0</td>\n",
       "      <td>1</td>\n",
       "      <td>0</td>\n",
       "      <td>0</td>\n",
       "      <td>0</td>\n",
       "      <td>0</td>\n",
       "      <td>1</td>\n",
       "      <td>1</td>\n",
       "      <td>0</td>\n",
       "      <td>0.0</td>\n",
       "      <td>0.0</td>\n",
       "      <td>0.0</td>\n",
       "      <td>1</td>\n",
       "      <td>1</td>\n",
       "      <td>1</td>\n",
       "      <td>1</td>\n",
       "    </tr>\n",
       "  </tbody>\n",
       "</table>\n",
       "</div>"
      ],
      "text/plain": [
       "   imm  hsgrad  agelt25  age35p  treatment  working_at_baseline  anykidsu6  \\\n",
       "0    0       0        0       0          1                    0          1   \n",
       "1    0       1        0       1          1                    0          0   \n",
       "2    0       0        0       0          1                    0          0   \n",
       "3    0       0        0       0          0                    1          0   \n",
       "4    0       1        0       0          0                    0          1   \n",
       "\n",
       "   nevermarried  ft15  ft20  ft24  ft48  welfare15  welfare20  welfare24  \\\n",
       "0             1     0   0.0   0.0   0.0          1          1          1   \n",
       "1             1     1   1.0   1.0   NaN          0          0          0   \n",
       "2             1     0   0.0   0.0   0.0          1          1          1   \n",
       "3             0     0   0.0   0.0   0.0          1          0          0   \n",
       "4             1     0   0.0   0.0   0.0          1          1          1   \n",
       "\n",
       "   welfare48  \n",
       "0          1  \n",
       "1          0  \n",
       "2          0  \n",
       "3          0  \n",
       "4          1  "
      ]
     },
     "execution_count": 4,
     "metadata": {},
     "output_type": "execute_result"
    }
   ],
   "source": [
    "df.head()"
   ]
  },
  {
   "cell_type": "code",
   "execution_count": 5,
   "metadata": {},
   "outputs": [],
   "source": [
    "control_proportion = df[df['treatment'] == 0].mean()[['ft15','ft20','ft24','ft48']]\n",
    "treatment_proportion =  df[df['treatment'] == 1].mean()[['ft15','ft20','ft24','ft48']]\n"
   ]
  },
  {
   "cell_type": "code",
   "execution_count": 6,
   "metadata": {},
   "outputs": [
    {
     "name": "stdout",
     "output_type": "stream",
     "text": [
      "=====================================\n",
      "           ft15   ft20   ft24   ft48 \n",
      "-------------------------------------\n",
      "control   0.1472 0.1609 0.1602 0.2337\n",
      "treatment 0.2846 0.2755 0.2676 0.2842\n",
      "-------------------------------------\n"
     ]
    }
   ],
   "source": [
    "proportion = np.vstack([df[df['treatment'] == 0].mean()[['ft15','ft20','ft24','ft48']],\\\n",
    "                                df[df['treatment'] == 1].mean()[['ft15','ft20','ft24','ft48']]]).round(4)\n",
    "\n",
    "\n",
    "col = ['ft15', 'ft20', 'ft24','ft48']\n",
    "row = ['control', \"treatment\"]\n",
    "\n",
    "summary_second_stage3 = SimpleTable(proportion,col, row, txt_fmt=default_txt_fmt)\n",
    "print(summary_second_stage3)"
   ]
  },
  {
   "cell_type": "code",
   "execution_count": 7,
   "metadata": {},
   "outputs": [],
   "source": [
    "never_takers = 1 - proportion[1].T\n",
    "always_takers = proportion[0]\n",
    "compliers = proportion[1].T - proportion[0].T"
   ]
  },
  {
   "cell_type": "markdown",
   "metadata": {},
   "source": [
    "Write about the probablities of always takers, compliers and never takers. "
   ]
  },
  {
   "cell_type": "code",
   "execution_count": 8,
   "metadata": {},
   "outputs": [
    {
     "name": "stdout",
     "output_type": "stream",
     "text": [
      "The Fractions of Compliers, Always Takers and Never Takers In Months: 15,20,24,48\n",
      "=========================================\n",
      "               ft15   ft20   ft24   ft48 \n",
      "-----------------------------------------\n",
      "Never Takers  0.7154 0.7245 0.7324 0.7158\n",
      "Always Takers 0.1472 0.1609 0.1602 0.2337\n",
      "Compliers     0.1374 0.1146 0.1074 0.0505\n",
      "-----------------------------------------\n"
     ]
    }
   ],
   "source": [
    "summary_fractions = np.vstack([[never_takers], [always_takers],[compliers]]).round(4)\n",
    "col = ['ft15', 'ft20', 'ft24','ft48']\n",
    "row = ['Never Takers', \"Always Takers\", 'Compliers']\n",
    "summary_of_NAC = SimpleTable(summary_fractions, col, row, title =\\\n",
    "                            'The Fractions of Compliers, Always Takers and Never Takers In Months: 15,20,24,48')\n",
    "print(summary_of_NAC)"
   ]
  },
  {
   "cell_type": "markdown",
   "metadata": {},
   "source": [
    "{imm,hsgrad,agelt25,age35p,working_at_baseline,anykidsu6,nevermarried}"
   ]
  },
  {
   "cell_type": "code",
   "execution_count": 14,
   "metadata": {},
   "outputs": [],
   "source": [
    "X = ['imm', 'hsgrad','agelt25','age35p','working_at_baseline','anykidsu6','nevermarried']\n",
    "z = ['ft15','ft20','ft24','ft48']"
   ]
  },
  {
   "cell_type": "code",
   "execution_count": 74,
   "metadata": {},
   "outputs": [],
   "source": [
    "result = {}\n",
    "result1 = {}\n",
    "for i in z:\n",
    "    for j in X:\n",
    "        reg = sm.OLS(df[j]*df[i], sm.add_constant(df[i]),'drop').fit()\n",
    "        reg1 = sm.OLS(df[i], sm.add_constant(df['treatment']), missing = 'drop' ).fit()\n",
    "        result1[j] = reg1.params[1] / reg.params[1]\n",
    "    result[i] = result1"
   ]
  },
  {
   "cell_type": "code",
   "execution_count": 80,
   "metadata": {},
   "outputs": [],
   "source": [
    "summl = pd.DataFrame(result)"
   ]
  },
  {
   "cell_type": "code",
   "execution_count": 82,
   "metadata": {},
   "outputs": [
    {
     "name": "stdout",
     "output_type": "stream",
     "text": [
      "                         ft15      ft20      ft24      ft48\n",
      "age35p               0.175258  0.175258  0.175258  0.175258\n",
      "agelt25              0.259990  0.259990  0.259990  0.259990\n",
      "anykidsu6            0.095911  0.095911  0.095911  0.095911\n",
      "hsgrad               0.083556  0.083556  0.083556  0.083556\n",
      "imm                  0.413931  0.413931  0.413931  0.413931\n",
      "nevermarried         0.100829  0.100829  0.100829  0.100829\n",
      "working_at_baseline  0.159285  0.159285  0.159285  0.159285\n"
     ]
    }
   ],
   "source": [
    "print(summl)"
   ]
  },
  {
   "cell_type": "code",
   "execution_count": null,
   "metadata": {},
   "outputs": [],
   "source": []
  }
 ],
 "metadata": {
  "kernelspec": {
   "display_name": "Python 3",
   "language": "python",
   "name": "python3"
  },
  "language_info": {
   "codemirror_mode": {
    "name": "ipython",
    "version": 3
   },
   "file_extension": ".py",
   "mimetype": "text/x-python",
   "name": "python",
   "nbconvert_exporter": "python",
   "pygments_lexer": "ipython3",
   "version": "3.6.2"
  }
 },
 "nbformat": 4,
 "nbformat_minor": 2
}
