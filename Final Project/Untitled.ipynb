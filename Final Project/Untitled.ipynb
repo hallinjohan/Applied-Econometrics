{
 "cells": [
  {
   "cell_type": "code",
   "execution_count": 133,
   "metadata": {},
   "outputs": [],
   "source": [
    "%matplotlib inline\n",
    "import pandas as pd\n",
    "import numpy as np\n",
    "import scipy\n",
    "import sklearn as sc\n",
    "import statsmodels.api as sm\n",
    "from statsmodels.iolib.table import (SimpleTable, default_txt_fmt)\n",
    "from statsmodels.iolib.summary2 import summary_col\n",
    "import matplotlib.pyplot as plt\n",
    "import matplotlib as mpl\n",
    "import matplotlib.cm as cm\n",
    "import seaborn as sns\n",
    "from IPython.display import display\n",
    "from scipy import stats\n"
   ]
  },
  {
   "cell_type": "code",
   "execution_count": 134,
   "metadata": {},
   "outputs": [],
   "source": [
    "df = pd.read_csv('sample.csv')"
   ]
  },
  {
   "cell_type": "code",
   "execution_count": 202,
   "metadata": {},
   "outputs": [],
   "source": [
    "#Method to describe model parameters. \n",
    "def sum_table(results, models, order, name):\n",
    "    info_dict={'R-squared' : lambda x: f\"{x.rsquared:.2f}\",\n",
    "           'No. observations' : lambda x: f\"{int(x.nobs):d}\"}\n",
    "\n",
    "\n",
    "    results_table = summary_col(results= results,\n",
    "                                float_format='%0.4f',\n",
    "                                stars = True,\n",
    "                                model_names= models,\n",
    "                                info_dict=info_dict,\n",
    "                                regressor_order = order)\n",
    "    results_table.add_title(name)\n",
    "    return results_table\n"
   ]
  },
  {
   "cell_type": "markdown",
   "metadata": {},
   "source": [
    "### Part I: Question 1\n",
    "\n",
    "##### Model 1: 3 explanatory variables plus a constant:\n",
    "$morekids = \\beta_0 + \\beta_1* educm' + \\beta_2*agem' + \\beta_3*agefstm' + \\epsilon$\n",
    "\n",
    "##### Model2: Full set of dummy variables for mother's eduction, mother's age and mother's age at first birth. \n",
    "\n",
    "Let $\\theta$ be a vector containing the coefficient for the dummies of mother's education.\n",
    "$D_1= (educ_0,educ1,...educ_{20})'$\n",
    "\n",
    "$morekids = \\theta_1*D_0' + \\beta_1*agem' + \\beta_2*agefstm' + \\epsilon$\n",
    "\n",
    "##### Model3: Full set of dummy variables for mother's eduction,a full set of dummy variables for mother's age and a full set of dummy variables for mother's age at first birth.\n",
    "Let $\\theta_2$ be a vector containing the coefficeint for the dummies of mother's age\n",
    "$D_2 = (agem_{21}, agem_{22},...,agem_{35})'$\n",
    "\n",
    "Let $\\theta_3$ be a vector containing the coefficeint for the dummies of mother's age at first birth\n",
    "$D_3 = (agefstm_{15}, agefsm_{16},...,agefstm_{33})'$\n",
    "\n",
    "$morekids = \\theta_1*D_1' + \\theta_2*D_2' + \\theta_3*D_3' + \\epsilon$"
   ]
  },
  {
   "cell_type": "code",
   "execution_count": 136,
   "metadata": {},
   "outputs": [],
   "source": [
    "\n",
    "##### Model 1 #####\n",
    "#Output Variable\n",
    "Y = df.loc[:,'morekids']\n",
    "#Predictors\n",
    "X1 = pd.DataFrame()\n",
    "X1['educm'] = df.loc[:,'educm']\n",
    "X1['agem'] = df.loc[:,'agem']\n",
    "X1['agefstm'] = df.loc[:,'agefstm']\n",
    "X1 = sm.add_constant(X1)\n",
    "\n",
    "M1 = sm.OLS(Y,X1).fit()\n",
    "\n",
    "##### Model 2 #####\n",
    "Y = df.loc[:,'morekids']\n",
    "X2 = pd.DataFrame()\n",
    "#Constructs and appends a set of dummies to the predictor matrix.\n",
    "dummies = pd.get_dummies(df['educm'], prefix = 'educm', drop_first = True)\n",
    "educD = ['educyear_' + str(i) for i in range(0,21)]\n",
    "    \n",
    "X2['agem'] = df.loc[:,'agem']\n",
    "X2['agefstm'] = df.loc[:,'agefstm']\n",
    "X2 = sm.add_constant(X2)\n",
    "X2 = X2.merge(dummies, how = 'left', left_on = X2.index, right_on = dummies.index )\n",
    "M2 = sm.OLS(Y,X2).fit()\n",
    "\n",
    "\n",
    "##### Model 3 #####\n",
    "Y = df.loc[:,'morekids']\n",
    "X3 = pd.DataFrame()\n",
    "X3 = pd.concat(\n",
    "    [pd.get_dummies(df[label], prefix = label, drop_first = True)\\\n",
    "     for label in ['educm','agem','agefstm']], axis = 1\n",
    "\n",
    ")\n",
    "M3 = sm.OLS(Y,X3).fit()\n"
   ]
  },
  {
   "cell_type": "code",
   "execution_count": null,
   "metadata": {},
   "outputs": [],
   "source": []
  },
  {
   "cell_type": "code",
   "execution_count": 137,
   "metadata": {
    "scrolled": false
   },
   "outputs": [],
   "source": [
    "summary = sum_table([M1, M2, M3], \\\n",
    "          [ 'Model1','Model2', 'Model3'], list(X3.columns),\\\n",
    "          'Table 3 - Reduced form for the probability of being on Welfare')\n"
   ]
  },
  {
   "cell_type": "markdown",
   "metadata": {},
   "source": [
    "#### Summary table for the corresponding models r-squared, adjusted r-squared and Akaike information criterion (AIC)"
   ]
  },
  {
   "cell_type": "code",
   "execution_count": 138,
   "metadata": {},
   "outputs": [
    {
     "data": {
      "text/html": [
       "<div>\n",
       "<style scoped>\n",
       "    .dataframe tbody tr th:only-of-type {\n",
       "        vertical-align: middle;\n",
       "    }\n",
       "\n",
       "    .dataframe tbody tr th {\n",
       "        vertical-align: top;\n",
       "    }\n",
       "\n",
       "    .dataframe thead th {\n",
       "        text-align: right;\n",
       "    }\n",
       "</style>\n",
       "<table border=\"1\" class=\"dataframe\">\n",
       "  <thead>\n",
       "    <tr style=\"text-align: right;\">\n",
       "      <th></th>\n",
       "      <th>R2</th>\n",
       "      <th>Adjusted R2</th>\n",
       "      <th>AIC</th>\n",
       "    </tr>\n",
       "    <tr>\n",
       "      <th>Model</th>\n",
       "      <th></th>\n",
       "      <th></th>\n",
       "      <th></th>\n",
       "    </tr>\n",
       "  </thead>\n",
       "  <tbody>\n",
       "    <tr>\n",
       "      <th>1</th>\n",
       "      <td>0.070460</td>\n",
       "      <td>0.070448</td>\n",
       "      <td>310226.908695</td>\n",
       "    </tr>\n",
       "    <tr>\n",
       "      <th>2</th>\n",
       "      <td>0.075489</td>\n",
       "      <td>0.075399</td>\n",
       "      <td>308984.090414</td>\n",
       "    </tr>\n",
       "    <tr>\n",
       "      <th>3</th>\n",
       "      <td>0.419697</td>\n",
       "      <td>0.419570</td>\n",
       "      <td>309336.645114</td>\n",
       "    </tr>\n",
       "  </tbody>\n",
       "</table>\n",
       "</div>"
      ],
      "text/plain": [
       "             R2  Adjusted R2            AIC\n",
       "Model                                      \n",
       "1      0.070460     0.070448  310226.908695\n",
       "2      0.075489     0.075399  308984.090414\n",
       "3      0.419697     0.419570  309336.645114"
      ]
     },
     "metadata": {},
     "output_type": "display_data"
    }
   ],
   "source": [
    "#Retreiving r-squared, adjusted-r-squared and Akaike information criterion.\n",
    "model = pd.DataFrame(columns = ['Model','R2','Adjusted R2','AIC'])\n",
    "model1 = ['1',M1.rsquared,M1.rsquared_adj,M1.aic]\n",
    "model2 = ['2',M2.rsquared,M2.rsquared_adj,M2.aic]\n",
    "model3 = ['3',M3.rsquared,M3.rsquared_adj,M3.aic]\n",
    "model.loc[0] = model1\n",
    "model.loc[1] = model2\n",
    "model.loc[2] = model3\n",
    "display(model.set_index('Model'))\n",
    "\n"
   ]
  },
  {
   "cell_type": "markdown",
   "metadata": {},
   "source": [
    "#### Probabilities of having 1(morekids = 1) and corresponding standard errors:\n",
    "1. the difference in probabilities for mothers age 30 vs 35\n",
    "2. the difference in probabilities for mothers with 12 versus 16 years of education\n",
    "3. the difference in probabilities for mothers who had a first child at age 20 versus 25."
   ]
  },
  {
   "cell_type": "code",
   "execution_count": 139,
   "metadata": {},
   "outputs": [],
   "source": [
    "# (1) \n",
    "m30_35 = pd.DataFrame(columns = ['pr(35)','pr(30)','pr(35) - pr(30)'])\n",
    "agem30 = X3.loc[X3['agem_30'] == 1]\n",
    "agem35 = X3.loc[X3['agem_35'] == 1]\n",
    "p30 = np.mean(M3.predict(agem30).values)\n",
    "p35 = np.mean(M3.predict(agem35).values)\n",
    "diff = p35 - p30\n",
    "m30_35.loc[0] = [p35,p30,diff]\n",
    "# (2)\n",
    "educ12_16 = pd.DataFrame(columns = ['pr(12)','pr(16)','pr(12) - pr(16)'])\n",
    "educ12 = X3.loc[X3['educm_12'] == 1]\n",
    "educ16 = X3.loc[X3['educm_16'] == 1]\n",
    "p12 = np.mean(M3.predict(educ12).values)\n",
    "p16 = np.mean(M3.predict(educ16).values)\n",
    "diff1 = p12 - p16\n",
    "educ12_16.loc[0] = [p12,p16,diff1]\n",
    "# (3)\n",
    "agefstm25_20 = pd.DataFrame(columns = ['pr(20)', 'pr(25)','diff2'])\n",
    "agefstm20 = X3.loc[X3['agefstm_20'] == 1]\n",
    "agefstm25 = X3.loc[X3['agefstm_25'] == 1]\n",
    "p20 = np.mean(M3.predict(agefstm20).values)\n",
    "p25 = np.mean(M3.predict(agefstm25).values)\n",
    "diff2 = p20 - p25\n",
    "agefstm25_20.loc[0] = [p20,p25,diff2]\n",
    "\n",
    "\n",
    "\n",
    "\n",
    "\n",
    "\n"
   ]
  },
  {
   "cell_type": "code",
   "execution_count": 140,
   "metadata": {},
   "outputs": [
    {
     "data": {
      "text/html": [
       "<div>\n",
       "<style scoped>\n",
       "    .dataframe tbody tr th:only-of-type {\n",
       "        vertical-align: middle;\n",
       "    }\n",
       "\n",
       "    .dataframe tbody tr th {\n",
       "        vertical-align: top;\n",
       "    }\n",
       "\n",
       "    .dataframe thead th {\n",
       "        text-align: right;\n",
       "    }\n",
       "</style>\n",
       "<table border=\"1\" class=\"dataframe\">\n",
       "  <thead>\n",
       "    <tr style=\"text-align: right;\">\n",
       "      <th></th>\n",
       "      <th>pr(35)</th>\n",
       "      <th>pr(30)</th>\n",
       "      <th>pr(35) - pr(30)</th>\n",
       "    </tr>\n",
       "  </thead>\n",
       "  <tbody>\n",
       "    <tr>\n",
       "      <th>0</th>\n",
       "      <td>0.452797</td>\n",
       "      <td>0.358617</td>\n",
       "      <td>0.09418</td>\n",
       "    </tr>\n",
       "  </tbody>\n",
       "</table>\n",
       "</div>"
      ],
      "text/plain": [
       "     pr(35)    pr(30)  pr(35) - pr(30)\n",
       "0  0.452797  0.358617          0.09418"
      ]
     },
     "metadata": {},
     "output_type": "display_data"
    },
    {
     "data": {
      "text/html": [
       "<div>\n",
       "<style scoped>\n",
       "    .dataframe tbody tr th:only-of-type {\n",
       "        vertical-align: middle;\n",
       "    }\n",
       "\n",
       "    .dataframe tbody tr th {\n",
       "        vertical-align: top;\n",
       "    }\n",
       "\n",
       "    .dataframe thead th {\n",
       "        text-align: right;\n",
       "    }\n",
       "</style>\n",
       "<table border=\"1\" class=\"dataframe\">\n",
       "  <thead>\n",
       "    <tr style=\"text-align: right;\">\n",
       "      <th></th>\n",
       "      <th>pr(12)</th>\n",
       "      <th>pr(16)</th>\n",
       "      <th>pr(12) - pr(16)</th>\n",
       "    </tr>\n",
       "  </thead>\n",
       "  <tbody>\n",
       "    <tr>\n",
       "      <th>0</th>\n",
       "      <td>0.3618</td>\n",
       "      <td>0.306319</td>\n",
       "      <td>0.055481</td>\n",
       "    </tr>\n",
       "  </tbody>\n",
       "</table>\n",
       "</div>"
      ],
      "text/plain": [
       "   pr(12)    pr(16)  pr(12) - pr(16)\n",
       "0  0.3618  0.306319         0.055481"
      ]
     },
     "metadata": {},
     "output_type": "display_data"
    },
    {
     "data": {
      "text/html": [
       "<div>\n",
       "<style scoped>\n",
       "    .dataframe tbody tr th:only-of-type {\n",
       "        vertical-align: middle;\n",
       "    }\n",
       "\n",
       "    .dataframe tbody tr th {\n",
       "        vertical-align: top;\n",
       "    }\n",
       "\n",
       "    .dataframe thead th {\n",
       "        text-align: right;\n",
       "    }\n",
       "</style>\n",
       "<table border=\"1\" class=\"dataframe\">\n",
       "  <thead>\n",
       "    <tr style=\"text-align: right;\">\n",
       "      <th></th>\n",
       "      <th>pr(20)</th>\n",
       "      <th>pr(25)</th>\n",
       "      <th>diff2</th>\n",
       "    </tr>\n",
       "  </thead>\n",
       "  <tbody>\n",
       "    <tr>\n",
       "      <th>0</th>\n",
       "      <td>0.40308</td>\n",
       "      <td>0.242847</td>\n",
       "      <td>0.160233</td>\n",
       "    </tr>\n",
       "  </tbody>\n",
       "</table>\n",
       "</div>"
      ],
      "text/plain": [
       "    pr(20)    pr(25)     diff2\n",
       "0  0.40308  0.242847  0.160233"
      ]
     },
     "metadata": {},
     "output_type": "display_data"
    }
   ],
   "source": [
    "display(m30_35)\n",
    "\n",
    "display(educ12_16)\n",
    "\n",
    "display(agefstm25_20)"
   ]
  },
  {
   "cell_type": "markdown",
   "metadata": {},
   "source": [
    "#### Graph the actual and predicted probabilities from M1, M2 and M3 of having morekids = 1 for 35 year old mothers with 12 years of education who had their first child at ages 17,18,....30"
   ]
  },
  {
   "cell_type": "code",
   "execution_count": 141,
   "metadata": {},
   "outputs": [],
   "source": [
    "X1['predicted'] = M1.predict(X1)\n",
    "X2['predicted'] = M2.predict(X2)\n",
    "X3['predicted'] = M3.predict(X3)\n"
   ]
  },
  {
   "cell_type": "code",
   "execution_count": 142,
   "metadata": {},
   "outputs": [
    {
     "name": "stderr",
     "output_type": "stream",
     "text": [
      "/Library/Frameworks/Python.framework/Versions/3.6/lib/python3.6/site-packages/ipykernel_launcher.py:5: SettingWithCopyWarning: \n",
      "A value is trying to be set on a copy of a slice from a DataFrame.\n",
      "Try using .loc[row_indexer,col_indexer] = value instead\n",
      "\n",
      "See the caveats in the documentation: http://pandas.pydata.org/pandas-docs/stable/indexing.html#indexing-view-versus-copy\n",
      "  \"\"\"\n"
     ]
    }
   ],
   "source": [
    "actual = df.loc[(df['agem'] == 35) & \\\n",
    "                (df['educm'] == 12)].groupby('agefstm').mean()['morekids']\n",
    "predictM1 = X1.loc[(X1['agem'] == 35) & \\\n",
    "                   (X1['educm'] == 12)].groupby('agefstm').mean()['predicted']\n",
    "predictM2 = X2.loc[(X2['agem'] == 35) & \\\n",
    "                   (X2['educm_12'] == 1)].groupby('agefstm').mean()['predicted']\n",
    "predictM3 = X3.loc[(X3['agem_35'] == 1) & \\\n",
    "                   (X3['educm_12'] == 1)]\n",
    "predictM3['agefstm'] = df.loc[(df['agem'] == 35) & \\\n",
    "                (df['educm'] == 12)]['agefstm']\n",
    "predictM3 = predictM3.groupby('agefstm').mean()['predicted']\n"
   ]
  },
  {
   "cell_type": "code",
   "execution_count": 143,
   "metadata": {},
   "outputs": [
    {
     "data": {
      "text/plain": [
       "<matplotlib.legend.Legend at 0x1627646a0>"
      ]
     },
     "execution_count": 143,
     "metadata": {},
     "output_type": "execute_result"
    },
    {
     "data": {
      "image/png": "[encoded data removed]",
      "text/plain": [
       "<Figure size 720x720 with 1 Axes>"
      ]
     },
     "metadata": {
      "needs_background": "light"
     },
     "output_type": "display_data"
    }
   ],
   "source": [
    "fig, ax = plt.subplots(figsize=(10, 10))\n",
    "ax.set_facecolor('#FFFFFF')\n",
    "fig.suptitle('Probability of Having More Kids for Mothers of Age 35 and 12 Years Education', fontsize=18)\n",
    "ax.set_xlabel(\"Mother's Age at First Birth\",fontsize=15)\n",
    "ax.set_ylabel(\"Pr(Morekids = 1)\",fontsize=15)\n",
    "for i in [actual, predictM1, predictM2, predictM3]:\n",
    "    ax.plot(i, linewidth = 2)\n",
    "    ax.set_xlim(17,30)\n",
    "    \n",
    "ax.legend(['Actual','M1','M2','M3'], fontsize = 'medium')\n"
   ]
  },
  {
   "cell_type": "markdown",
   "metadata": {},
   "source": [
    "##### Based on your results and any other evidence you can develop, compare the advantages and disadvantages of M1, M2, M3:\n",
    "\n",
    "\n",
    "    Although model 3 has the lowest RMSE, it's only a slight difference. Looking at the plotted predicted values, we can see that model 1 is overstating the predicted values consistently. Further, looking at the residual plot, we notice that the probabilities are following each other with marginal difference for model 3 ~22. Model 3 does the overall best job predicting the event having more children, it could be such that describing the event morekids requires a somewhat simpler model such as model 2 or 1. "
   ]
  },
  {
   "cell_type": "code",
   "execution_count": 144,
   "metadata": {},
   "outputs": [],
   "source": [
    "def rmse(predicted, actual):\n",
    "    return np.mean(np.sqrt((actual - predicted)** 2))\n",
    "\n",
    "def mae(predicted, actual):\n",
    "    return np.mean(abs(actual - predicted))\n"
   ]
  },
  {
   "cell_type": "code",
   "execution_count": 145,
   "metadata": {},
   "outputs": [],
   "source": [
    "pM1 = M1.predict(X1.drop('predicted', axis = 1)).values\n",
    "pM2 = M2.predict(X2.drop('predicted', axis = 1)).values\n",
    "pM3 = M3.predict(X3.drop(['predicted'], axis = 1)).values\n",
    "\n",
    "M1_rmse = rmse(pM1, df['morekids'].values)\n",
    "M2_rmse = rmse(pM2, df['morekids'].values)\n",
    "M3_rmse = rmse(pM3, df['morekids'].values)\n",
    "\n",
    "M1_mae = mae(pM1, df['morekids'].values)\n",
    "M2_mae = mae(pM2, df['morekids'].values)\n",
    "M3_mae = mae(pM3, df['morekids'].values)\n",
    "\n",
    "\n",
    "\n",
    "rmse = {\"M1\": M1_rmse, \"M2\": M2_rmse, \"M3\": M3_rmse}\n",
    "\n",
    "MAE = {\"M1\": M1_mae, \"M2\": M2_mae, \"M3\": M3_mae}\n",
    "\n",
    "\n"
   ]
  },
  {
   "cell_type": "code",
   "execution_count": 146,
   "metadata": {},
   "outputs": [
    {
     "data": {
      "text/plain": [
       "[<matplotlib.lines.Line2D at 0x166773240>]"
      ]
     },
     "execution_count": 146,
     "metadata": {},
     "output_type": "execute_result"
    },
    {
     "data": {
      "image/png": "[encoded data removed]",
      "text/plain": [
       "<Figure size 360x360 with 2 Axes>"
      ]
     },
     "metadata": {
      "needs_background": "light"
     },
     "output_type": "display_data"
    }
   ],
   "source": [
    "fig, ax = plt.subplots(1,2,figsize=(5, 5))\n",
    "fig.suptitle(\"Models RMSE\", fontsize = 18)\n",
    "ax[0].set_ylabel(\"Loss\", fontsize = 15)\n",
    "ax[0].set_xlabel(\"Model\", fontsize = 15)\n",
    "ax[0].set_facecolor('#FFFFFF')\n",
    "ax[0].plot(rmse.keys(),rmse.values(),marker='o')\n",
    "ax[1].set_ylabel(\"Loss\", fontsize = 15)\n",
    "ax[1].set_xlabel(\"Model\", fontsize = 15)\n",
    "ax[1].set_facecolor('#FFFFFF')\n",
    "ax[1].plot(MAE.keys(),MAE.values(),marker='o')\n",
    "\n"
   ]
  },
  {
   "cell_type": "code",
   "execution_count": 234,
   "metadata": {},
   "outputs": [
    {
     "data": {
      "text/plain": [
       "<matplotlib.legend.Legend at 0x1a729acc0>"
      ]
     },
     "execution_count": 234,
     "metadata": {},
     "output_type": "execute_result"
    },
    {
     "data": {
      "image/png": "[encoded data removed]",
      "text/plain": [
       "<Figure size 720x720 with 1 Axes>"
      ]
     },
     "metadata": {
      "needs_background": "light"
     },
     "output_type": "display_data"
    }
   ],
   "source": [
    "fig, ax = plt.subplots(figsize=(10, 10))\n",
    "ax.set_facecolor('#FFFFFF')\n",
    "ax.set_xlabel(\"Mother's Age at First Birth\",fontsize=15)\n",
    "ax.set_ylabel(\"Residual)\",fontsize=15)\n",
    "for i in [M1.resid, M2.resid, M3.resid]:\n",
    "    ax.plot(i, linewidth = 2)\n",
    "    ax.set_xlim(17,28)\n",
    "    \n",
    "ax.legend(['M1','M2','M3'], fontsize = 'medium')"
   ]
  },
  {
   "cell_type": "markdown",
   "metadata": {},
   "source": [
    "### Part I: Question 2\n",
    "\n",
    "a) Starting from M3, estimate an extended model that also includes dad's age, dad's education, and 3 variables for mother's race/ethnicity: blackm, hispm, othracem\n",
    "\n",
    "The updated model follows: \n",
    "\n",
    "$morekids = \\theta_1*D_1' + \\theta_2*D_2' + \\theta_3*D_3' + \\beta_1*aged' + \\beta_2*educd' + \\beta_3*blackm' + \\beta_4*hispm'+ beta_5*othracem' +   \\epsilon$\n"
   ]
  },
  {
   "cell_type": "code",
   "execution_count": 147,
   "metadata": {},
   "outputs": [],
   "source": [
    "X4 = X3.drop('predicted', axis = 1)\n",
    "X4['blackm'] = df['blackm']\n",
    "X4['hispm'] = df['hispm']\n",
    "X4['aged'] = df['aged']\n",
    "X4['educd'] = df['educd']\n",
    "X4['othracem'] = df['othracem']\n",
    "M4 = sm.OLS(Y, X4).fit()\n",
    "# sklearn has nice methods for computing the individual F-statistics\n"
   ]
  },
  {
   "cell_type": "markdown",
   "metadata": {},
   "source": [
    "To the added model, we'd like to test whether the new variables are excludable or not. We will do so using the Chow test.\n",
    "\n",
    "We will have 5 test to compute. Informally under the null: the restricted model(M3) fits as well as the full model.  \n",
    "\n",
    "> $H_0: \\beta_1 = \\beta_2 = \\beta_3 = \\beta_4 = \\beta_5 =0$\n",
    "\n",
    "> $H_\\alpha$: at least one $\\beta$ is non-zero\n",
    "\n",
    "Where we reject if: $F > f(0.05, df_1,df_2)$"
   ]
  },
  {
   "cell_type": "code",
   "execution_count": 148,
   "metadata": {
    "scrolled": true
   },
   "outputs": [
    {
     "name": "stderr",
     "output_type": "stream",
     "text": [
      "/Library/Frameworks/Python.framework/Versions/3.6/lib/python3.6/site-packages/scipy/stats/_distn_infrastructure.py:879: RuntimeWarning: invalid value encountered in greater\n",
      "  return (self.a < x) & (x < self.b)\n",
      "/Library/Frameworks/Python.framework/Versions/3.6/lib/python3.6/site-packages/scipy/stats/_distn_infrastructure.py:879: RuntimeWarning: invalid value encountered in less\n",
      "  return (self.a < x) & (x < self.b)\n",
      "/Library/Frameworks/Python.framework/Versions/3.6/lib/python3.6/site-packages/scipy/stats/_distn_infrastructure.py:1821: RuntimeWarning: invalid value encountered in less_equal\n",
      "  cond2 = cond0 & (x <= self.a)\n"
     ]
    }
   ],
   "source": [
    "from statsmodels.stats.anova import anova_lm\n",
    "\n",
    "#Adding blackm:\n",
    "m_blackm = sm.OLS(Y, X4.drop(['hispm','aged','educd','othracem'],axis = 1)).fit()\n",
    "anova_result1 = anova_lm(M3,m_blackm)\n",
    "#Adding hispm:\n",
    "m_hispm = sm.OLS(Y, X4.drop(['blackm','aged','educd','othracem'],axis = 1)).fit()\n",
    "anova_result2 = anova_lm(M3,m_hispm)\n",
    "#Adding aged:\n",
    "m_aged = sm.OLS(Y, X4.drop(['blackm','hispm','educd','othracem'],axis = 1)).fit()\n",
    "anova_result3 = anova_lm(M3,m_aged)\n",
    "#Adding educd:\n",
    "m_educd = sm.OLS(Y, X4.drop(['blackm','hispm','aged','othracem'],axis = 1)).fit()\n",
    "anova_result4 = anova_lm(M3,m_educd)\n",
    "#Adding othracem:\n",
    "m_oth = sm.OLS(Y, X4.drop(['blackm','hispm','aged','educd'],axis = 1)).fit()\n",
    "anova_result5 = anova_lm(M3,m_oth)\n",
    "\n"
   ]
  },
  {
   "cell_type": "code",
   "execution_count": 149,
   "metadata": {},
   "outputs": [
    {
     "data": {
      "text/html": [
       "<div>\n",
       "<style scoped>\n",
       "    .dataframe tbody tr th:only-of-type {\n",
       "        vertical-align: middle;\n",
       "    }\n",
       "\n",
       "    .dataframe tbody tr th {\n",
       "        vertical-align: top;\n",
       "    }\n",
       "\n",
       "    .dataframe thead th {\n",
       "        text-align: right;\n",
       "    }\n",
       "</style>\n",
       "<table border=\"1\" class=\"dataframe\">\n",
       "  <thead>\n",
       "    <tr style=\"text-align: right;\">\n",
       "      <th></th>\n",
       "      <th>df_resid</th>\n",
       "      <th>ssr</th>\n",
       "      <th>df_diff</th>\n",
       "      <th>ss_diff</th>\n",
       "      <th>F</th>\n",
       "      <th>Pr(&gt;F)</th>\n",
       "    </tr>\n",
       "  </thead>\n",
       "  <tbody>\n",
       "    <tr>\n",
       "      <th>0</th>\n",
       "      <td>236407.0</td>\n",
       "      <td>51196.035247</td>\n",
       "      <td>0.0</td>\n",
       "      <td>NaN</td>\n",
       "      <td>NaN</td>\n",
       "      <td>NaN</td>\n",
       "    </tr>\n",
       "    <tr>\n",
       "      <th>1</th>\n",
       "      <td>236406.0</td>\n",
       "      <td>51151.367078</td>\n",
       "      <td>1.0</td>\n",
       "      <td>44.668169</td>\n",
       "      <td>206.442637</td>\n",
       "      <td>8.585461e-47</td>\n",
       "    </tr>\n",
       "  </tbody>\n",
       "</table>\n",
       "</div>"
      ],
      "text/plain": [
       "   df_resid           ssr  df_diff    ss_diff           F        Pr(>F)\n",
       "0  236407.0  51196.035247      0.0        NaN         NaN           NaN\n",
       "1  236406.0  51151.367078      1.0  44.668169  206.442637  8.585461e-47"
      ]
     },
     "metadata": {},
     "output_type": "display_data"
    },
    {
     "data": {
      "text/html": [
       "<div>\n",
       "<style scoped>\n",
       "    .dataframe tbody tr th:only-of-type {\n",
       "        vertical-align: middle;\n",
       "    }\n",
       "\n",
       "    .dataframe tbody tr th {\n",
       "        vertical-align: top;\n",
       "    }\n",
       "\n",
       "    .dataframe thead th {\n",
       "        text-align: right;\n",
       "    }\n",
       "</style>\n",
       "<table border=\"1\" class=\"dataframe\">\n",
       "  <thead>\n",
       "    <tr style=\"text-align: right;\">\n",
       "      <th></th>\n",
       "      <th>df_resid</th>\n",
       "      <th>ssr</th>\n",
       "      <th>df_diff</th>\n",
       "      <th>ss_diff</th>\n",
       "      <th>F</th>\n",
       "      <th>Pr(&gt;F)</th>\n",
       "    </tr>\n",
       "  </thead>\n",
       "  <tbody>\n",
       "    <tr>\n",
       "      <th>0</th>\n",
       "      <td>236407.0</td>\n",
       "      <td>51196.035247</td>\n",
       "      <td>0.0</td>\n",
       "      <td>NaN</td>\n",
       "      <td>NaN</td>\n",
       "      <td>NaN</td>\n",
       "    </tr>\n",
       "    <tr>\n",
       "      <th>1</th>\n",
       "      <td>236406.0</td>\n",
       "      <td>51136.446419</td>\n",
       "      <td>1.0</td>\n",
       "      <td>59.588828</td>\n",
       "      <td>275.481724</td>\n",
       "      <td>7.858040e-62</td>\n",
       "    </tr>\n",
       "  </tbody>\n",
       "</table>\n",
       "</div>"
      ],
      "text/plain": [
       "   df_resid           ssr  df_diff    ss_diff           F        Pr(>F)\n",
       "0  236407.0  51196.035247      0.0        NaN         NaN           NaN\n",
       "1  236406.0  51136.446419      1.0  59.588828  275.481724  7.858040e-62"
      ]
     },
     "metadata": {},
     "output_type": "display_data"
    },
    {
     "data": {
      "text/html": [
       "<div>\n",
       "<style scoped>\n",
       "    .dataframe tbody tr th:only-of-type {\n",
       "        vertical-align: middle;\n",
       "    }\n",
       "\n",
       "    .dataframe tbody tr th {\n",
       "        vertical-align: top;\n",
       "    }\n",
       "\n",
       "    .dataframe thead th {\n",
       "        text-align: right;\n",
       "    }\n",
       "</style>\n",
       "<table border=\"1\" class=\"dataframe\">\n",
       "  <thead>\n",
       "    <tr style=\"text-align: right;\">\n",
       "      <th></th>\n",
       "      <th>df_resid</th>\n",
       "      <th>ssr</th>\n",
       "      <th>df_diff</th>\n",
       "      <th>ss_diff</th>\n",
       "      <th>F</th>\n",
       "      <th>Pr(&gt;F)</th>\n",
       "    </tr>\n",
       "  </thead>\n",
       "  <tbody>\n",
       "    <tr>\n",
       "      <th>0</th>\n",
       "      <td>236407.0</td>\n",
       "      <td>51196.035247</td>\n",
       "      <td>0.0</td>\n",
       "      <td>NaN</td>\n",
       "      <td>NaN</td>\n",
       "      <td>NaN</td>\n",
       "    </tr>\n",
       "    <tr>\n",
       "      <th>1</th>\n",
       "      <td>236406.0</td>\n",
       "      <td>51187.082368</td>\n",
       "      <td>1.0</td>\n",
       "      <td>8.952878</td>\n",
       "      <td>41.348599</td>\n",
       "      <td>1.276042e-10</td>\n",
       "    </tr>\n",
       "  </tbody>\n",
       "</table>\n",
       "</div>"
      ],
      "text/plain": [
       "   df_resid           ssr  df_diff   ss_diff          F        Pr(>F)\n",
       "0  236407.0  51196.035247      0.0       NaN        NaN           NaN\n",
       "1  236406.0  51187.082368      1.0  8.952878  41.348599  1.276042e-10"
      ]
     },
     "metadata": {},
     "output_type": "display_data"
    },
    {
     "data": {
      "text/html": [
       "<div>\n",
       "<style scoped>\n",
       "    .dataframe tbody tr th:only-of-type {\n",
       "        vertical-align: middle;\n",
       "    }\n",
       "\n",
       "    .dataframe tbody tr th {\n",
       "        vertical-align: top;\n",
       "    }\n",
       "\n",
       "    .dataframe thead th {\n",
       "        text-align: right;\n",
       "    }\n",
       "</style>\n",
       "<table border=\"1\" class=\"dataframe\">\n",
       "  <thead>\n",
       "    <tr style=\"text-align: right;\">\n",
       "      <th></th>\n",
       "      <th>df_resid</th>\n",
       "      <th>ssr</th>\n",
       "      <th>df_diff</th>\n",
       "      <th>ss_diff</th>\n",
       "      <th>F</th>\n",
       "      <th>Pr(&gt;F)</th>\n",
       "    </tr>\n",
       "  </thead>\n",
       "  <tbody>\n",
       "    <tr>\n",
       "      <th>0</th>\n",
       "      <td>236407.0</td>\n",
       "      <td>51196.035247</td>\n",
       "      <td>0.0</td>\n",
       "      <td>NaN</td>\n",
       "      <td>NaN</td>\n",
       "      <td>NaN</td>\n",
       "    </tr>\n",
       "    <tr>\n",
       "      <th>1</th>\n",
       "      <td>236406.0</td>\n",
       "      <td>51195.991627</td>\n",
       "      <td>1.0</td>\n",
       "      <td>0.043619</td>\n",
       "      <td>0.201419</td>\n",
       "      <td>0.653578</td>\n",
       "    </tr>\n",
       "  </tbody>\n",
       "</table>\n",
       "</div>"
      ],
      "text/plain": [
       "   df_resid           ssr  df_diff   ss_diff         F    Pr(>F)\n",
       "0  236407.0  51196.035247      0.0       NaN       NaN       NaN\n",
       "1  236406.0  51195.991627      1.0  0.043619  0.201419  0.653578"
      ]
     },
     "metadata": {},
     "output_type": "display_data"
    },
    {
     "data": {
      "text/html": [
       "<div>\n",
       "<style scoped>\n",
       "    .dataframe tbody tr th:only-of-type {\n",
       "        vertical-align: middle;\n",
       "    }\n",
       "\n",
       "    .dataframe tbody tr th {\n",
       "        vertical-align: top;\n",
       "    }\n",
       "\n",
       "    .dataframe thead th {\n",
       "        text-align: right;\n",
       "    }\n",
       "</style>\n",
       "<table border=\"1\" class=\"dataframe\">\n",
       "  <thead>\n",
       "    <tr style=\"text-align: right;\">\n",
       "      <th></th>\n",
       "      <th>df_resid</th>\n",
       "      <th>ssr</th>\n",
       "      <th>df_diff</th>\n",
       "      <th>ss_diff</th>\n",
       "      <th>F</th>\n",
       "      <th>Pr(&gt;F)</th>\n",
       "    </tr>\n",
       "  </thead>\n",
       "  <tbody>\n",
       "    <tr>\n",
       "      <th>0</th>\n",
       "      <td>236407.0</td>\n",
       "      <td>51196.035247</td>\n",
       "      <td>0.0</td>\n",
       "      <td>NaN</td>\n",
       "      <td>NaN</td>\n",
       "      <td>NaN</td>\n",
       "    </tr>\n",
       "    <tr>\n",
       "      <th>1</th>\n",
       "      <td>236406.0</td>\n",
       "      <td>51190.694357</td>\n",
       "      <td>1.0</td>\n",
       "      <td>5.34089</td>\n",
       "      <td>24.664998</td>\n",
       "      <td>6.825925e-07</td>\n",
       "    </tr>\n",
       "  </tbody>\n",
       "</table>\n",
       "</div>"
      ],
      "text/plain": [
       "   df_resid           ssr  df_diff  ss_diff          F        Pr(>F)\n",
       "0  236407.0  51196.035247      0.0      NaN        NaN           NaN\n",
       "1  236406.0  51190.694357      1.0  5.34089  24.664998  6.825925e-07"
      ]
     },
     "metadata": {},
     "output_type": "display_data"
    }
   ],
   "source": [
    "display(anova_result1)\n",
    "display(anova_result2)\n",
    "display(anova_result3)\n",
    "display(anova_result4)\n",
    "display(anova_result5)\n"
   ]
  },
  {
   "cell_type": "code",
   "execution_count": 150,
   "metadata": {},
   "outputs": [
    {
     "name": "stdout",
     "output_type": "stream",
     "text": [
      "Fail to reject\n",
      "Fail to reject\n",
      "Fail to reject\n",
      "Fail to reject\n",
      "Fail to reject\n"
     ]
    }
   ],
   "source": [
    "models = [anova_result1,anova_result2, anova_result3, anova_result4, anova_result5]\n",
    "alpha = 0.05\n",
    "p_values = [scipy.stats.f.cdf(0.05,53,54) for i in models]\n",
    "for p_value in p_values:\n",
    "    if p_value > alpha:\n",
    "        print('reject')\n",
    "    else:\n",
    "        print('Fail to reject')\n",
    "\n",
    "\n",
    "\n"
   ]
  },
  {
   "cell_type": "markdown",
   "metadata": {},
   "source": [
    "Since we fail to reject the null for the five models, we can conclude that we can exclude each additional covariate."
   ]
  },
  {
   "cell_type": "markdown",
   "metadata": {},
   "source": [
    "b)\n",
    "Evaluating the potential use of samesex as an \"exogenous\" determinant of family size. \n",
    "\n",
    "* Adding samesex to model 4."
   ]
  },
  {
   "cell_type": "code",
   "execution_count": 151,
   "metadata": {},
   "outputs": [],
   "source": [
    "X5 = X4\n",
    "X5[\"samesex\"] = df['samesex']\n",
    "M5 = sm.OLS(Y,X5).fit()\n"
   ]
  },
  {
   "cell_type": "markdown",
   "metadata": {},
   "source": [
    "Average effect on having more kids given that the two children before have the same sex.\n"
   ]
  },
  {
   "cell_type": "code",
   "execution_count": 152,
   "metadata": {},
   "outputs": [
    {
     "data": {
      "text/plain": [
       "0.4064213195845144"
      ]
     },
     "metadata": {},
     "output_type": "display_data"
    }
   ],
   "source": [
    "#Conditioning on samesex.\n",
    "samesex = X5.loc[X5['samesex'] == 1]\n",
    "\n",
    "psex = M5.predict(samesex)\n",
    "\n",
    "display(np.mean(psex))"
   ]
  },
  {
   "cell_type": "markdown",
   "metadata": {},
   "source": [
    "$pr(morekids = 1|samesex = 1)= 0.4064$\n",
    "\n",
    "Some people have claimed that families only care about having at least 1 son – they don't care about having daughters. \n",
    "To test this hypothesis we will test the difference in means.\n",
    "\n",
    "let:\n",
    "\n",
    "$\\hat{\\theta} = E(morekids = 1 | son) - E(morekids = 1 | girl) $\n",
    "\n",
    "then we will follow the following for our t-test:\n",
    "\n",
    "$Z|\\theta \\sim \\mathcal{N}(\\frac{\\sqrt(N)\\theta}{\\sqrt(\\frac{\\sigma^2_1}{1-\\lambda}+ \\frac{\\sigma^2_2}{\\lambda}},1)$\n",
    "\n",
    "Under the null $\\theta = 0$ :\n",
    "\n",
    "$ Z|\\theta = 0 \\sim \\mathcal{N}(0,1) $"
   ]
  },
  {
   "cell_type": "code",
   "execution_count": 153,
   "metadata": {},
   "outputs": [
    {
     "name": "stdout",
     "output_type": "stream",
     "text": [
      "t = -7.288955786850143\n",
      "p = 3.143122079678091e-13\n"
     ]
    }
   ],
   "source": [
    "mu_boy = df.loc[df['boys2'] == 1][\"morekids\"]\n",
    "mu_girl = df.loc[df['girls2'] == 1]['morekids']\n",
    "\n",
    "t2, p2 = stats.ttest_ind(mu_boy,mu_girl, equal_var = False)\n",
    "print(\"t = \" + str(t2))\n",
    "print(\"p = \" + str(p2))"
   ]
  },
  {
   "cell_type": "code",
   "execution_count": 154,
   "metadata": {},
   "outputs": [
    {
     "name": "stdout",
     "output_type": "stream",
     "text": [
      "Reject the null hypothesis that the means are equal.\n"
     ]
    }
   ],
   "source": [
    "#interpret via p-value :\n",
    "\n",
    "if p2 > 0.05:\n",
    "    print('Accept null hypothesis that the means are equal.')\n",
    "else:\n",
    "    print('Reject the null hypothesis that the means are equal.')"
   ]
  },
  {
   "cell_type": "markdown",
   "metadata": {},
   "source": [
    "Judging from the significantly low p-value, we can conclude that there is a significant difference between families that have two boys to two girls for the probability of having more kids. \n",
    "\n",
    "\n",
    "(iii)\n",
    "   \n",
    "   We are concerned that the sex composition of children is not truly random. To test this, we will consider a linear probability model in which we want to explain the event of samesex = 1. We will do so using the information on mother's and father's age, education, race/ethnicity and their ages when they started having children. \n",
    "    \n",
    "Denote the information set $I = (1,agem,aged, educm, educd,blackm, blackd,hispm, hispd,othracem, othraraced, agefstm, agefstd)'$\n",
    "\n",
    "Using our information set $I$, if sex composition in the space of our information set is truly random it will follow:\n",
    "\n",
    "the solution to the blp:\n",
    "\n",
    "$\\mathbb{E}^*[samesex|I] = \\mathbb{E}^*[samesex|1]$\n",
    "\n",
    "By the projection theorem, the best linear predictor is simply the average of samesex. \n",
    "\n",
    "However, we can be more specific about this. what exactly is samsex? the probability of having same sex is:\n",
    "\n",
    "$P[boy1 \\cap boy2] = P[girl1 \\cap girl2]$\n",
    "\n",
    "If sex composition is truly random, this event is just the product of the two events. So what we really do want to test is whether we can predict, using the information set, the event that the first child is a boy or girl and prove:\n",
    "\n",
    "$\\mathbb{E}^*[boy1|I] = \\mathbb{E}^*[boy1|1]$\n"
   ]
  },
  {
   "cell_type": "code",
   "execution_count": 155,
   "metadata": {},
   "outputs": [
    {
     "data": {
      "text/html": [
       "<table class=\"simpletable\">\n",
       "<caption>OLS Regression Results</caption>\n",
       "<tr>\n",
       "  <th>Dep. Variable:</th>         <td>boy1st</td>      <th>  R-squared:         </th>  <td>   0.000</td>  \n",
       "</tr>\n",
       "<tr>\n",
       "  <th>Model:</th>                   <td>OLS</td>       <th>  Adj. R-squared:    </th>  <td>  -0.000</td>  \n",
       "</tr>\n",
       "<tr>\n",
       "  <th>Method:</th>             <td>Least Squares</td>  <th>  F-statistic:       </th>  <td>  0.4656</td>  \n",
       "</tr>\n",
       "<tr>\n",
       "  <th>Date:</th>             <td>Fri, 17 May 2019</td> <th>  Prob (F-statistic):</th>   <td> 0.935</td>   \n",
       "</tr>\n",
       "<tr>\n",
       "  <th>Time:</th>                 <td>03:13:25</td>     <th>  Log-Likelihood:    </th> <td>-1.7151e+05</td>\n",
       "</tr>\n",
       "<tr>\n",
       "  <th>No. Observations:</th>      <td>236459</td>      <th>  AIC:               </th>  <td>3.431e+05</td> \n",
       "</tr>\n",
       "<tr>\n",
       "  <th>Df Residuals:</th>          <td>236446</td>      <th>  BIC:               </th>  <td>3.432e+05</td> \n",
       "</tr>\n",
       "<tr>\n",
       "  <th>Df Model:</th>              <td>    12</td>      <th>                     </th>      <td> </td>     \n",
       "</tr>\n",
       "<tr>\n",
       "  <th>Covariance Type:</th>      <td>nonrobust</td>    <th>                     </th>      <td> </td>     \n",
       "</tr>\n",
       "</table>\n",
       "<table class=\"simpletable\">\n",
       "<tr>\n",
       "      <td></td>        <th>coef</th>     <th>std err</th>      <th>t</th>      <th>P>|t|</th>  <th>[0.025</th>    <th>0.975]</th>  \n",
       "</tr>\n",
       "<tr>\n",
       "  <th>const</th>    <td>    0.4998</td> <td>    0.011</td> <td>   46.131</td> <td> 0.000</td> <td>    0.479</td> <td>    0.521</td>\n",
       "</tr>\n",
       "<tr>\n",
       "  <th>agem</th>     <td>    0.0011</td> <td>    0.002</td> <td>    0.574</td> <td> 0.566</td> <td>   -0.003</td> <td>    0.005</td>\n",
       "</tr>\n",
       "<tr>\n",
       "  <th>aged</th>     <td>   -0.0005</td> <td>    0.002</td> <td>   -0.256</td> <td> 0.798</td> <td>   -0.004</td> <td>    0.003</td>\n",
       "</tr>\n",
       "<tr>\n",
       "  <th>educd</th>    <td>   -0.0001</td> <td>    0.000</td> <td>   -0.304</td> <td> 0.761</td> <td>   -0.001</td> <td>    0.001</td>\n",
       "</tr>\n",
       "<tr>\n",
       "  <th>educm</th>    <td> -5.33e-05</td> <td>    0.001</td> <td>   -0.092</td> <td> 0.927</td> <td>   -0.001</td> <td>    0.001</td>\n",
       "</tr>\n",
       "<tr>\n",
       "  <th>blackm</th>   <td>    0.0027</td> <td>    0.022</td> <td>    0.122</td> <td> 0.903</td> <td>   -0.041</td> <td>    0.047</td>\n",
       "</tr>\n",
       "<tr>\n",
       "  <th>blackd</th>   <td>   -0.0077</td> <td>    0.022</td> <td>   -0.346</td> <td> 0.729</td> <td>   -0.051</td> <td>    0.036</td>\n",
       "</tr>\n",
       "<tr>\n",
       "  <th>hispm</th>    <td>   -0.0001</td> <td>    0.014</td> <td>   -0.009</td> <td> 0.992</td> <td>   -0.028</td> <td>    0.028</td>\n",
       "</tr>\n",
       "<tr>\n",
       "  <th>hispd</th>    <td>   -0.0013</td> <td>    0.014</td> <td>   -0.094</td> <td> 0.925</td> <td>   -0.028</td> <td>    0.026</td>\n",
       "</tr>\n",
       "<tr>\n",
       "  <th>othracem</th> <td>   -0.0023</td> <td>    0.009</td> <td>   -0.245</td> <td> 0.806</td> <td>   -0.020</td> <td>    0.016</td>\n",
       "</tr>\n",
       "<tr>\n",
       "  <th>othraced</th> <td>    0.0034</td> <td>    0.010</td> <td>    0.351</td> <td> 0.725</td> <td>   -0.015</td> <td>    0.022</td>\n",
       "</tr>\n",
       "<tr>\n",
       "  <th>agefstm</th>  <td>   -0.0009</td> <td>    0.002</td> <td>   -0.456</td> <td> 0.648</td> <td>   -0.005</td> <td>    0.003</td>\n",
       "</tr>\n",
       "<tr>\n",
       "  <th>agefstd</th>  <td>    0.0008</td> <td>    0.002</td> <td>    0.410</td> <td> 0.682</td> <td>   -0.003</td> <td>    0.004</td>\n",
       "</tr>\n",
       "</table>\n",
       "<table class=\"simpletable\">\n",
       "<tr>\n",
       "  <th>Omnibus:</th>       <td>136.417</td> <th>  Durbin-Watson:     </th> <td>   1.999</td> \n",
       "</tr>\n",
       "<tr>\n",
       "  <th>Prob(Omnibus):</th> <td> 0.000</td>  <th>  Jarque-Bera (JB):  </th> <td>39406.230</td>\n",
       "</tr>\n",
       "<tr>\n",
       "  <th>Skew:</th>          <td>-0.059</td>  <th>  Prob(JB):          </th> <td>    0.00</td> \n",
       "</tr>\n",
       "<tr>\n",
       "  <th>Kurtosis:</th>      <td> 1.004</td>  <th>  Cond. No.          </th> <td>1.77e+03</td> \n",
       "</tr>\n",
       "</table><br/><br/>Warnings:<br/>[1] Standard Errors assume that the covariance matrix of the errors is correctly specified.<br/>[2] The condition number is large, 1.77e+03. This might indicate that there are<br/>strong multicollinearity or other numerical problems."
      ],
      "text/plain": [
       "<class 'statsmodels.iolib.summary.Summary'>\n",
       "\"\"\"\n",
       "                            OLS Regression Results                            \n",
       "==============================================================================\n",
       "Dep. Variable:                 boy1st   R-squared:                       0.000\n",
       "Model:                            OLS   Adj. R-squared:                 -0.000\n",
       "Method:                 Least Squares   F-statistic:                    0.4656\n",
       "Date:                Fri, 17 May 2019   Prob (F-statistic):              0.935\n",
       "Time:                        03:13:25   Log-Likelihood:            -1.7151e+05\n",
       "No. Observations:              236459   AIC:                         3.431e+05\n",
       "Df Residuals:                  236446   BIC:                         3.432e+05\n",
       "Df Model:                          12                                         \n",
       "Covariance Type:            nonrobust                                         \n",
       "==============================================================================\n",
       "                 coef    std err          t      P>|t|      [0.025      0.975]\n",
       "------------------------------------------------------------------------------\n",
       "const          0.4998      0.011     46.131      0.000       0.479       0.521\n",
       "agem           0.0011      0.002      0.574      0.566      -0.003       0.005\n",
       "aged          -0.0005      0.002     -0.256      0.798      -0.004       0.003\n",
       "educd         -0.0001      0.000     -0.304      0.761      -0.001       0.001\n",
       "educm       -5.33e-05      0.001     -0.092      0.927      -0.001       0.001\n",
       "blackm         0.0027      0.022      0.122      0.903      -0.041       0.047\n",
       "blackd        -0.0077      0.022     -0.346      0.729      -0.051       0.036\n",
       "hispm         -0.0001      0.014     -0.009      0.992      -0.028       0.028\n",
       "hispd         -0.0013      0.014     -0.094      0.925      -0.028       0.026\n",
       "othracem      -0.0023      0.009     -0.245      0.806      -0.020       0.016\n",
       "othraced       0.0034      0.010      0.351      0.725      -0.015       0.022\n",
       "agefstm       -0.0009      0.002     -0.456      0.648      -0.005       0.003\n",
       "agefstd        0.0008      0.002      0.410      0.682      -0.003       0.004\n",
       "==============================================================================\n",
       "Omnibus:                      136.417   Durbin-Watson:                   1.999\n",
       "Prob(Omnibus):                  0.000   Jarque-Bera (JB):            39406.230\n",
       "Skew:                          -0.059   Prob(JB):                         0.00\n",
       "Kurtosis:                       1.004   Cond. No.                     1.77e+03\n",
       "==============================================================================\n",
       "\n",
       "Warnings:\n",
       "[1] Standard Errors assume that the covariance matrix of the errors is correctly specified.\n",
       "[2] The condition number is large, 1.77e+03. This might indicate that there are\n",
       "strong multicollinearity or other numerical problems.\n",
       "\"\"\""
      ]
     },
     "metadata": {},
     "output_type": "display_data"
    },
    {
     "data": {
      "text/html": [
       "<table class=\"simpletable\">\n",
       "<caption>OLS Regression Results</caption>\n",
       "<tr>\n",
       "  <th>Dep. Variable:</th>         <td>samesex</td>     <th>  R-squared:         </th>  <td>   0.000</td>  \n",
       "</tr>\n",
       "<tr>\n",
       "  <th>Model:</th>                   <td>OLS</td>       <th>  Adj. R-squared:    </th>  <td>  -0.000</td>  \n",
       "</tr>\n",
       "<tr>\n",
       "  <th>Method:</th>             <td>Least Squares</td>  <th>  F-statistic:       </th>  <td>  0.8536</td>  \n",
       "</tr>\n",
       "<tr>\n",
       "  <th>Date:</th>             <td>Fri, 17 May 2019</td> <th>  Prob (F-statistic):</th>   <td> 0.595</td>   \n",
       "</tr>\n",
       "<tr>\n",
       "  <th>Time:</th>                 <td>03:13:25</td>     <th>  Log-Likelihood:    </th> <td>-1.7160e+05</td>\n",
       "</tr>\n",
       "<tr>\n",
       "  <th>No. Observations:</th>      <td>236459</td>      <th>  AIC:               </th>  <td>3.432e+05</td> \n",
       "</tr>\n",
       "<tr>\n",
       "  <th>Df Residuals:</th>          <td>236446</td>      <th>  BIC:               </th>  <td>3.434e+05</td> \n",
       "</tr>\n",
       "<tr>\n",
       "  <th>Df Model:</th>              <td>    12</td>      <th>                     </th>      <td> </td>     \n",
       "</tr>\n",
       "<tr>\n",
       "  <th>Covariance Type:</th>      <td>nonrobust</td>    <th>                     </th>      <td> </td>     \n",
       "</tr>\n",
       "</table>\n",
       "<table class=\"simpletable\">\n",
       "<tr>\n",
       "      <td></td>        <th>coef</th>     <th>std err</th>      <th>t</th>      <th>P>|t|</th>  <th>[0.025</th>    <th>0.975]</th>  \n",
       "</tr>\n",
       "<tr>\n",
       "  <th>const</th>    <td>    0.5128</td> <td>    0.011</td> <td>   47.316</td> <td> 0.000</td> <td>    0.492</td> <td>    0.534</td>\n",
       "</tr>\n",
       "<tr>\n",
       "  <th>agem</th>     <td>   -0.0013</td> <td>    0.002</td> <td>   -0.668</td> <td> 0.504</td> <td>   -0.005</td> <td>    0.002</td>\n",
       "</tr>\n",
       "<tr>\n",
       "  <th>aged</th>     <td>    0.0006</td> <td>    0.002</td> <td>    0.306</td> <td> 0.759</td> <td>   -0.003</td> <td>    0.004</td>\n",
       "</tr>\n",
       "<tr>\n",
       "  <th>educd</th>    <td>    0.0002</td> <td>    0.000</td> <td>    0.514</td> <td> 0.607</td> <td>   -0.001</td> <td>    0.001</td>\n",
       "</tr>\n",
       "<tr>\n",
       "  <th>educm</th>    <td>-7.208e-05</td> <td>    0.001</td> <td>   -0.124</td> <td> 0.901</td> <td>   -0.001</td> <td>    0.001</td>\n",
       "</tr>\n",
       "<tr>\n",
       "  <th>blackm</th>   <td>   -0.0137</td> <td>    0.022</td> <td>   -0.614</td> <td> 0.539</td> <td>   -0.058</td> <td>    0.030</td>\n",
       "</tr>\n",
       "<tr>\n",
       "  <th>blackd</th>   <td>    0.0079</td> <td>    0.022</td> <td>    0.356</td> <td> 0.722</td> <td>   -0.036</td> <td>    0.051</td>\n",
       "</tr>\n",
       "<tr>\n",
       "  <th>hispm</th>    <td>    0.0106</td> <td>    0.014</td> <td>    0.747</td> <td> 0.455</td> <td>   -0.017</td> <td>    0.038</td>\n",
       "</tr>\n",
       "<tr>\n",
       "  <th>hispd</th>    <td>   -0.0125</td> <td>    0.014</td> <td>   -0.903</td> <td> 0.367</td> <td>   -0.040</td> <td>    0.015</td>\n",
       "</tr>\n",
       "<tr>\n",
       "  <th>othracem</th> <td>    0.0002</td> <td>    0.009</td> <td>    0.018</td> <td> 0.985</td> <td>   -0.018</td> <td>    0.018</td>\n",
       "</tr>\n",
       "<tr>\n",
       "  <th>othraced</th> <td>   -0.0078</td> <td>    0.010</td> <td>   -0.810</td> <td> 0.418</td> <td>   -0.027</td> <td>    0.011</td>\n",
       "</tr>\n",
       "<tr>\n",
       "  <th>agefstm</th>  <td>    0.0014</td> <td>    0.002</td> <td>    0.739</td> <td> 0.460</td> <td>   -0.002</td> <td>    0.005</td>\n",
       "</tr>\n",
       "<tr>\n",
       "  <th>agefstd</th>  <td>   -0.0008</td> <td>    0.002</td> <td>   -0.418</td> <td> 0.676</td> <td>   -0.004</td> <td>    0.003</td>\n",
       "</tr>\n",
       "</table>\n",
       "<table class=\"simpletable\">\n",
       "<tr>\n",
       "  <th>Omnibus:</th>       <td>17.548</td> <th>  Durbin-Watson:     </th> <td>   1.993</td> \n",
       "</tr>\n",
       "<tr>\n",
       "  <th>Prob(Omnibus):</th> <td> 0.000</td> <th>  Jarque-Bera (JB):  </th> <td>39403.007</td>\n",
       "</tr>\n",
       "<tr>\n",
       "  <th>Skew:</th>          <td>-0.021</td> <th>  Prob(JB):          </th> <td>    0.00</td> \n",
       "</tr>\n",
       "<tr>\n",
       "  <th>Kurtosis:</th>      <td> 1.001</td> <th>  Cond. No.          </th> <td>1.77e+03</td> \n",
       "</tr>\n",
       "</table><br/><br/>Warnings:<br/>[1] Standard Errors assume that the covariance matrix of the errors is correctly specified.<br/>[2] The condition number is large, 1.77e+03. This might indicate that there are<br/>strong multicollinearity or other numerical problems."
      ],
      "text/plain": [
       "<class 'statsmodels.iolib.summary.Summary'>\n",
       "\"\"\"\n",
       "                            OLS Regression Results                            \n",
       "==============================================================================\n",
       "Dep. Variable:                samesex   R-squared:                       0.000\n",
       "Model:                            OLS   Adj. R-squared:                 -0.000\n",
       "Method:                 Least Squares   F-statistic:                    0.8536\n",
       "Date:                Fri, 17 May 2019   Prob (F-statistic):              0.595\n",
       "Time:                        03:13:25   Log-Likelihood:            -1.7160e+05\n",
       "No. Observations:              236459   AIC:                         3.432e+05\n",
       "Df Residuals:                  236446   BIC:                         3.434e+05\n",
       "Df Model:                          12                                         \n",
       "Covariance Type:            nonrobust                                         \n",
       "==============================================================================\n",
       "                 coef    std err          t      P>|t|      [0.025      0.975]\n",
       "------------------------------------------------------------------------------\n",
       "const          0.5128      0.011     47.316      0.000       0.492       0.534\n",
       "agem          -0.0013      0.002     -0.668      0.504      -0.005       0.002\n",
       "aged           0.0006      0.002      0.306      0.759      -0.003       0.004\n",
       "educd          0.0002      0.000      0.514      0.607      -0.001       0.001\n",
       "educm      -7.208e-05      0.001     -0.124      0.901      -0.001       0.001\n",
       "blackm        -0.0137      0.022     -0.614      0.539      -0.058       0.030\n",
       "blackd         0.0079      0.022      0.356      0.722      -0.036       0.051\n",
       "hispm          0.0106      0.014      0.747      0.455      -0.017       0.038\n",
       "hispd         -0.0125      0.014     -0.903      0.367      -0.040       0.015\n",
       "othracem       0.0002      0.009      0.018      0.985      -0.018       0.018\n",
       "othraced      -0.0078      0.010     -0.810      0.418      -0.027       0.011\n",
       "agefstm        0.0014      0.002      0.739      0.460      -0.002       0.005\n",
       "agefstd       -0.0008      0.002     -0.418      0.676      -0.004       0.003\n",
       "==============================================================================\n",
       "Omnibus:                       17.548   Durbin-Watson:                   1.993\n",
       "Prob(Omnibus):                  0.000   Jarque-Bera (JB):            39403.007\n",
       "Skew:                          -0.021   Prob(JB):                         0.00\n",
       "Kurtosis:                       1.001   Cond. No.                     1.77e+03\n",
       "==============================================================================\n",
       "\n",
       "Warnings:\n",
       "[1] Standard Errors assume that the covariance matrix of the errors is correctly specified.\n",
       "[2] The condition number is large, 1.77e+03. This might indicate that there are\n",
       "strong multicollinearity or other numerical problems.\n",
       "\"\"\""
      ]
     },
     "metadata": {},
     "output_type": "display_data"
    }
   ],
   "source": [
    "X = pd.DataFrame()\n",
    "X['agem'] = df['agem']\n",
    "X['aged'] = df['aged']\n",
    "X['educd'] = df['educd']\n",
    "X['educm'] = df['educm']\n",
    "X['blackm'] = df['blackm']\n",
    "X['blackd'] = df['blackd']\n",
    "X['hispm'] = df['hispm']\n",
    "X['hispd'] = df['hispd']\n",
    "X['othracem'] = df['othracem']\n",
    "X['othraced'] = df['othraced']\n",
    "X['agefstm'] = df['agefstm']\n",
    "X['agefstd'] = df['agefstd']\n",
    "\n",
    "X = sm.add_constant(X)\n",
    "Y = df['boy1st']\n",
    "display(sm.OLS(Y,X).fit().summary())\n",
    "display(sm.OLS(df['samesex'],X).fit().summary())"
   ]
  },
  {
   "cell_type": "markdown",
   "metadata": {},
   "source": [
    "From the probability model above, we can see from multiple directions that the probability of having a boy is independent of the information set. Hence, we can conclude that the event having a boy or girl is independent of the information set. Further note that since we included a constant, we get the mean event of having a boy which is is roughly 50%."
   ]
  },
  {
   "cell_type": "markdown",
   "metadata": {},
   "source": [
    "#### Question 3\n",
    "\n",
    "\n",
    "#### Data Cleansing\n",
    "\n",
    "First note that there exist some NaN's in mother's wage:"
   ]
  },
  {
   "cell_type": "code",
   "execution_count": 156,
   "metadata": {},
   "outputs": [
    {
     "data": {
      "text/plain": [
       "KIDCOUNT          0\n",
       "boy1st            0\n",
       "boy2nd            0\n",
       "boys2             0\n",
       "girls2            0\n",
       "samesex           0\n",
       "morekids          0\n",
       "blackm            0\n",
       "hispm             0\n",
       "whitem            0\n",
       "othracem          0\n",
       "blackd            0\n",
       "hispd             0\n",
       "whited            0\n",
       "othraced          0\n",
       "educm             0\n",
       "educd             0\n",
       "agefstm           0\n",
       "agefstd           0\n",
       "workedm           0\n",
       "workedd           0\n",
       "hrsweekd          0\n",
       "hrsweekm          0\n",
       "annhrsm           0\n",
       "annhrsd           0\n",
       "wnhm              0\n",
       "wnhd              0\n",
       "earningsm         0\n",
       "earningsd         0\n",
       "faminc            0\n",
       "famearn           0\n",
       "agem              0\n",
       "aged              0\n",
       "weeksm            0\n",
       "weeksd            0\n",
       "wagem        110157\n",
       "waged             0\n",
       "expm              0\n",
       "expd              0\n",
       "st                0\n",
       "rv                0\n",
       "dtype: int64"
      ]
     },
     "execution_count": 156,
     "metadata": {},
     "output_type": "execute_result"
    }
   ],
   "source": [
    "df.isnull().sum()"
   ]
  },
  {
   "cell_type": "code",
   "execution_count": 157,
   "metadata": {},
   "outputs": [
    {
     "data": {
      "text/html": [
       "<div>\n",
       "<style scoped>\n",
       "    .dataframe tbody tr th:only-of-type {\n",
       "        vertical-align: middle;\n",
       "    }\n",
       "\n",
       "    .dataframe tbody tr th {\n",
       "        vertical-align: top;\n",
       "    }\n",
       "\n",
       "    .dataframe thead th {\n",
       "        text-align: right;\n",
       "    }\n",
       "</style>\n",
       "<table border=\"1\" class=\"dataframe\">\n",
       "  <thead>\n",
       "    <tr style=\"text-align: right;\">\n",
       "      <th></th>\n",
       "      <th>wagem</th>\n",
       "      <th>weeksm</th>\n",
       "    </tr>\n",
       "  </thead>\n",
       "  <tbody>\n",
       "    <tr>\n",
       "      <th>0</th>\n",
       "      <td>NaN</td>\n",
       "      <td>0</td>\n",
       "    </tr>\n",
       "    <tr>\n",
       "      <th>1</th>\n",
       "      <td>25.954494</td>\n",
       "      <td>30</td>\n",
       "    </tr>\n",
       "    <tr>\n",
       "      <th>2</th>\n",
       "      <td>NaN</td>\n",
       "      <td>0</td>\n",
       "    </tr>\n",
       "    <tr>\n",
       "      <th>3</th>\n",
       "      <td>NaN</td>\n",
       "      <td>0</td>\n",
       "    </tr>\n",
       "    <tr>\n",
       "      <th>4</th>\n",
       "      <td>15.608967</td>\n",
       "      <td>22</td>\n",
       "    </tr>\n",
       "  </tbody>\n",
       "</table>\n",
       "</div>"
      ],
      "text/plain": [
       "       wagem  weeksm\n",
       "0        NaN       0\n",
       "1  25.954494      30\n",
       "2        NaN       0\n",
       "3        NaN       0\n",
       "4  15.608967      22"
      ]
     },
     "execution_count": 157,
     "metadata": {},
     "output_type": "execute_result"
    }
   ],
   "source": [
    "df.loc[:,['wagem', 'weeksm']].head()"
   ]
  },
  {
   "cell_type": "markdown",
   "metadata": {},
   "source": [
    "So this seem to be an easy fix. The NaN values for wagem corresponds to mother working 0 weeks. Hence, she does not work.\n",
    "\n",
    "Since NaN values only exist in the space of wagem we can simply apply fillna."
   ]
  },
  {
   "cell_type": "code",
   "execution_count": 158,
   "metadata": {},
   "outputs": [],
   "source": [
    "df['wagem'] = df['wagem'].fillna(0)"
   ]
  },
  {
   "cell_type": "code",
   "execution_count": 159,
   "metadata": {},
   "outputs": [],
   "source": [
    "def polynomial(df, column,  n):\n",
    "    df.loc[:, f'{column}^{n}'] = df[column]**n\n",
    "    return df"
   ]
  },
  {
   "cell_type": "code",
   "execution_count": 160,
   "metadata": {},
   "outputs": [],
   "source": [
    "# Setting up the control variables:\n",
    "df.loc[:,'educd<12'] = (df.loc[:,'educd'] < 12).astype(int)\n",
    "df.loc[:,'educm<12'] = (df.loc[:,'educm'] < 12).astype(int)\n",
    "polynomial(df,'agem',2)\n",
    "polynomial(df,'aged',2)\n",
    "polynomial(df,'agefstm',2)\n",
    "polynomial(df,'agefstd',2)\n",
    "\n",
    "control_variables = ['agefstd^2','agefstm^2','aged^2','agem^2',\\\n",
    "                    'educm<12','educd<12','agem','aged','blackm',\\\n",
    "                    'hispm','othracem','educd','educm','agefstm','agefstd']\n",
    "df['not_work'] = (df['wagem'] == 0).astype(int)"
   ]
  },
  {
   "cell_type": "code",
   "execution_count": 161,
   "metadata": {},
   "outputs": [],
   "source": [
    "#W1\n",
    "Y = pd.DataFrame()\n",
    "Y['not_work'] = (df['wagem'] == 0).astype(int)\n",
    "X1 = pd.DataFrame()\n",
    "X1['morekids'] = df['morekids']\n",
    "X1 = sm.add_constant(X1)\n",
    "\n",
    "\n",
    "W1 = sm.OLS(Y,X1).fit()"
   ]
  },
  {
   "cell_type": "code",
   "execution_count": 162,
   "metadata": {},
   "outputs": [],
   "source": [
    "#W2\n",
    "X2 = df.loc[:,control_variables]\n",
    "X2['morekids'] = df.loc[:,'morekids']\n",
    "X2 = sm.add_constant(X2)\n",
    "W2 = sm.OLS(Y,X2).fit()\n",
    "\n"
   ]
  },
  {
   "cell_type": "code",
   "execution_count": 163,
   "metadata": {},
   "outputs": [
    {
     "data": {
      "text/plain": [
       "'The coefficient for W1 : 0.11448965715553978'"
      ]
     },
     "metadata": {},
     "output_type": "display_data"
    },
    {
     "data": {
      "text/plain": [
       "'The coefficient for W2 : 0.15960795442094552'"
      ]
     },
     "metadata": {},
     "output_type": "display_data"
    }
   ],
   "source": [
    "W1_morekids = W1.params['morekids']\n",
    "W2_morekids = W2.params['morekids']\n",
    "display(f'The coefficient for W1 : {W1_morekids}')\n",
    "display(f'The coefficient for W2 : {W2_morekids}')"
   ]
  },
  {
   "cell_type": "markdown",
   "metadata": {},
   "source": [
    "We can see that W1 is biased. The reason for this is that model w1 suffers from endogeneity where  morekids are correlated with error term. Intuitively this make sense. For example, we can see that the $pr[morekids|racem]$ where racem denotes the mother's ethnicity, is different. Once we control for these differences, the $pr[work|morekids]$ we can see that the probability that a mother is working given morekids is higher. "
   ]
  },
  {
   "cell_type": "code",
   "execution_count": 164,
   "metadata": {},
   "outputs": [
    {
     "name": "stderr",
     "output_type": "stream",
     "text": [
      "/Library/Frameworks/Python.framework/Versions/3.6/lib/python3.6/site-packages/scipy/stats/stats.py:1713: FutureWarning: Using a non-tuple sequence for multidimensional indexing is deprecated; use `arr[tuple(seq)]` instead of `arr[seq]`. In the future this will be interpreted as an array index, `arr[np.array(seq)]`, which will result either in an error or a different result.\n",
      "  return np.add.reduce(sorted[indexer] * weights, axis=axis) / sumval\n"
     ]
    },
    {
     "data": {
      "image/png": "[encoded data removed]",
      "text/plain": [
       "<Figure size 432x288 with 1 Axes>"
      ]
     },
     "metadata": {
      "needs_background": "light"
     },
     "output_type": "display_data"
    }
   ],
   "source": [
    "df['racem'] = df[['othracem','blackm','hispm']].idxmax(axis=1).astype('category')\n",
    "sns.pointplot(x=\"morekids\", y=\"racem\", data=df, join=False)\n",
    "plt.show()"
   ]
  },
  {
   "cell_type": "markdown",
   "metadata": {},
   "source": [
    "b)\n",
    "\n",
    "We will now consider a casual model relating $y_i = 1[work]$ to $x_{1i} = morekids$\n",
    "\n",
    "From the previous notes we may use $samesex$ as a instrumental variable.\n",
    "\n",
    "Reduced form:\n",
    "\n",
    "$work = \\delta_0 + \\delta_1*samesex' + \\epsilon$\n",
    "\n",
    "First Stage:\n",
    "\n",
    "$morekids = \\pi_0 + \\pi_1*samesex' + u$"
   ]
  },
  {
   "cell_type": "code",
   "execution_count": 165,
   "metadata": {},
   "outputs": [],
   "source": [
    "morekids = df['morekids']\n",
    "morekids = sm.add_constant(morekids)\n",
    "z = pd.DataFrame()\n",
    "z['samesex'] = df['samesex']\n",
    "z = sm.add_constant(z)\n",
    "\n",
    "#Reduced Form:\n",
    "rf = sm.OLS(Y,z).fit()\n",
    "#First Stage:\n",
    "fs = sm.OLS(df['morekids'], z).fit()\n",
    "\n",
    "from linearmodels.iv import IV2SLS\n",
    "#2SLS:\n",
    "cm = IV2SLS(dependent = Y, exog = morekids['const'],\\\n",
    "            endog = morekids['morekids'],\\\n",
    "            instruments = z['samesex']).fit()\n"
   ]
  },
  {
   "cell_type": "code",
   "execution_count": 166,
   "metadata": {},
   "outputs": [],
   "source": [
    "summary = pd.DataFrame(columns = ['Reduced Form','First Stage', 'IV'])\n",
    "summary.loc[0] = [rf.params['const'],fs.params['const'],cm.params['const']]\n",
    "summary.loc[1] = [rf.params['samesex'],fs.params['samesex'],'-']\n",
    "summary.loc[2] = ['-','-',cm.params['morekids']]"
   ]
  },
  {
   "cell_type": "code",
   "execution_count": 167,
   "metadata": {},
   "outputs": [],
   "source": [
    "summary.index = ['constant','samesex','morekids']"
   ]
  },
  {
   "cell_type": "code",
   "execution_count": 168,
   "metadata": {},
   "outputs": [
    {
     "data": {
      "text/html": [
       "<div>\n",
       "<style scoped>\n",
       "    .dataframe tbody tr th:only-of-type {\n",
       "        vertical-align: middle;\n",
       "    }\n",
       "\n",
       "    .dataframe tbody tr th {\n",
       "        vertical-align: top;\n",
       "    }\n",
       "\n",
       "    .dataframe thead th {\n",
       "        text-align: right;\n",
       "    }\n",
       "</style>\n",
       "<table border=\"1\" class=\"dataframe\">\n",
       "  <thead>\n",
       "    <tr style=\"text-align: right;\">\n",
       "      <th></th>\n",
       "      <th>Reduced Form</th>\n",
       "      <th>First Stage</th>\n",
       "      <th>IV</th>\n",
       "    </tr>\n",
       "  </thead>\n",
       "  <tbody>\n",
       "    <tr>\n",
       "      <th>constant</th>\n",
       "      <td>0.468576</td>\n",
       "      <td>0.339069</td>\n",
       "      <td>0.418691</td>\n",
       "    </tr>\n",
       "    <tr>\n",
       "      <th>samesex</th>\n",
       "      <td>0.00990904</td>\n",
       "      <td>0.0673521</td>\n",
       "      <td>-</td>\n",
       "    </tr>\n",
       "    <tr>\n",
       "      <th>morekids</th>\n",
       "      <td>-</td>\n",
       "      <td>-</td>\n",
       "      <td>0.147123</td>\n",
       "    </tr>\n",
       "  </tbody>\n",
       "</table>\n",
       "</div>"
      ],
      "text/plain": [
       "         Reduced Form First Stage        IV\n",
       "constant     0.468576    0.339069  0.418691\n",
       "samesex    0.00990904   0.0673521         -\n",
       "morekids            -           -  0.147123"
      ]
     },
     "metadata": {},
     "output_type": "display_data"
    }
   ],
   "source": [
    "display(summary)"
   ]
  },
  {
   "cell_type": "code",
   "execution_count": 169,
   "metadata": {},
   "outputs": [
    {
     "data": {
      "text/plain": [
       "0.14712299120697359"
      ]
     },
     "execution_count": 169,
     "metadata": {},
     "output_type": "execute_result"
    }
   ],
   "source": [
    "rf.params['samesex'] / fs.params['samesex']"
   ]
  },
  {
   "cell_type": "markdown",
   "metadata": {},
   "source": [
    "Adding additional Covariates to our casual model."
   ]
  },
  {
   "cell_type": "code",
   "execution_count": 170,
   "metadata": {},
   "outputs": [],
   "source": [
    "variables = df.loc[:,control_variables]\n",
    "variables['morekids'] = df['morekids']\n",
    "variables['samesex'] = df['samesex']\n",
    "variables = sm.add_constant(variables)\n",
    "\n",
    "#Reduced Form:\n",
    "rf1 = sm.OLS(Y,variables.drop('morekids',axis = 1)).fit()\n",
    "#First Stage:\n",
    "fs1 = sm.OLS(df['morekids'], variables.drop('morekids',axis = 1)).fit()\n",
    "\n",
    "#2SLS:\n",
    "cm1 = IV2SLS(dependent = Y,\\\n",
    "            exog = variables.drop(['morekids','samesex'],axis = 1),\\\n",
    "            endog = variables['morekids'],\\\n",
    "            instruments = variables['samesex']).fit()\n"
   ]
  },
  {
   "cell_type": "code",
   "execution_count": 171,
   "metadata": {},
   "outputs": [
    {
     "data": {
      "text/html": [
       "<div>\n",
       "<style scoped>\n",
       "    .dataframe tbody tr th:only-of-type {\n",
       "        vertical-align: middle;\n",
       "    }\n",
       "\n",
       "    .dataframe tbody tr th {\n",
       "        vertical-align: top;\n",
       "    }\n",
       "\n",
       "    .dataframe thead th {\n",
       "        text-align: right;\n",
       "    }\n",
       "</style>\n",
       "<table border=\"1\" class=\"dataframe\">\n",
       "  <thead>\n",
       "    <tr style=\"text-align: right;\">\n",
       "      <th></th>\n",
       "      <th>Reduced Form</th>\n",
       "      <th>First Stage</th>\n",
       "      <th>IV</th>\n",
       "    </tr>\n",
       "  </thead>\n",
       "  <tbody>\n",
       "    <tr>\n",
       "      <th>0</th>\n",
       "      <td>0.259052</td>\n",
       "      <td>-0.539609</td>\n",
       "      <td>0.330479</td>\n",
       "    </tr>\n",
       "    <tr>\n",
       "      <th>1</th>\n",
       "      <td>0.0091269</td>\n",
       "      <td>0.0689503</td>\n",
       "      <td>-</td>\n",
       "    </tr>\n",
       "    <tr>\n",
       "      <th>2</th>\n",
       "      <td>-</td>\n",
       "      <td>-</td>\n",
       "      <td>0.132369</td>\n",
       "    </tr>\n",
       "  </tbody>\n",
       "</table>\n",
       "</div>"
      ],
      "text/plain": [
       "  Reduced Form First Stage        IV\n",
       "0     0.259052   -0.539609  0.330479\n",
       "1    0.0091269   0.0689503         -\n",
       "2            -           -  0.132369"
      ]
     },
     "metadata": {},
     "output_type": "display_data"
    }
   ],
   "source": [
    "summary1 = pd.DataFrame(columns = ['Reduced Form','First Stage', 'IV'])\n",
    "summary1.loc[0] = [rf1.params['const'],fs1.params['const'],cm1.params['const']]\n",
    "summary1.loc[1] = [rf1.params['samesex'],fs1.params['samesex'],'-']\n",
    "summary1.loc[2] = ['-','-',cm1.params['morekids']]\n",
    "display(summary1)\n",
    "\n"
   ]
  },
  {
   "cell_type": "code",
   "execution_count": 172,
   "metadata": {},
   "outputs": [
    {
     "data": {
      "text/plain": [
       "0.13236918403095457"
      ]
     },
     "execution_count": 172,
     "metadata": {},
     "output_type": "execute_result"
    }
   ],
   "source": [
    "rf1.params['samesex'] / fs1.params['samesex']"
   ]
  },
  {
   "cell_type": "markdown",
   "metadata": {},
   "source": [
    "Dividing the coefficient on samesex from our First stage by our Reduced form will give us our casual coefficient on morekids from our 2SLS.\n",
    "\n",
    "Part D asks us to prove that if an instrument is truly random, then our casual estimate will be aproximately the same whether or not we add controls to the specification. \n",
    "\n",
    "In order to prove this, we need our controls to be (i) orthogonal to our instrument and (2) related to our dependent variable. \n",
    "\n",
    "I will define orthogonality formally as: given two random variables, we define their inner product as follow: \n",
    "\n",
    "            ⟨𝑋,𝑌⟩=cov(𝑋,𝑌)=𝐄[(𝑋−𝐄[𝑋])(𝑌−𝐄[𝑌])]\n",
    "\n",
    "I will relax this assumption by allowing predictors that are ~0\n"
   ]
  },
  {
   "cell_type": "code",
   "execution_count": 173,
   "metadata": {},
   "outputs": [],
   "source": [
    "#Returns a list of orthogonal predictors to our instrument.\n",
    "def find_orthogonal(instrument, controls):\n",
    "    orthogonal_control_variables = []\n",
    "    for i in controls.columns:\n",
    "        if (abs(np.cov(instrument, controls[i])[0][1]) < 0.001):\n",
    "            orthogonal_control_variables.append(i)\n",
    "    return orthogonal_control_variables\n",
    "    "
   ]
  },
  {
   "cell_type": "code",
   "execution_count": 174,
   "metadata": {},
   "outputs": [],
   "source": [
    "orthogonal_variables = find_orthogonal(df['samesex'],\\\n",
    "                                       variables.drop('samesex',axis = 1))\n",
    "\n"
   ]
  },
  {
   "cell_type": "markdown",
   "metadata": {},
   "source": [
    "Given the list of orthogonal predictors to our instrument, we will now  test our claim that, given a randomized instrument, whether we add controls or not will be irrelevant to the coefficient of our intsrument.\n",
    "\n",
    "    We will test this in a two-step procedure. We will test this for only the reduced form and then the first stage form. If it is the case that the coefficient of our instrument is in fact the same when adding control and excluding controls, then our proof will be complete."
   ]
  },
  {
   "cell_type": "code",
   "execution_count": 175,
   "metadata": {},
   "outputs": [],
   "source": [
    "#Reduced Form\n",
    "orthogonal_controls = variables.filter(orthogonal_variables)\n",
    "orthogonal_controls['samesex'] = df['samesex']\n",
    "rf_wo = sm.OLS(Y, sm.add_constant(df['samesex'])).fit()\n",
    "rf_w = sm.OLS(Y, orthogonal_controls).fit()\n",
    "\n",
    "#First Stage\n",
    "fs_wo = sm.OLS(df['morekids'],sm.add_constant(df['samesex'])).fit()\n",
    "fs_w = sm.OLS(df['morekids'],orthogonal_controls).fit()\n"
   ]
  },
  {
   "cell_type": "code",
   "execution_count": 176,
   "metadata": {},
   "outputs": [
    {
     "data": {
      "text/html": [
       "<div>\n",
       "<style scoped>\n",
       "    .dataframe tbody tr th:only-of-type {\n",
       "        vertical-align: middle;\n",
       "    }\n",
       "\n",
       "    .dataframe tbody tr th {\n",
       "        vertical-align: top;\n",
       "    }\n",
       "\n",
       "    .dataframe thead th {\n",
       "        text-align: right;\n",
       "    }\n",
       "</style>\n",
       "<table border=\"1\" class=\"dataframe\">\n",
       "  <thead>\n",
       "    <tr style=\"text-align: right;\">\n",
       "      <th></th>\n",
       "      <th>RF without</th>\n",
       "      <th>RF with</th>\n",
       "      <th>FS without</th>\n",
       "      <th>FS with</th>\n",
       "    </tr>\n",
       "  </thead>\n",
       "  <tbody>\n",
       "    <tr>\n",
       "      <th>0</th>\n",
       "      <td>0.009909</td>\n",
       "      <td>0.009821</td>\n",
       "      <td>0.067352</td>\n",
       "      <td>0.067941</td>\n",
       "    </tr>\n",
       "  </tbody>\n",
       "</table>\n",
       "</div>"
      ],
      "text/plain": [
       "   RF without   RF with  FS without   FS with\n",
       "0    0.009909  0.009821    0.067352  0.067941"
      ]
     },
     "execution_count": 176,
     "metadata": {},
     "output_type": "execute_result"
    }
   ],
   "source": [
    "parameters = [rf_wo.params['samesex'],rf_w.params['samesex'],fs_wo.params['samesex'],fs_w.params['samesex']]\n",
    "summary_table = pd.DataFrame(columns = ['RF without','RF with'\\\n",
    "                                        ,'FS without', 'FS with'])\n",
    "summary_table.append(pd.Series(parameters,index=summary_table.columns),ignore_index=True)\n",
    "\n"
   ]
  },
  {
   "cell_type": "markdown",
   "metadata": {},
   "source": [
    "e)"
   ]
  },
  {
   "cell_type": "code",
   "execution_count": 177,
   "metadata": {},
   "outputs": [
    {
     "data": {
      "text/plain": [
       "'the difference between Iv with and without control variables are: -0.014753807177271483'"
      ]
     },
     "execution_count": 177,
     "metadata": {},
     "output_type": "execute_result"
    }
   ],
   "source": [
    "difference = cm1.params['morekids'] - cm.params['morekids']\n",
    "\n",
    "f'the difference between Iv with and without control variables are: {difference}'"
   ]
  },
  {
   "cell_type": "markdown",
   "metadata": {},
   "source": [
    "To see if this difference is signifantly different we will use the same procedure as in b but this time we will use bootstrap to construct our confidence band. "
   ]
  },
  {
   "cell_type": "code",
   "execution_count": 178,
   "metadata": {},
   "outputs": [],
   "source": [
    "from sklearn.utils import resample\n",
    "# Generate an empty list to store our difference in coefficience\n",
    "difference = []\n",
    "\n",
    "#Generate 1000 replications:\n",
    "for i in range(100):\n",
    "    #Generate bootstrap sample\n",
    "    sample = resample(df)\n",
    "    variables = sample.loc[:,control_variables]\n",
    "    variables['morekids'] = sample['morekids']\n",
    "    variables['samesex'] = sample['samesex']\n",
    "    variables = sm.add_constant(variables)\n",
    "    Y = pd.DataFrame()\n",
    "    Y['work'] = (df['wagem'] == 0).astype(int)\n",
    "    \n",
    "    #compute the difference in coefficient\n",
    "    cm = IV2SLS(dependent = Y, exog = morekids['const'],\\\n",
    "            endog = morekids['morekids'],\\\n",
    "            instruments = variables['samesex']).fit()\n",
    "    cm1 = IV2SLS(dependent = Y,\\\n",
    "            exog = variables.drop(['morekids','samesex'],axis = 1),\\\n",
    "            endog = variables['morekids'],\\\n",
    "            instruments = variables['samesex']).fit()\n",
    "\n",
    "    difference.append(cm.params['morekids'] - cm1.params['morekids'])\n",
    "\n",
    "    "
   ]
  },
  {
   "cell_type": "code",
   "execution_count": 179,
   "metadata": {},
   "outputs": [],
   "source": [
    "lbnd = np.percentile(difference,2.5)\n",
    "ubnd = np.percentile(difference,97.5)"
   ]
  },
  {
   "cell_type": "code",
   "execution_count": 180,
   "metadata": {},
   "outputs": [
    {
     "name": "stdout",
     "output_type": "stream",
     "text": [
      "A 0.95 CI is [-7.8043772812993435,12.009759167372192]\n"
     ]
    }
   ],
   "source": [
    "print(f'A 0.95 CI is [{lbnd},{ubnd}]')"
   ]
  },
  {
   "cell_type": "markdown",
   "metadata": {},
   "source": [
    "The result that we got from our bootstrap tells us that the difference between the coefficience are not significant for a $\\alpha$ of at least 0.05.\n",
    "\n",
    "\n",
    "f) \n",
    "  \n",
    "      The casual effect of having extra kids on mother's decision to work is significant. Given that a family decides on more children, the more likely is the mother to not work. More specifically the casual effect is that given that a family decides to have more children, the mother's likelihood that she  choose to stay home is ~13.2%. Intuitively this make sense as well since morekids translates into more time spent home. "
   ]
  },
  {
   "cell_type": "markdown",
   "metadata": {},
   "source": [
    "4: \n",
    "\n",
    "    In this part we will compare the OLS and IV models for the effect of having a larger number of children on earnings for mothers, fathers, and the family as a whole. "
   ]
  },
  {
   "cell_type": "code",
   "execution_count": 181,
   "metadata": {},
   "outputs": [],
   "source": [
    "dependent_variables = pd.DataFrame()\n",
    "dependent_variables['earnings_mother'] = df['earningsm']\n",
    "dependent_variables['earnings_father'] = df['earningsd']\n",
    "dependent_variables['earning family'] = df['famearn']\n"
   ]
  },
  {
   "cell_type": "code",
   "execution_count": 182,
   "metadata": {},
   "outputs": [],
   "source": [
    "summary1 = pd.DataFrame(columns = ['Dependent_variable','OLS no ','OLS controls','IV no','IV controls'])\n",
    "\n",
    "for i,j in zip(dependent_variables.columns,range(0,3)):\n",
    "    #OLS no controls\n",
    "    ols = sm.OLS(dependent_variables[i], sm.add_constant(X2[['const', 'morekids']])).fit()\n",
    "    morekids = ols.params['morekids']\n",
    "    \n",
    "    #OLS with controls\n",
    "    ols = sm.OLS(dependent_variables[i], X2).fit()\n",
    "    morekids1 = ols.params['morekids']\n",
    "    \n",
    "    #IV no controls\n",
    "    IV = IV2SLS(dependent =dependent_variables[i] , exog = X2['const'],\\\n",
    "            endog = X2['morekids'],\\\n",
    "            instruments = df['samesex']).fit()\n",
    "    morekids2 = IV.params['morekids']\n",
    "    #IV with controls\n",
    "    IV1 = IV2SLS(dependent =dependent_variables[i] ,\\\n",
    "            exog = X2.drop(['morekids'],axis = 1),\\\n",
    "            endog = X2['morekids'],\\\n",
    "            instruments = df['samesex']).fit()\n",
    "    morekids3 = IV1.params['morekids']\n",
    "    \n",
    "    #Append to DataFrame:\n",
    "    summary1.loc[j] = [i, morekids, morekids1,morekids2, morekids3]\n",
    "    \n",
    "    \n",
    "    \n",
    "    \n",
    "    "
   ]
  },
  {
   "cell_type": "code",
   "execution_count": 183,
   "metadata": {},
   "outputs": [
    {
     "data": {
      "text/html": [
       "<div>\n",
       "<style scoped>\n",
       "    .dataframe tbody tr th:only-of-type {\n",
       "        vertical-align: middle;\n",
       "    }\n",
       "\n",
       "    .dataframe tbody tr th {\n",
       "        vertical-align: top;\n",
       "    }\n",
       "\n",
       "    .dataframe thead th {\n",
       "        text-align: right;\n",
       "    }\n",
       "</style>\n",
       "<table border=\"1\" class=\"dataframe\">\n",
       "  <thead>\n",
       "    <tr style=\"text-align: right;\">\n",
       "      <th></th>\n",
       "      <th>OLS no</th>\n",
       "      <th>OLS controls</th>\n",
       "      <th>IV no</th>\n",
       "      <th>IV controls</th>\n",
       "    </tr>\n",
       "    <tr>\n",
       "      <th>Dependent_variable</th>\n",
       "      <th></th>\n",
       "      <th></th>\n",
       "      <th></th>\n",
       "      <th></th>\n",
       "    </tr>\n",
       "  </thead>\n",
       "  <tbody>\n",
       "    <tr>\n",
       "      <th>earnings_mother</th>\n",
       "      <td>-3662.022087</td>\n",
       "      <td>-4882.458208</td>\n",
       "      <td>-3654.246745</td>\n",
       "      <td>-3097.655069</td>\n",
       "    </tr>\n",
       "    <tr>\n",
       "      <th>earnings_father</th>\n",
       "      <td>-1779.136339</td>\n",
       "      <td>-74.192863</td>\n",
       "      <td>-3155.841664</td>\n",
       "      <td>-3596.780290</td>\n",
       "    </tr>\n",
       "    <tr>\n",
       "      <th>earning family</th>\n",
       "      <td>-5441.158426</td>\n",
       "      <td>-4956.651071</td>\n",
       "      <td>-6810.088409</td>\n",
       "      <td>-6694.435359</td>\n",
       "    </tr>\n",
       "  </tbody>\n",
       "</table>\n",
       "</div>"
      ],
      "text/plain": [
       "                        OLS no   OLS controls        IV no  IV controls\n",
       "Dependent_variable                                                     \n",
       "earnings_mother    -3662.022087  -4882.458208 -3654.246745 -3097.655069\n",
       "earnings_father    -1779.136339    -74.192863 -3155.841664 -3596.780290\n",
       "earning family     -5441.158426  -4956.651071 -6810.088409 -6694.435359"
      ]
     },
     "execution_count": 183,
     "metadata": {},
     "output_type": "execute_result"
    }
   ],
   "source": [
    "summary1 = summary1.set_index('Dependent_variable')\n",
    "summary1"
   ]
  },
  {
   "cell_type": "markdown",
   "metadata": {},
   "source": [
    "    The basic idea is that the OLS overstates the effect on mother's wage given that she has more kids than the IV but understates the effect morekids has on father's earnings. I believe that the OLS follows the path which we would expect, namely that mother's are more likely to suffer a significant decrease in wage not because they have more kids but mother's are more likely to reduce their hours worked. From above calculations we found that mothers are ~17% more likely to stop working if she has morekids. I.e. in the OLS, morekids is confonfounded with the error term. This is likely due to the fact that mother's may be more naturally likely to reduce their hours worked if she has morekids. On the otherhand, for fathers, the OLS is severely understating the effect morekids has on father's wage. This is perhaps also easies to picture in terms of working. Given that a family has morekids, more time to those kids has to be attributed to them, but it also become more costly. So if mother's are more likely to reduce their hours given that they had morekids, father's are more likely to increase their hours to work in order to provide financial stability to the family. However, this confounds the true effect on fathers. Please note that there may be may reasons as to why the OLS is confounded. One other possible explanation for father's may be that there is high returns to earnings for being highly educated and/or white as  a male. "
   ]
  },
  {
   "cell_type": "markdown",
   "metadata": {},
   "source": [
    "b) \n",
    "If $y_{3i} = y_{1i} + y_{2i}$ and:\n",
    "\n",
    "$y_{1i} = \\beta_1x_i + u_{1i}$\n",
    "\n",
    "$y_{2i} = \\beta_2x_i + u_{2i}$\n",
    "\n",
    "$y_{3i} = \\beta_3x_i + u_{3i}$\n",
    "\n",
    "\n",
    "Where xi is the same in all three equations, then:\n",
    "\n",
    "\n",
    "$y_{3i} = y_{1i} + y_{2i} = \\beta_1x_i + u_{1i}+\\beta_2x_i + u_{2i} $\n",
    "\n",
    "$=(\\beta_1 + \\beta_2)x_i + (u_{1i} + u_{2i})$\n",
    "\n",
    "which implies that $\\beta_3 = \\beta_1 + \\beta_2$\n",
    "\n",
    "We can also show that this is true through the first order condition:\n",
    "\n",
    "$ \\hat{\\beta_3} = argmax \\frac{1}{N} \\sum [y_{3i} - (\\beta_1 + \\beta_2)x_i]^2 $\n",
    "\n",
    "Foc:\n",
    "\n",
    "$ (\\beta_1 + \\beta_2) \\sum x_i^2 = \\sum x_i y_{3i} $\n",
    "\n",
    "$ ==> (\\beta_1 + \\beta_2) = (\\sum x_i^2)^{-1} \\sum x_i y_{3i} = \\beta_3 $\n",
    "\n",
    "\n",
    "c and d)"
   ]
  },
  {
   "cell_type": "code",
   "execution_count": 184,
   "metadata": {},
   "outputs": [
    {
     "name": "stdout",
     "output_type": "stream",
     "text": [
      "OLS no \n",
      "beta 3: -5441.158425694542 and beta1 + beta3:-5441.15842569454\n",
      "OLS controls\n",
      "beta 3: -4956.651070957119 and beta1 + beta3:-4956.651070957123\n",
      "IV no\n",
      "beta 3: -6810.088409263641 and beta1 + beta3:-6810.088409259915\n",
      "IV controls\n",
      "beta 3: -6694.435358867049 and beta1 + beta3:-6694.435358879622\n"
     ]
    }
   ],
   "source": [
    "combined_earning_OLS = summary1.loc['earnings_mother'][1] + summary1.loc['earnings_father'][1]\n",
    "earning_family_OLS = summary1.iloc[2][1]\n",
    "\n",
    "combined_earning_IV = summary1.loc['earnings_mother'][1] + summary1.loc['earnings_father'][1]\n",
    "earning_family_IV = summary1.iloc[2][1]\n",
    "\n",
    "for i in summary1.columns:\n",
    "        combined_earning = summary1.loc['earnings_mother'][i] + summary1.loc['earnings_father'][i]\n",
    "        earning_family = summary1.iloc[2][i]\n",
    "        print(i)\n",
    "        print(f'beta 3: {earning_family} and beta1 + beta3:{combined_earning}')\n",
    "    "
   ]
  },
  {
   "cell_type": "code",
   "execution_count": 185,
   "metadata": {},
   "outputs": [
    {
     "name": "stdout",
     "output_type": "stream",
     "text": [
      "OLS no \n",
      "Mother share of the effect of total family income: 0.6730225073752009%\n",
      "OLS controls\n",
      "Mother share of the effect of total family income: 0.985031655142117%\n",
      "IV no\n",
      "Mother share of the effect of total family income: 0.5365931432696388%\n",
      "IV controls\n",
      "Mother share of the effect of total family income: 0.46272088720294596%\n"
     ]
    }
   ],
   "source": [
    "for i in summary1.columns:\n",
    "    mothers_frac = summary1.loc['earnings_mother'][i] / summary1.iloc[2][i]\n",
    "    print(i)\n",
    "    print(f'Mother share of the effect of total family income: {mothers_frac}%')"
   ]
  },
  {
   "cell_type": "markdown",
   "metadata": {},
   "source": [
    "    We can see that for the OLS: Mother's effect is driving the effect of having more kids on total income. The difference however may be due to that mother's are more likely to stop working after having more kids than 2 whereas fathers are more likely to continue working. Controlling for more variables, mother's effect is significantly magnified.\n",
    "\n",
    "    We can however see that the pattern does not hold for the IV estimate. Without the control variables, the share of the effect is nearly equal, with mother's having a slightly more effect. However, conrolling for our variables, father's effect is now the biggest share of the total effect. I am not 100% sure why this is the case. However, if we assume IV to be the true model, it may be such that: given a family decides on more than 2 children, the burden of more children is shared by both parents.\n",
    "    \n",
    "    \n",
    "    \n",
    "e)"
   ]
  },
  {
   "cell_type": "code",
   "execution_count": 186,
   "metadata": {},
   "outputs": [
    {
     "name": "stdout",
     "output_type": "stream",
     "text": [
      "Fraction of 'always takers': 0.16774578256695663\n"
     ]
    }
   ],
   "source": [
    "#[d=1, z=1] - [d=1,z=0]\n",
    "d1z1 = len(df.loc[(df['morekids']==1) & (df['samesex']==1)])\n",
    "d1z0 = len(df.loc[(df['morekids']==1) & (df['samesex']==0)])\n",
    "\n",
    "\n",
    "count_AT = d1z0\n",
    "\n",
    "frac_AT = count_AT/len(df)\n",
    "print(f\"Fraction of 'always takers': {frac_AT}\")\n",
    "\n"
   ]
  },
  {
   "cell_type": "code",
   "execution_count": 187,
   "metadata": {},
   "outputs": [
    {
     "name": "stdout",
     "output_type": "stream",
     "text": [
      "Fraction of 'never takers': 0.2999209165225261\n"
     ]
    }
   ],
   "source": [
    "d0z1 = len(df.loc[(df['morekids']==0) & (df['samesex']==1)])\n",
    "d0z0 = len(df.loc[(df['morekids']==0) & (df['samesex']==0)])\n",
    "\n",
    "count_NT = d0z1\n",
    "frac_NT = count_NT/len(df)\n",
    "print(f\"Fraction of 'never takers': {frac_NT}\")"
   ]
  },
  {
   "cell_type": "code",
   "execution_count": 188,
   "metadata": {},
   "outputs": [
    {
     "name": "stdout",
     "output_type": "stream",
     "text": [
      "Fraction of 'compliers': 0.5323333009105173\n"
     ]
    }
   ],
   "source": [
    "frac_C = 1 - frac_AT - frac_NT\n",
    "print(f\"Fraction of 'compliers': {frac_C}\")"
   ]
  },
  {
   "cell_type": "markdown",
   "metadata": {},
   "source": [
    "compare the fractions of AT/NT/C for four subgroups of families based on mother's education: less than 12 years, 12 years, between 13 and 15 years, and 16+ years of education."
   ]
  },
  {
   "cell_type": "code",
   "execution_count": 189,
   "metadata": {},
   "outputs": [
    {
     "name": "stdout",
     "output_type": "stream",
     "text": [
      "less than 12:\n",
      " AT: 0.2338877338877339\n",
      " NT: 0.2301999801999802\n",
      " C: 0.5359122859122859\n",
      "exactly_12:\n",
      " AT: 0.16073233837665565\n",
      " NT: 0.3053151933654324\n",
      " C: 0.533952468257912\n",
      "between_13_15:\n",
      " AT: 0.15330540809555407\n",
      " NT: 0.3127695753151958\n",
      " C: 0.5339250165892502\n",
      "more_than_16:\n",
      " AT: 0.13054100099649618\n",
      " NT: 0.3503166286283712\n",
      " C: 0.5191423703751326\n"
     ]
    }
   ],
   "source": [
    "less_12 = df.loc[df['educm']<12]\n",
    "exactly_12 = df.loc[df['educm']==12]\n",
    "between_13_15 = df.loc[(df['educm']>12) & (df['educm']<16)]\n",
    "more_than_16 = df.loc[df['educm'] >= 16]\n",
    "\n",
    "subgroups = [less_12, exactly_12, between_13_15, more_than_16]\n",
    "names = ['less than 12', 'exactly_12', 'between_13_15', 'more_than_16']\n",
    "for group, name in zip(subgroups, names):\n",
    "    AT = len(group.loc[(group['morekids']==1) & (group['samesex']==0)]) / len(group)\n",
    "    NT = len(group.loc[(group['morekids']==0) & (group['samesex']==1)]) / len(group)\n",
    "    C = 1 - AT - NT\n",
    "    print(f\"{name}:\\n AT: {AT}\\n NT: {NT}\\n C: {C}\")"
   ]
  },
  {
   "cell_type": "markdown",
   "metadata": {},
   "source": [
    "    What stood out to me is that there is a higher fraction of never takers as years of education increases. This could be an indication that same sex is decrasing in education. Similarly, Always takers are decreasing as years of education is increasing. i.e families that have higher education also have less children. \n",
    "    \n",
    "    Those who have 16+ years of education are less likely to be AT or C and more likely to be NT. Those with educ between\n",
    "    \n",
    "    \n",
    "    \n",
    "f)"
   ]
  },
  {
   "cell_type": "code",
   "execution_count": 190,
   "metadata": {},
   "outputs": [],
   "source": [
    "from sklearn.linear_model import LinearRegression\n",
    "\n",
    "def regression_results(model, X, y):\n",
    "    \"\"\"\n",
    "    Returns Coefficients and Std Errors for Model\n",
    "    model - model, assumed to be fitted if y = None\n",
    "    X - Covariate Matrix\n",
    "    y - Dependent Array\n",
    "    \"\"\"\n",
    "    model.fit(X, y)\n",
    "    coeffs = model.coef_\n",
    "    \n",
    "    resids = y - model.predict(X)\n",
    "    \n",
    "    return pd.DataFrame({\"Coeff\":coeffs}, index = X.columns)"
   ]
  },
  {
   "cell_type": "code",
   "execution_count": 191,
   "metadata": {},
   "outputs": [],
   "source": [
    "\n",
    "def regression_results(model, X, y):\n",
    "    \"\"\"\n",
    "    Returns Coefficients and Std Errors for Model\n",
    "    model - model, assumed to be fitted if y = None\n",
    "    X - Covariate Matrix\n",
    "    y - Dependent Array\n",
    "    \"\"\"\n",
    "    model.fit(X, y)\n",
    "    coeffs = model.coef_\n",
    "    \n",
    "    resids = y - model.predict(X)\n",
    "    \n",
    "    return pd.DataFrame({\"Coeff\":coeffs}, index = X.columns)"
   ]
  },
  {
   "cell_type": "code",
   "execution_count": 192,
   "metadata": {},
   "outputs": [
    {
     "name": "stdout",
     "output_type": "stream",
     "text": [
      "first-stage results:\n"
     ]
    },
    {
     "data": {
      "text/html": [
       "<table class=\"simpletable\">\n",
       "<caption>OLS Regression Results</caption>\n",
       "<tr>\n",
       "  <th>Dep. Variable:</th>        <td>morekids</td>     <th>  R-squared:         </th>  <td>   0.005</td>  \n",
       "</tr>\n",
       "<tr>\n",
       "  <th>Model:</th>                   <td>OLS</td>       <th>  Adj. R-squared:    </th>  <td>   0.005</td>  \n",
       "</tr>\n",
       "<tr>\n",
       "  <th>Method:</th>             <td>Least Squares</td>  <th>  F-statistic:       </th>  <td>   1152.</td>  \n",
       "</tr>\n",
       "<tr>\n",
       "  <th>Date:</th>             <td>Fri, 17 May 2019</td> <th>  Prob (F-statistic):</th>  <td>6.87e-252</td> \n",
       "</tr>\n",
       "<tr>\n",
       "  <th>Time:</th>                 <td>03:16:49</td>     <th>  Log-Likelihood:    </th> <td>-1.6317e+05</td>\n",
       "</tr>\n",
       "<tr>\n",
       "  <th>No. Observations:</th>      <td>236459</td>      <th>  AIC:               </th>  <td>3.264e+05</td> \n",
       "</tr>\n",
       "<tr>\n",
       "  <th>Df Residuals:</th>          <td>236457</td>      <th>  BIC:               </th>  <td>3.264e+05</td> \n",
       "</tr>\n",
       "<tr>\n",
       "  <th>Df Model:</th>              <td>     1</td>      <th>                     </th>      <td> </td>     \n",
       "</tr>\n",
       "<tr>\n",
       "  <th>Covariance Type:</th>      <td>nonrobust</td>    <th>                     </th>      <td> </td>     \n",
       "</tr>\n",
       "</table>\n",
       "<table class=\"simpletable\">\n",
       "<tr>\n",
       "     <td></td>        <th>coef</th>     <th>std err</th>      <th>t</th>      <th>P>|t|</th>  <th>[0.025</th>    <th>0.975]</th>  \n",
       "</tr>\n",
       "<tr>\n",
       "  <th>const</th>   <td>    0.3391</td> <td>    0.001</td> <td>  240.375</td> <td> 0.000</td> <td>    0.336</td> <td>    0.342</td>\n",
       "</tr>\n",
       "<tr>\n",
       "  <th>samesex</th> <td>    0.0674</td> <td>    0.002</td> <td>   33.940</td> <td> 0.000</td> <td>    0.063</td> <td>    0.071</td>\n",
       "</tr>\n",
       "</table>\n",
       "<table class=\"simpletable\">\n",
       "<tr>\n",
       "  <th>Omnibus:</th>       <td>9494.639</td> <th>  Durbin-Watson:     </th> <td>   1.968</td> \n",
       "</tr>\n",
       "<tr>\n",
       "  <th>Prob(Omnibus):</th>  <td> 0.000</td>  <th>  Jarque-Bera (JB):  </th> <td>39431.027</td>\n",
       "</tr>\n",
       "<tr>\n",
       "  <th>Skew:</th>           <td> 0.521</td>  <th>  Prob(JB):          </th> <td>    0.00</td> \n",
       "</tr>\n",
       "<tr>\n",
       "  <th>Kurtosis:</th>       <td> 1.292</td>  <th>  Cond. No.          </th> <td>    2.63</td> \n",
       "</tr>\n",
       "</table><br/><br/>Warnings:<br/>[1] Standard Errors assume that the covariance matrix of the errors is correctly specified."
      ],
      "text/plain": [
       "<class 'statsmodels.iolib.summary.Summary'>\n",
       "\"\"\"\n",
       "                            OLS Regression Results                            \n",
       "==============================================================================\n",
       "Dep. Variable:               morekids   R-squared:                       0.005\n",
       "Model:                            OLS   Adj. R-squared:                  0.005\n",
       "Method:                 Least Squares   F-statistic:                     1152.\n",
       "Date:                Fri, 17 May 2019   Prob (F-statistic):          6.87e-252\n",
       "Time:                        03:16:49   Log-Likelihood:            -1.6317e+05\n",
       "No. Observations:              236459   AIC:                         3.264e+05\n",
       "Df Residuals:                  236457   BIC:                         3.264e+05\n",
       "Df Model:                           1                                         \n",
       "Covariance Type:            nonrobust                                         \n",
       "==============================================================================\n",
       "                 coef    std err          t      P>|t|      [0.025      0.975]\n",
       "------------------------------------------------------------------------------\n",
       "const          0.3391      0.001    240.375      0.000       0.336       0.342\n",
       "samesex        0.0674      0.002     33.940      0.000       0.063       0.071\n",
       "==============================================================================\n",
       "Omnibus:                     9494.639   Durbin-Watson:                   1.968\n",
       "Prob(Omnibus):                  0.000   Jarque-Bera (JB):            39431.027\n",
       "Skew:                           0.521   Prob(JB):                         0.00\n",
       "Kurtosis:                       1.292   Cond. No.                         2.63\n",
       "==============================================================================\n",
       "\n",
       "Warnings:\n",
       "[1] Standard Errors assume that the covariance matrix of the errors is correctly specified.\n",
       "\"\"\""
      ]
     },
     "metadata": {},
     "output_type": "display_data"
    },
    {
     "name": "stdout",
     "output_type": "stream",
     "text": [
      "Compliers      educm<12:   0.14313\n",
      "Sample Mean    educm<12:   0.17087 \n",
      "\n",
      "Compliers       educm:     12.48400\n",
      "Sample Mean     educm:     12.42263 \n",
      "\n",
      "Compliers        agem:     30.19062\n",
      "Sample Mean      agem:     30.36734 \n",
      "\n",
      "Compliers      agefstm:    20.97587\n",
      "Sample Mean    agefstm:    20.84279 \n",
      "\n",
      "Compliers     agefstm<21:  0.47131\n",
      "Sample Mean   agefstm<21:  0.49717 \n",
      "\n",
      "Compliers       hispm:     0.02457\n",
      "Sample Mean     hispm:     0.02510 \n",
      "\n",
      "Compliers       blackm:    0.03892\n",
      "Sample Mean     blackm:    0.04971 \n",
      "\n",
      "Compliers       whitem:    0.91292\n",
      "Sample Mean     whitem:    0.89673 \n",
      "\n",
      "Compliers        utah:     0.00853\n",
      "Sample Mean      utah:     0.01052 \n",
      "\n"
     ]
    }
   ],
   "source": [
    "Z = sm.add_constant(df['samesex'])\n",
    "x = df['morekids']\n",
    "lm = LinearRegression(fit_intercept=False)\n",
    "lm.fit(Z,x)\n",
    "\n",
    "print(\"first-stage results:\")\n",
    "display(sm.OLS(x,Z).fit().summary())\n",
    "df['agefstm<21'] = (df.loc[:,'agefstm'] < 21).astype(int)\n",
    "df['utah'] = (df.loc[:,'st'] == 87).astype(int)\n",
    "X_pred = sm.add_constant(pd.DataFrame(lm.predict(Z) , columns = ['morekids'], index = x.index))\n",
    "\n",
    "\n",
    "vars_ = ['educm<12', 'educm', 'agem','agefstm',\\\n",
    "         'agefstm<21', 'hispm', 'blackm', 'whitem', 'utah']\n",
    "for i in vars_:\n",
    "    y = df[i]\n",
    "    lm.fit(X_pred, y)\n",
    "    results = regression_results(lm, X_pred, y)\n",
    "    \n",
    "    print(f\"Compliers   {i + ':':^15}{results['Coeff'].sum():.5f}\")\n",
    "    print(f\"Sample Mean {i + ':':^15}{df[i].mean():.5f} \\n\")\n",
    "        \n",
    "\n"
   ]
  },
  {
   "cell_type": "markdown",
   "metadata": {},
   "source": [
    "### Part 2\n"
   ]
  },
  {
   "cell_type": "code",
   "execution_count": 193,
   "metadata": {},
   "outputs": [],
   "source": [
    "df['logwaged'] = np.log(df['waged'])\n",
    "\n",
    "train,test = df.loc[(df['educd'] == 16) & (df['rv'] < 0.75)], df.loc[(df['educd'] == 16) & (df['rv'] >= 0.75)]\n",
    "assert len(train) == 20923             \n",
    "assert len(test) == 7065 "
   ]
  },
  {
   "cell_type": "markdown",
   "metadata": {},
   "source": [
    "1. Estimate a simple OLS model on teh estimation sample that includes age, a set of dummies for the state of residence, and interactions of the state of residence with age. Since tehre are 51 states, this model has a constant, age, 50 state dummies, 50 interactions of age with state-- totalling 100 variables in addition to a constant. "
   ]
  },
  {
   "cell_type": "code",
   "execution_count": 194,
   "metadata": {},
   "outputs": [],
   "source": [
    "Y_train, Y_test = train['logwaged'], test['logwaged']\n",
    "#####Train#######\n",
    "#Adds a dummy for all the states. \n",
    "X_train = pd.DataFrame()\n",
    "X_train['age'] = train['aged']\n",
    "dummies = pd.get_dummies(train['st'], prefix = 'st', drop_first = True)\n",
    "educD = ['st_' + str(i) for i in range(0,51)]\n",
    "X_train = X_train.merge(dummies, how = 'left',left_index = True, right_index = True )\n",
    "\n",
    "#Adding interaction 1[age*state]\n",
    "state_list = sorted(train['st'].unique())[1:]\n",
    "for st in state_list:\n",
    "    X_train[f'aged*st_{st}'] = X_train['age'] * X_train[f'st_{st}'] \n",
    "\n",
    "X_train = sm.add_constant(X_train)\n",
    "\n",
    "####Test#########\n",
    "#Adds a dummy for all the states. \n",
    "X_test = pd.DataFrame()\n",
    "X_test['age'] = test['aged']\n",
    "dummies = pd.get_dummies(test['st'], prefix = 'st', drop_first = True)\n",
    "educD = ['st_' + str(i) for i in range(0,51)]\n",
    "X_test = X_test.merge(dummies, how = 'left',left_index = True, right_index = True )\n",
    "\n",
    "#Adding interaction 1[age*state]\n",
    "state_list1 = sorted(test['st'].unique())[1:]\n",
    "for st in state_list1:\n",
    "    X_test[f'aged*st_{st}'] = X_test['age'] * X_test[f'st_{st}'] \n",
    "\n",
    "X_test = sm.add_constant(X_test)\n",
    "\n",
    "assert len(X_train.columns) == 102\n"
   ]
  },
  {
   "cell_type": "code",
   "execution_count": 195,
   "metadata": {
    "scrolled": false
   },
   "outputs": [
    {
     "name": "stdout",
     "output_type": "stream",
     "text": [
      "Mean logWage for 26 year old men in 12 is: 3.2717601245733716\n",
      "Mean logWage for 35 year old men in 12 is: 3.4651617895689193\n",
      "\n",
      "Mean logWage for 26 year old men in 13 is: 0\n",
      "Mean logWage for 35 year old men in 13 is: 3.3134837381463784\n",
      "\n",
      "Mean logWage for 26 year old men in 14 is: 3.2334233397212353\n",
      "Mean logWage for 35 year old men in 14 is: 3.562858034305682\n",
      "\n",
      "Mean logWage for 26 year old men in 15 is: 3.267129126515728\n",
      "Mean logWage for 35 year old men in 15 is: 3.5172446348396273\n",
      "\n",
      "Mean logWage for 26 year old men in 16 is: 3.2702906356089603\n",
      "Mean logWage for 35 year old men in 16 is: 3.6359987837259626\n",
      "\n",
      "Mean logWage for 26 year old men in 21 is: 3.3713856495322636\n",
      "Mean logWage for 35 year old men in 21 is: 3.5924816179754573\n",
      "\n",
      "Mean logWage for 26 year old men in 22 is: 3.4693173025712447\n",
      "Mean logWage for 35 year old men in 22 is: 3.692556786412985\n",
      "\n",
      "Mean logWage for 26 year old men in 23 is: 3.2347382692149638\n",
      "Mean logWage for 35 year old men in 23 is: 3.565245484887405\n",
      "\n",
      "Mean logWage for 26 year old men in 31 is: 3.3142449764393667\n",
      "Mean logWage for 35 year old men in 31 is: 3.5628739513850736\n",
      "\n",
      "Mean logWage for 26 year old men in 32 is: 3.3531761619456972\n",
      "Mean logWage for 35 year old men in 32 is: 3.540742931139141\n",
      "\n",
      "Mean logWage for 26 year old men in 33 is: 3.3804333537562097\n",
      "Mean logWage for 35 year old men in 33 is: 3.6292086154610232\n",
      "\n",
      "Mean logWage for 26 year old men in 34 is: 3.401369632177613\n",
      "Mean logWage for 35 year old men in 34 is: 3.624990254748132\n",
      "\n",
      "Mean logWage for 26 year old men in 35 is: 3.2412459070326123\n",
      "Mean logWage for 35 year old men in 35 is: 3.4489158304082825\n",
      "\n",
      "Mean logWage for 26 year old men in 41 is: 3.2923954414568324\n",
      "Mean logWage for 35 year old men in 41 is: 3.533992535771138\n",
      "\n",
      "Mean logWage for 26 year old men in 42 is: 3.2509820743583835\n",
      "Mean logWage for 35 year old men in 42 is: 3.436029041598929\n",
      "\n",
      "Mean logWage for 26 year old men in 43 is: 3.1483810316227054\n",
      "Mean logWage for 35 year old men in 43 is: 3.49410727197575\n",
      "\n",
      "Mean logWage for 26 year old men in 44 is: 3.3195361421793326\n",
      "Mean logWage for 35 year old men in 44 is: 3.383633551478337\n",
      "\n",
      "Mean logWage for 26 year old men in 45 is: 2.932712936817245\n",
      "Mean logWage for 35 year old men in 45 is: 3.374266838222417\n",
      "\n",
      "Mean logWage for 26 year old men in 46 is: 3.1031561003660597\n",
      "Mean logWage for 35 year old men in 46 is: 3.3468682050506215\n",
      "\n",
      "Mean logWage for 26 year old men in 47 is: 3.1029283072385265\n",
      "Mean logWage for 35 year old men in 47 is: 3.4478768021580652\n",
      "\n",
      "Mean logWage for 26 year old men in 51 is: 0\n",
      "Mean logWage for 35 year old men in 51 is: 3.562871736107328\n",
      "\n",
      "Mean logWage for 26 year old men in 52 is: 3.3277186790070177\n",
      "Mean logWage for 35 year old men in 52 is: 3.6139206181608907\n",
      "\n",
      "Mean logWage for 26 year old men in 53 is: 0\n",
      "Mean logWage for 35 year old men in 53 is: 3.4917363504896883\n",
      "\n",
      "Mean logWage for 26 year old men in 54 is: 3.2082623965726413\n",
      "Mean logWage for 35 year old men in 54 is: 3.566447261943503\n",
      "\n",
      "Mean logWage for 26 year old men in 55 is: 3.1965792640160697\n",
      "Mean logWage for 35 year old men in 55 is: 3.52236171225431\n",
      "\n",
      "Mean logWage for 26 year old men in 56 is: 3.1534234389245417\n",
      "Mean logWage for 35 year old men in 56 is: 3.4454136080258997\n",
      "\n",
      "Mean logWage for 26 year old men in 57 is: 3.206107835009354\n",
      "Mean logWage for 35 year old men in 57 is: 3.4340393623174705\n",
      "\n",
      "Mean logWage for 26 year old men in 58 is: 3.312156397955938\n",
      "Mean logWage for 35 year old men in 58 is: 3.490870708956865\n",
      "\n",
      "Mean logWage for 26 year old men in 59 is: 3.233833178997617\n",
      "Mean logWage for 35 year old men in 59 is: 3.4654099638562754\n",
      "\n",
      "Mean logWage for 26 year old men in 61 is: 3.1654182497993246\n",
      "Mean logWage for 35 year old men in 61 is: 3.492016276077808\n",
      "\n",
      "Mean logWage for 26 year old men in 62 is: 3.160647076031814\n",
      "Mean logWage for 35 year old men in 62 is: 3.444289160925115\n",
      "\n",
      "Mean logWage for 26 year old men in 63 is: 0\n",
      "Mean logWage for 35 year old men in 63 is: 3.450434293989757\n",
      "\n",
      "Mean logWage for 26 year old men in 64 is: 3.068487047255778\n",
      "Mean logWage for 35 year old men in 64 is: 3.3785955512856822\n",
      "\n",
      "Mean logWage for 26 year old men in 71 is: 3.045247607202863\n",
      "Mean logWage for 35 year old men in 71 is: 3.375278482879546\n",
      "\n",
      "Mean logWage for 26 year old men in 72 is: 0\n",
      "Mean logWage for 35 year old men in 72 is: 3.637904259311336\n",
      "\n",
      "Mean logWage for 26 year old men in 73 is: 3.1640104830420417\n",
      "Mean logWage for 35 year old men in 73 is: 3.435718550023746\n",
      "\n",
      "Mean logWage for 26 year old men in 74 is: 3.3018346187152816\n",
      "Mean logWage for 35 year old men in 74 is: 3.5565981625807184\n",
      "\n",
      "Mean logWage for 26 year old men in 81 is: 0\n",
      "Mean logWage for 35 year old men in 81 is: 3.2735866002981187\n",
      "\n",
      "Mean logWage for 26 year old men in 82 is: 3.153527983264119\n",
      "Mean logWage for 35 year old men in 82 is: 3.4160031706210723\n",
      "\n",
      "Mean logWage for 26 year old men in 83 is: 3.475992002591557\n",
      "Mean logWage for 35 year old men in 83 is: 3.398176505633602\n",
      "\n",
      "Mean logWage for 26 year old men in 84 is: 3.2967442787274304\n",
      "Mean logWage for 35 year old men in 84 is: 3.5158031334039124\n",
      "\n",
      "Mean logWage for 26 year old men in 85 is: 3.079842610654853\n",
      "Mean logWage for 35 year old men in 85 is: 3.34080027011717\n",
      "\n",
      "Mean logWage for 26 year old men in 86 is: 3.2159627387965415\n",
      "Mean logWage for 35 year old men in 86 is: 3.4646777377032896\n",
      "\n",
      "Mean logWage for 26 year old men in 87 is: 3.1827669861354795\n",
      "Mean logWage for 35 year old men in 87 is: 3.429743066494348\n",
      "\n",
      "Mean logWage for 26 year old men in 88 is: 0\n",
      "Mean logWage for 35 year old men in 88 is: 3.613799794301683\n",
      "\n",
      "Mean logWage for 26 year old men in 91 is: 3.3699002363127883\n",
      "Mean logWage for 35 year old men in 91 is: 3.5520181480102826\n",
      "\n",
      "Mean logWage for 26 year old men in 92 is: 3.217800314759366\n",
      "Mean logWage for 35 year old men in 92 is: 3.4669482933068854\n",
      "\n",
      "Mean logWage for 26 year old men in 93 is: 3.2956387342979157\n",
      "Mean logWage for 35 year old men in 93 is: 3.546530291798917\n",
      "\n",
      "Mean logWage for 26 year old men in 94 is: 3.379091248810658\n",
      "Mean logWage for 35 year old men in 94 is: 3.8093605587597974\n",
      "\n",
      "Mean logWage for 26 year old men in 95 is: 3.0766893348095183\n",
      "Mean logWage for 35 year old men in 95 is: 3.3825878313862816\n",
      "\n"
     ]
    }
   ],
   "source": [
    "linear_model = LinearRegression(fit_intercept=False)\n",
    "lm = linear_model.fit(X_train,Y_train)\n",
    "\n",
    "res_26 = {}\n",
    "res_35 = {}\n",
    "\n",
    "# Predicting earnings for men age 26 for each state:\n",
    "for st in state_list:\n",
    "    subset = X_train.loc[(train['aged'] == 26) & (train['st'] == st)]\n",
    "    subset2 = X_train[(train['aged'] == 35) & (train['st'] == st)]\n",
    "    \n",
    "    if(len(subset)):\n",
    "        predict26 = lm.predict(subset).mean()\n",
    "        res_26[st] = predict26\n",
    "    else:\n",
    "        predict26 = 0\n",
    "        res_26[st] = predict26\n",
    "    if(len(subset2)):\n",
    "        predict35 = lm.predict(subset2).mean()\n",
    "        res_35[st] = predict35\n",
    "    else:\n",
    "        predict26 = 0\n",
    "        res_35[st] = predict35\n",
    "        \n",
    "        \n",
    "    \n",
    "    \n",
    "    print(f\"Mean logWage for 26 year old men in {st} is: {predict26}\")\n",
    "    print(f\"Mean logWage for 35 year old men in {st} is: {predict35}\\n\")\n",
    "    \n",
    "predicted_linear = pd.DataFrame([res_26,res_35 ], index = ['26yr', '35yr']).T\n",
    "\n",
    "\n"
   ]
  },
  {
   "cell_type": "markdown",
   "metadata": {},
   "source": [
    "2)\n",
    "\n",
    "Using K-fold cross validation within the estimation sample, estimate a lasso version of the same model, and use this model to predict earnings again. "
   ]
  },
  {
   "cell_type": "code",
   "execution_count": 196,
   "metadata": {
    "scrolled": false
   },
   "outputs": [
    {
     "name": "stdout",
     "output_type": "stream",
     "text": [
      "Mean logWage for 26 year old men in 12 is: 3.309726258860922\n",
      "Mean logWage for 35 year old men in 12 is: 3.50589020758165\n",
      "\n",
      "Mean logWage for 26 year old men in 13 is: 0\n",
      "Mean logWage for 35 year old men in 13 is: 3.5058902075816496\n",
      "\n",
      "Mean logWage for 26 year old men in 14 is: 3.309726258860922\n",
      "Mean logWage for 35 year old men in 14 is: 3.505890207581649\n",
      "\n",
      "Mean logWage for 26 year old men in 15 is: 3.309726258860922\n",
      "Mean logWage for 35 year old men in 15 is: 3.50589020758165\n",
      "\n",
      "Mean logWage for 26 year old men in 16 is: 3.309726258860922\n",
      "Mean logWage for 35 year old men in 16 is: 3.505890207581649\n",
      "\n",
      "Mean logWage for 26 year old men in 21 is: 3.3457700773448744\n",
      "Mean logWage for 35 year old men in 21 is: 3.554410732463893\n",
      "\n",
      "Mean logWage for 26 year old men in 22 is: 3.4040295671444754\n",
      "Mean logWage for 35 year old men in 22 is: 3.6328369687325877\n",
      "\n",
      "Mean logWage for 26 year old men in 23 is: 3.3097262588609215\n",
      "Mean logWage for 35 year old men in 23 is: 3.5058902075816505\n",
      "\n",
      "Mean logWage for 26 year old men in 31 is: 3.309726258860922\n",
      "Mean logWage for 35 year old men in 31 is: 3.505890207581651\n",
      "\n",
      "Mean logWage for 26 year old men in 32 is: 3.309726258860922\n",
      "Mean logWage for 35 year old men in 32 is: 3.505890207581649\n",
      "\n",
      "Mean logWage for 26 year old men in 33 is: 3.36309822047241\n",
      "Mean logWage for 35 year old men in 33 is: 3.577737078981731\n",
      "\n",
      "Mean logWage for 26 year old men in 34 is: 3.3515092806149123\n",
      "Mean logWage for 35 year old men in 34 is: 3.5621365830197127\n",
      "\n",
      "Mean logWage for 26 year old men in 35 is: 3.309726258860922\n",
      "Mean logWage for 35 year old men in 35 is: 3.50589020758165\n",
      "\n",
      "Mean logWage for 26 year old men in 41 is: 3.309726258860922\n",
      "Mean logWage for 35 year old men in 41 is: 3.5058902075816487\n",
      "\n",
      "Mean logWage for 26 year old men in 42 is: 3.309726258860922\n",
      "Mean logWage for 35 year old men in 42 is: 3.5058902075816487\n",
      "\n",
      "Mean logWage for 26 year old men in 43 is: 3.309726258860922\n",
      "Mean logWage for 35 year old men in 43 is: 3.50589020758165\n",
      "\n",
      "Mean logWage for 26 year old men in 44 is: 3.309726258860922\n",
      "Mean logWage for 35 year old men in 44 is: 3.50589020758165\n",
      "\n",
      "Mean logWage for 26 year old men in 45 is: 3.309726258860922\n",
      "Mean logWage for 35 year old men in 45 is: 3.5058902075816496\n",
      "\n",
      "Mean logWage for 26 year old men in 46 is: 3.309726258860922\n",
      "Mean logWage for 35 year old men in 46 is: 3.50589020758165\n",
      "\n",
      "Mean logWage for 26 year old men in 47 is: 3.309726258860922\n",
      "Mean logWage for 35 year old men in 47 is: 3.5058902075816487\n",
      "\n",
      "Mean logWage for 26 year old men in 51 is: 0\n",
      "Mean logWage for 35 year old men in 51 is: 3.505890207581649\n",
      "\n",
      "Mean logWage for 26 year old men in 52 is: 3.309726258860922\n",
      "Mean logWage for 35 year old men in 52 is: 3.5058902075816487\n",
      "\n",
      "Mean logWage for 26 year old men in 53 is: 0\n",
      "Mean logWage for 35 year old men in 53 is: 3.5058902075816496\n",
      "\n",
      "Mean logWage for 26 year old men in 54 is: 3.309726258860922\n",
      "Mean logWage for 35 year old men in 54 is: 3.5058902075816496\n",
      "\n",
      "Mean logWage for 26 year old men in 55 is: 3.309726258860922\n",
      "Mean logWage for 35 year old men in 55 is: 3.50589020758165\n",
      "\n",
      "Mean logWage for 26 year old men in 56 is: 3.309726258860922\n",
      "Mean logWage for 35 year old men in 56 is: 3.505890207581649\n",
      "\n",
      "Mean logWage for 26 year old men in 57 is: 3.309726258860922\n",
      "Mean logWage for 35 year old men in 57 is: 3.505890207581649\n",
      "\n",
      "Mean logWage for 26 year old men in 58 is: 3.309726258860922\n",
      "Mean logWage for 35 year old men in 58 is: 3.5058902075816496\n",
      "\n",
      "Mean logWage for 26 year old men in 59 is: 3.309726258860922\n",
      "Mean logWage for 35 year old men in 59 is: 3.5058902075816505\n",
      "\n",
      "Mean logWage for 26 year old men in 61 is: 3.309726258860922\n",
      "Mean logWage for 35 year old men in 61 is: 3.5058902075816487\n",
      "\n",
      "Mean logWage for 26 year old men in 62 is: 3.309726258860922\n",
      "Mean logWage for 35 year old men in 62 is: 3.5058902075816496\n",
      "\n",
      "Mean logWage for 26 year old men in 63 is: 0\n",
      "Mean logWage for 35 year old men in 63 is: 3.505890207581648\n",
      "\n",
      "Mean logWage for 26 year old men in 64 is: 3.309726258860922\n",
      "Mean logWage for 35 year old men in 64 is: 3.50589020758165\n",
      "\n",
      "Mean logWage for 26 year old men in 71 is: 3.309726258860922\n",
      "Mean logWage for 35 year old men in 71 is: 3.50589020758165\n",
      "\n",
      "Mean logWage for 26 year old men in 72 is: 0\n",
      "Mean logWage for 35 year old men in 72 is: 3.5058902075816496\n",
      "\n",
      "Mean logWage for 26 year old men in 73 is: 3.309726258860922\n",
      "Mean logWage for 35 year old men in 73 is: 3.5058902075816483\n",
      "\n",
      "Mean logWage for 26 year old men in 74 is: 3.31579192255747\n",
      "Mean logWage for 35 year old men in 74 is: 3.514055524096233\n",
      "\n",
      "Mean logWage for 26 year old men in 81 is: 0\n",
      "Mean logWage for 35 year old men in 81 is: 3.50589020758165\n",
      "\n",
      "Mean logWage for 26 year old men in 82 is: 3.309726258860922\n",
      "Mean logWage for 35 year old men in 82 is: 3.50589020758165\n",
      "\n",
      "Mean logWage for 26 year old men in 83 is: 3.309726258860922\n",
      "Mean logWage for 35 year old men in 83 is: 3.5058902075816496\n",
      "\n",
      "Mean logWage for 26 year old men in 84 is: 3.3097262588609224\n",
      "Mean logWage for 35 year old men in 84 is: 3.5058902075816487\n",
      "\n",
      "Mean logWage for 26 year old men in 85 is: 3.309726258860922\n",
      "Mean logWage for 35 year old men in 85 is: 3.50589020758165\n",
      "\n",
      "Mean logWage for 26 year old men in 86 is: 3.309726258860922\n",
      "Mean logWage for 35 year old men in 86 is: 3.5058902075816483\n",
      "\n",
      "Mean logWage for 26 year old men in 87 is: 3.309726258860922\n",
      "Mean logWage for 35 year old men in 87 is: 3.5058902075816487\n",
      "\n",
      "Mean logWage for 26 year old men in 88 is: 0\n",
      "Mean logWage for 35 year old men in 88 is: 3.5058902075816496\n",
      "\n",
      "Mean logWage for 26 year old men in 91 is: 3.309726258860922\n",
      "Mean logWage for 35 year old men in 91 is: 3.505890207581649\n",
      "\n",
      "Mean logWage for 26 year old men in 92 is: 3.309726258860922\n",
      "Mean logWage for 35 year old men in 92 is: 3.5058902075816487\n",
      "\n",
      "Mean logWage for 26 year old men in 93 is: 3.316788462347684\n",
      "Mean logWage for 35 year old men in 93 is: 3.5153970199676747\n",
      "\n",
      "Mean logWage for 26 year old men in 94 is: 3.309726258860922\n",
      "Mean logWage for 35 year old men in 94 is: 3.5058902075816496\n",
      "\n",
      "Mean logWage for 26 year old men in 95 is: 3.309726258860922\n",
      "Mean logWage for 35 year old men in 95 is: 3.50589020758165\n",
      "\n"
     ]
    }
   ],
   "source": [
    "## Lasso regression with  5 fold cross validation \n",
    "from sklearn.linear_model import LassoCV\n",
    "lasso = LassoCV(cv=5)\n",
    "ls = lasso.fit(X_train, Y_train)\n",
    "\n",
    "\n",
    "res1_26 = {}\n",
    "res1_35 = {}\n",
    "# Predicting earnings for men age 26 for each state:\n",
    "for st in state_list:\n",
    "    subset = X_train.loc[(train['aged'] == 26) & (train['st'] == st)]\n",
    "    subset2 = X_train[(train['aged'] == 35) & (train['st'] == st)]\n",
    "    \n",
    "    if(len(subset)):\n",
    "        predict26 = ls.predict(subset).mean()\n",
    "        res1_26[st] = predict26\n",
    "    else:\n",
    "        predict26 = 0\n",
    "        res1_26[st] = predict26\n",
    "    if(len(subset2)):\n",
    "        predict35 = ls.predict(subset2).mean()\n",
    "        res1_35[st] = predict35\n",
    "    else:\n",
    "        predict26 = 0\n",
    "        res1_35[st] = predict35\n",
    "        \n",
    "        \n",
    "    \n",
    "    \n",
    "    print(f\"Mean logWage for 26 year old men in {st} is: {predict26}\")\n",
    "    print(f\"Mean logWage for 35 year old men in {st} is: {predict35}\\n\")\n",
    "    \n",
    "predicted_lasso = pd.DataFrame([res_26,res_35 ], index = ['26yr', '35yr']).T\n"
   ]
  },
  {
   "cell_type": "markdown",
   "metadata": {},
   "source": [
    "Based on the two models, what is the 'best' state for young men with a college degree? What is the best for men age 35?"
   ]
  },
  {
   "cell_type": "code",
   "execution_count": 197,
   "metadata": {},
   "outputs": [
    {
     "name": "stdout",
     "output_type": "stream",
     "text": [
      "OLS\n",
      "The state to live in for 26 year old is: 83\n",
      "The state to live in for 26 year old is: 94\n",
      "Lasso\n",
      "The state to live in for 26 year old is: 83\n",
      "The state to live in for 26 year old is: 94\n"
     ]
    }
   ],
   "source": [
    "best_26_linear = predicted_linear['26yr'].idxmax()\n",
    "best_35_linear = predicted_linear['35yr'].idxmax()\n",
    "print('OLS')\n",
    "print(f'The state to live in for 26 year old is: {best_26_linear}')\n",
    "print(f'The state to live in for 26 year old is: {best_35_linear}')\n",
    "\n",
    "best_26_lasso = predicted_lasso['26yr'].idxmax()\n",
    "best_35_lasso = predicted_lasso['35yr'].idxmax()\n",
    "print('Lasso')\n",
    "print(f'The state to live in for 26 year old is: {best_26_lasso}')\n",
    "print(f'The state to live in for 26 year old is: {best_35_lasso}')"
   ]
  },
  {
   "cell_type": "code",
   "execution_count": 221,
   "metadata": {},
   "outputs": [],
   "source": [
    "X_test['st_53'] = np.zeros(len(X_test))\n",
    "X_test['aged*st_53'] = np.zeros(len(X_test))\n"
   ]
  },
  {
   "cell_type": "code",
   "execution_count": 224,
   "metadata": {},
   "outputs": [
    {
     "name": "stdout",
     "output_type": "stream",
     "text": [
      "Linear Model RMSE: 1.0153703152743023\n",
      "Lasso Model RMSE: 0.26828621411714026\n"
     ]
    }
   ],
   "source": [
    "from sklearn.metrics import mean_squared_error\n",
    "\n",
    "linear_pred = lm.predict(X_test)\n",
    "lasso_pred = ls.predict(X_test)\n",
    "linear_RMSE = mean_squared_error(linear_pred, Y_test)\n",
    "lasso_RMSE = mean_squared_error(lasso_pred, Y_test)\n",
    "\n",
    "print(f\"Linear Model RMSE: {linear_RMSE}\")\n",
    "print(f\"Lasso Model RMSE: {lasso_RMSE}\")"
   ]
  },
  {
   "cell_type": "markdown",
   "metadata": {},
   "source": [
    "I do not know why my linear model is giving me an incorrect RMSE. However, from the graph below it should be indicated that the linear model does slightly better than the Lasso. "
   ]
  },
  {
   "cell_type": "code",
   "execution_count": 229,
   "metadata": {},
   "outputs": [
    {
     "data": {
      "image/png": "[encoded data removed]",
      "text/plain": [
       "<Figure size 432x288 with 1 Axes>"
      ]
     },
     "metadata": {
      "needs_background": "light"
     },
     "output_type": "display_data"
    }
   ],
   "source": [
    "final_df = df.loc[(df['rv'] > .75) & (df['educd'] == 16)].loc[:,['aged', 'logwaged']]\n",
    "final_df['lin_pred'] = linear_pred\n",
    "final_df['las_pred'] = lasso_pred\n",
    "final_df['ols RSS'] = final_df['logwaged'] - final_df['lin_pred']\n",
    "final_df['lasso RSS'] = final_df['logwaged'] - final_df['las_pred']\n",
    "\n",
    "#final_df.sort_values('aged', inplace = True)\n",
    "grouped = final_df.groupby('aged', as_index = False).mean()\n",
    "sns.scatterplot(x = 'aged', y = 'ols RSS', label = 'OLS', data = grouped)\n",
    "sns.scatterplot(x = 'aged', y = 'lasso RSS', label = 'Lasso', data = grouped)\n",
    "\n",
    "plt.title(\"OLS vs Lasso by Age of Dad (RSS)\")\n",
    "plt.xlabel(\"Dad Age\")\n",
    "plt.ylabel(\"Residual Sum of Squares\")\n",
    "\n",
    "plt.show()"
   ]
  },
  {
   "cell_type": "code",
   "execution_count": null,
   "metadata": {},
   "outputs": [],
   "source": []
  }
 ],
 "metadata": {
  "kernelspec": {
   "display_name": "Python 3",
   "language": "python",
   "name": "python3"
  },
  "language_info": {
   "codemirror_mode": {
    "name": "ipython",
    "version": 3
   },
   "file_extension": ".py",
   "mimetype": "text/x-python",
   "name": "python",
   "nbconvert_exporter": "python",
   "pygments_lexer": "ipython3",
   "version": "3.6.2"
  }
 },
 "nbformat": 4,
 "nbformat_minor": 2
}
